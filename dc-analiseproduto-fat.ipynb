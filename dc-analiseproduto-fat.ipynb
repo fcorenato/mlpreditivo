{
 "cells": [
  {
   "cell_type": "markdown",
   "metadata": {},
   "source": [
    "# Projeto de Machine Learning: Modelo de árvore de decisão para análise histórica de dados na criação de uma ferramenta preditiva e estratégica de renovação de estoque\n",
    "\n",
    "Dataset utilizado contem os dados de vendas dos produtos da empresa X de 2016 a 2019.\n",
    "O produto A, B e C são importados e levam 3 meses para serem entregues pelo fornecedor na china.\n",
    "\n",
    "# Objetivo\n",
    "\n",
    "1 - Verificar o hisorico de vendas e estoque disponivel de um produto e analisar se deve ser descontinuado ou adiquirido, tendo em vista as necesidades e estrategias comerciais da empresa.\n",
    "\n",
    "\n",
    "\n",
    "## O Dicionário de Dados\n",
    " \n",
    "**cod**: Código sequencial de inserção no banco de dados\n",
    "\n",
    "**numpedido**: Numero do documento de vendas\n",
    "\n",
    "**dataemissao**:Data em que a venda foi efetuada\n",
    "\n",
    "**mes**: Mês da venda\n",
    "\n",
    "**ano**: Ano da venda\n",
    "\n",
    "**nomecliente**: Nome generico do cliente\n",
    "\n",
    "**produto**: Codigo do Produto\n",
    "\n",
    "**qtde**: Quantidade vendida do produto\n",
    "\n",
    "**prcunit**: Preço unitário do produto\n",
    "\n",
    "**total**: Valor total (qtde * prcunit)\n",
    "\n",
    "**custounit**: Preço unitário do produto\n",
    "\n",
    "**margem**: Custo unitário do produto no dia da venda levando em consideração cambio de dolar, frete, estoque, despesas operacionais e impostos.\n",
    "\n",
    "**estoque**: Estoque atual do produto no ato da venda\n",
    "\n",
    "**compra**: Indica se deve ser emitido ordem de compra do produto."
   ]
  },
  {
   "cell_type": "markdown",
   "metadata": {},
   "source": [
    "## Importando as bibliotecas"
   ]
  },
  {
   "cell_type": "code",
   "execution_count": null,
   "metadata": {},
   "outputs": [],
   "source": [
    "import numpy as np\n",
    "import pandas as pd\n",
    "import seaborn as sns\n",
    "import matplotlib.pyplot as plt\n",
    "%matplotlib inline\n",
    "import warnings\n",
    "warnings.filterwarnings('ignore')"
   ]
  },
  {
   "cell_type": "markdown",
   "metadata": {},
   "source": [
    "## Acessando os dados"
   ]
  },
  {
   "cell_type": "code",
   "execution_count": null,
   "metadata": {},
   "outputs": [],
   "source": [
    "# Acessando banco de dados Mysql\n",
    "# Obs: Antes será necessário instalar o mysql.connector via commando no cmd (pip install mysql-connector-python)"
   ]
  },
  {
   "cell_type": "code",
   "execution_count": null,
   "metadata": {},
   "outputs": [],
   "source": [
    "from datetime import date\n",
    "import mysql.connector\n",
    "\n",
    "db_connection = mysql.connector.connect(host=\"108.167.132.74\", user=\"vetro057_dcroot\", passwd=\"@dc2020dc\", database=\"vetro057_dc\")\n",
    "\n",
    "data = pd.read_sql('SELECT * FROM fat19', con=db_connection)\n",
    "  \n",
    "db_connection.commit()\n",
    "db_connection.close()"
   ]
  },
  {
   "cell_type": "code",
   "execution_count": null,
   "metadata": {},
   "outputs": [],
   "source": [
    "#Exibindo os primeios 5 registros do dataset\n",
    "data.head(5)"
   ]
  },
  {
   "cell_type": "code",
   "execution_count": null,
   "metadata": {},
   "outputs": [],
   "source": [
    "data.corr()"
   ]
  },
  {
   "cell_type": "code",
   "execution_count": null,
   "metadata": {},
   "outputs": [],
   "source": [
    "#convertendo alguns tipos de dados:\n",
    "\n",
    "data['mes'] = data['mes'].astype(int)\n",
    "data['ano'] = data['ano'].astype(int)\n",
    "data['produto'] = data['produto'].astype(int)"
   ]
  },
  {
   "cell_type": "markdown",
   "metadata": {},
   "source": [
    "## Exploração dos dados\n"
   ]
  },
  {
   "cell_type": "code",
   "execution_count": null,
   "metadata": {},
   "outputs": [],
   "source": [
    "# Informaçõe gerais.\n",
    "data.info()"
   ]
  },
  {
   "cell_type": "code",
   "execution_count": null,
   "metadata": {},
   "outputs": [],
   "source": [
    "# Analisando se existe alguma coluna com dados NULL utilizando grafico de temperatura."
   ]
  },
  {
   "cell_type": "code",
   "execution_count": null,
   "metadata": {},
   "outputs": [],
   "source": [
    "sns.heatmap(data.isnull(), yticklabels=False,cbar=False,cmap='viridis')"
   ]
  },
  {
   "cell_type": "code",
   "execution_count": null,
   "metadata": {},
   "outputs": [],
   "source": [
    "#Removendo a coluna numpedido por conter alguns valores nulos e não ser um feature importante para a resolução do problema:\n",
    "data.drop(['numpedido'],axis=1, inplace=True)\n",
    "data.head(5)"
   ]
  },
  {
   "cell_type": "code",
   "execution_count": null,
   "metadata": {},
   "outputs": [],
   "source": [
    "# Vendas por Produto"
   ]
  },
  {
   "cell_type": "code",
   "execution_count": null,
   "metadata": {},
   "outputs": [],
   "source": [
    "sns.countplot(x='ano',hue='produto',data=data)"
   ]
  },
  {
   "cell_type": "code",
   "execution_count": null,
   "metadata": {},
   "outputs": [],
   "source": [
    "# Clintes que compraram no perído ordenado por quantidade comprada, idenficando os 10 princiais."
   ]
  },
  {
   "cell_type": "code",
   "execution_count": null,
   "metadata": {},
   "outputs": [],
   "source": [
    "by_cliente_produto = data[['nomecliente','produto','qtde']].groupby([\"nomecliente\"]).sum()\n",
    "topcliente = by_cliente_produto.sort_values(by=[\"qtde\"],ascending=False)\n",
    "topcliente.head(10)"
   ]
  },
  {
   "cell_type": "code",
   "execution_count": null,
   "metadata": {},
   "outputs": [],
   "source": [
    "# Calculando a media de venda por mes dos produtos"
   ]
  },
  {
   "cell_type": "code",
   "execution_count": null,
   "metadata": {},
   "outputs": [],
   "source": [
    "by_produto_ano = data[['produto','mes','qtde']].groupby([\"produto\",\"mes\"]).mean()\n",
    "by_produto_ano.sort_values(by='produto',ascending=True)"
   ]
  },
  {
   "cell_type": "code",
   "execution_count": null,
   "metadata": {},
   "outputs": [],
   "source": [
    "# Grafico de vendas por mes(todos os anos)"
   ]
  },
  {
   "cell_type": "code",
   "execution_count": null,
   "metadata": {},
   "outputs": [],
   "source": [
    "sns.lineplot(x=\"mes\", y=\"qtde\", data=data, estimator=np.sum)"
   ]
  },
  {
   "cell_type": "code",
   "execution_count": null,
   "metadata": {},
   "outputs": [],
   "source": [
    "# Vendas mensal(todos os anos) e Produto"
   ]
  },
  {
   "cell_type": "code",
   "execution_count": null,
   "metadata": {},
   "outputs": [],
   "source": [
    "sns.countplot(x='mes',hue='produto',data=data)"
   ]
  },
  {
   "cell_type": "markdown",
   "metadata": {},
   "source": [
    "# Tratando o dataset para treino\n"
   ]
  },
  {
   "cell_type": "code",
   "execution_count": null,
   "metadata": {},
   "outputs": [],
   "source": [
    "import pandas as pd\n",
    "import numpy as np\n",
    "import matplotlib.pyplot as plt # biblioteca de visualização utilizada pelo pandas e pelo seaborn\n",
    "import seaborn as sns # biblioteca de visualização com mais opções de gráficos\n",
    " #comando necessário para que as imagens sejam exibidas aqui mesmo no notebook\n",
    "%matplotlib inline"
   ]
  },
  {
   "cell_type": "code",
   "execution_count": null,
   "metadata": {},
   "outputs": [],
   "source": [
    "df = data\n",
    "df.head(5)"
   ]
  },
  {
   "cell_type": "code",
   "execution_count": null,
   "metadata": {},
   "outputs": [],
   "source": [
    "# Eliminar os atributos que nao influencia na analise"
   ]
  },
  {
   "cell_type": "code",
   "execution_count": null,
   "metadata": {
    "scrolled": true
   },
   "outputs": [],
   "source": [
    "df.drop(['cod','dataemissao','nomecliente'],axis=1, inplace=True)\n",
    "df.head(5)"
   ]
  },
  {
   "cell_type": "code",
   "execution_count": null,
   "metadata": {},
   "outputs": [],
   "source": [
    "# One Hot Encode -  Subtistuir valor da coluna Compra( Compra = 1 e NaoCompra = 0)"
   ]
  },
  {
   "cell_type": "code",
   "execution_count": null,
   "metadata": {},
   "outputs": [],
   "source": [
    "df[\"compra\"] = df[\"compra\"].replace(\"COMPRA\", \"1\")\n",
    "df[\"compra\"] = df[\"compra\"].replace(\"NAOCOMPRA\", \"0\")"
   ]
  },
  {
   "cell_type": "code",
   "execution_count": null,
   "metadata": {},
   "outputs": [],
   "source": [
    "#Verificando a coluna compra que antes estava nominal (COMPRA E NÃO) e agora está binária (0 e 1)\n",
    "df.head(5)"
   ]
  },
  {
   "cell_type": "code",
   "execution_count": null,
   "metadata": {},
   "outputs": [],
   "source": [
    "# Grafico mostrando a relação de decisões de compra ou não no dataset analisado.\n",
    "sns.countplot(x='ano',hue='compra',data=df)"
   ]
  },
  {
   "cell_type": "markdown",
   "metadata": {},
   "source": [
    "# 2. Treinar o Classificador"
   ]
  },
  {
   "cell_type": "code",
   "execution_count": null,
   "metadata": {},
   "outputs": [],
   "source": [
    "import itertools\n",
    "from sklearn.tree import DecisionTreeClassifier\n",
    "from sklearn.model_selection import train_test_split\n",
    "from sklearn.metrics import classification_report, confusion_matrix"
   ]
  },
  {
   "cell_type": "code",
   "execution_count": null,
   "metadata": {},
   "outputs": [],
   "source": [
    "train = df # Transferindo o dataset DF para train, para efetuar os treinos\n"
   ]
  },
  {
   "cell_type": "code",
   "execution_count": null,
   "metadata": {},
   "outputs": [],
   "source": [
    "X_train, X_test, y_train, y_test = train_test_split(train.drop(['compra'],axis=1), \n",
    "                                                    train['compra'], test_size=0.30, \n",
    "                                                    random_state=101)"
   ]
  },
  {
   "cell_type": "code",
   "execution_count": null,
   "metadata": {},
   "outputs": [],
   "source": [
    "# Criar um objeto do classificador DecisionTreeClassifier()\n",
    "dtc = DecisionTreeClassifier(max_depth=3)"
   ]
  },
  {
   "cell_type": "code",
   "execution_count": null,
   "metadata": {},
   "outputs": [],
   "source": [
    "# Treinar o modelo dtc chamando a função fit\n",
    "dtc.fit(X_train, y_train)"
   ]
  },
  {
   "cell_type": "code",
   "execution_count": null,
   "metadata": {},
   "outputs": [],
   "source": [
    "# Fazer as predições passanto o X_TEST\n",
    "predictions = dtc.predict(X_test)"
   ]
  },
  {
   "cell_type": "code",
   "execution_count": null,
   "metadata": {},
   "outputs": [],
   "source": [
    "# Matrix de confusão\n",
    "cnf_matrix = confusion_matrix(y_test, predictions)\n",
    "cnf_matrix"
   ]
  },
  {
   "cell_type": "code",
   "execution_count": null,
   "metadata": {},
   "outputs": [],
   "source": [
    "#Plotar matriz de confusão\n",
    "def plot_confusion_matrix(cm, classes,\n",
    "                          normalize=False,\n",
    "                          title='Confusion matrix',\n",
    "                          cmap=plt.cm.Blues):\n",
    "    \"\"\"\n",
    "    This function prints and plots the confusion matrix.\n",
    "    Normalization can be applied by setting `normalize=True`.\n",
    "    \"\"\"\n",
    "    if normalize:\n",
    "        cm = cm.astype('float') / cm.sum(axis=1)[:, np.newaxis]\n",
    "        print(\"Normalized confusion matrix\")\n",
    "    else:\n",
    "        print('Confusion matrix, without normalization')\n",
    "\n",
    "    print(cm)\n",
    "\n",
    "    plt.imshow(cm, interpolation='nearest', cmap=cmap)\n",
    "    plt.title(title)\n",
    "    plt.colorbar()\n",
    "    tick_marks = np.arange(len(classes))\n",
    "    plt.xticks(tick_marks, classes, rotation=45)\n",
    "    plt.yticks(tick_marks, classes)\n",
    "\n",
    "    fmt = '.2f' if normalize else 'd'\n",
    "    thresh = cm.max() / 2.\n",
    "    for i, j in itertools.product(range(cm.shape[0]), range(cm.shape[1])):\n",
    "        plt.text(j, i, format(cm[i, j], fmt),\n",
    "                 horizontalalignment=\"center\",\n",
    "                 color=\"white\" if cm[i, j] > thresh else \"black\")\n",
    "\n",
    "    plt.ylabel('True label')\n",
    "    plt.xlabel('Predicted label')\n",
    "    plt.tight_layout()"
   ]
  },
  {
   "cell_type": "code",
   "execution_count": null,
   "metadata": {},
   "outputs": [],
   "source": [
    "plot_confusion_matrix(cnf_matrix, classes=['Compra','NaoCompra'],\n",
    "                      title='Confusion matrix, without normalization')"
   ]
  },
  {
   "cell_type": "code",
   "execution_count": null,
   "metadata": {},
   "outputs": [],
   "source": [
    "print(classification_report(y_test,predictions))"
   ]
  },
  {
   "cell_type": "markdown",
   "metadata": {},
   "source": [
    "## Reavaliando o Modelo com validação cruzada"
   ]
  },
  {
   "cell_type": "code",
   "execution_count": null,
   "metadata": {},
   "outputs": [],
   "source": [
    "# validação cruzada para verificar se o modelo está em overfit\n",
    "#ordenando os dados de proposito para dificultar o trabalho do modelo"
   ]
  },
  {
   "cell_type": "code",
   "execution_count": null,
   "metadata": {},
   "outputs": [],
   "source": [
    "train2 = df.sort_values(\"compra\", ascending=True)  # Transferindo o dataset DF para train, para efetuar os treinos\n",
    "train2.head(5)"
   ]
  },
  {
   "cell_type": "code",
   "execution_count": null,
   "metadata": {},
   "outputs": [],
   "source": [
    "X_train, X_test, y_train, y_test = train_test_split(train2.drop(['compra'],axis=1), \n",
    "                                                    train2['compra'], test_size=0.30, \n",
    "                                                    random_state=101)"
   ]
  },
  {
   "cell_type": "code",
   "execution_count": null,
   "metadata": {},
   "outputs": [],
   "source": [
    "from sklearn.model_selection import cross_validate\n",
    "\n",
    "results = cross_validate(dtc, X_train, y_train, cv = 10, return_train_score=False)\n",
    "media = results['test_score'].mean()\n",
    "desvio_padrao = results['test_score'].std()\n",
    "print(\"Accuracy com cross validation, 10 = [%.2f, %.2f]\" % ((media - 2 * desvio_padrao)*100,\n",
    "                                                            (media + 2 * desvio_padrao) * 100))"
   ]
  },
  {
   "cell_type": "code",
   "execution_count": null,
   "metadata": {},
   "outputs": [],
   "source": [
    "#Variando de 89% a 96%, o cross validation confirmou a eficiência do modelo.\n",
    "\n",
    "#imprimir arvore de decisao"
   ]
  },
  {
   "cell_type": "markdown",
   "metadata": {},
   "source": [
    "## Treino final e arvovre de de decisão"
   ]
  },
  {
   "cell_type": "code",
   "execution_count": null,
   "metadata": {},
   "outputs": [],
   "source": [
    "from sklearn.tree import export_graphviz\n",
    "import graphviz\n",
    "\n",
    "#treina o modelo final\n",
    "dtc.fit(X_train, y_train)\n",
    "features = X_train.columns\n",
    "dot_data = export_graphviz(dtc, out_file=None, filled=True, rounded=True, \n",
    "                class_names=[\"não\", \"sim\"], \n",
    "                feature_names =  features)\n",
    "\n",
    "graph = graphviz.Source(dot_data)"
   ]
  },
  {
   "cell_type": "code",
   "execution_count": null,
   "metadata": {},
   "outputs": [],
   "source": [
    "graph"
   ]
  },
  {
   "cell_type": "code",
   "execution_count": null,
   "metadata": {},
   "outputs": [],
   "source": [
    "# Rank dos tributos mais relevantes"
   ]
  },
  {
   "cell_type": "code",
   "execution_count": null,
   "metadata": {},
   "outputs": [],
   "source": [
    "df_import_features = dict(zip(train.drop(['compra'],axis=1), dtc.feature_importances_))\n",
    "df_import_features = pd.DataFrame.from_dict(df_import_features, orient='index', columns = ['value'])\n",
    "df_import_features = df_import_features.sort_values(['value'], ascending=False)\n",
    "df_import_features"
   ]
  },
  {
   "cell_type": "code",
   "execution_count": null,
   "metadata": {},
   "outputs": [],
   "source": [
    "# Plotar atributos mais relevantes"
   ]
  },
  {
   "cell_type": "code",
   "execution_count": null,
   "metadata": {},
   "outputs": [],
   "source": [
    "import numpy as np\n",
    "import pandas as pd\n",
    "import seaborn as sns\n",
    "import matplotlib.pyplot as plt\n",
    "%matplotlib inline\n",
    "import warnings\n",
    "warnings.filterwarnings('ignore')"
   ]
  },
  {
   "cell_type": "code",
   "execution_count": null,
   "metadata": {},
   "outputs": [],
   "source": [
    "ax = sns.scatterplot(x=train[\"margem\"], y=train[\"prcunit\"], hue=\"compra\",data=train)"
   ]
  },
  {
   "cell_type": "code",
   "execution_count": null,
   "metadata": {},
   "outputs": [],
   "source": [
    "ax = sns.scatterplot(x=train[\"qtde\"], y=train[\"prcunit\"], hue=\"compra\",data=train)"
   ]
  },
  {
   "cell_type": "code",
   "execution_count": null,
   "metadata": {},
   "outputs": [],
   "source": [
    "ax = sns.scatterplot(x=train[\"qtde\"], y=train[\"estoque\"], hue=\"compra\",data=train)"
   ]
  },
  {
   "cell_type": "code",
   "execution_count": null,
   "metadata": {},
   "outputs": [],
   "source": [
    "ax = sns.scatterplot(x=train[\"margem\"], y=train[\"estoque\"], hue=\"compra\",data=train)"
   ]
  },
  {
   "cell_type": "markdown",
   "metadata": {},
   "source": [
    "## Teste unitário do modelo."
   ]
  },
  {
   "cell_type": "code",
   "execution_count": null,
   "metadata": {},
   "outputs": [],
   "source": [
    "train.head(0)"
   ]
  },
  {
   "cell_type": "code",
   "execution_count": null,
   "metadata": {},
   "outputs": [],
   "source": [
    "# Criando produtos ficticios contendo informações dos produtos a ser analisado pelo modelo.\n",
    "produto1 = [1,2019,4391,11,4.11,45.21,6.4655,-2.3555,260]\n",
    "produto2 = [8,2019,7,11,4.11,45.21,8.55,4.52,160,]"
   ]
  },
  {
   "cell_type": "code",
   "execution_count": null,
   "metadata": {},
   "outputs": [],
   "source": [
    "#Submetendo o Produto1 para o modelo analisar se comprar ou não. [0] = Nao compra  [1] = Compra\n",
    "dtc.predict([produto1])"
   ]
  },
  {
   "cell_type": "code",
   "execution_count": null,
   "metadata": {
    "scrolled": true
   },
   "outputs": [],
   "source": [
    "#Submetendo o Produto2 para o modelo analisar se comprar ou não. [0] = Nao compra  [1] = Compra\n",
    "dtc.predict([produto2])"
   ]
  },
  {
   "cell_type": "markdown",
   "metadata": {},
   "source": [
    "## Teste com dados reais"
   ]
  },
  {
   "cell_type": "code",
   "execution_count": 129,
   "metadata": {},
   "outputs": [
    {
     "name": "stdout",
     "output_type": "stream",
     "text": [
      "Qtde Registros:  135\n"
     ]
    }
   ],
   "source": [
    "#carregando dados para teste:\n",
    "dt_teste = pd.read_csv('Teste-01.csv')\n",
    "print(\"Qtde Registros: \",len(dt_teste))"
   ]
  },
  {
   "cell_type": "code",
   "execution_count": null,
   "metadata": {},
   "outputs": [],
   "source": [
    "dt_teste.head(3)"
   ]
  },
  {
   "cell_type": "code",
   "execution_count": null,
   "metadata": {},
   "outputs": [],
   "source": [
    "#tratando a base de teste:\n",
    "#convertendo tipos\n",
    "dt_teste['mes'] = dt_teste['mes'].astype(int)\n",
    "dt_teste['ano'] = dt_teste['ano'].astype(int)\n",
    "dt_teste['produto'] = dt_teste['produto'].astype(int)\n",
    "\n",
    "#excluindo colunas \n",
    "dt_teste.drop(['numpedido','cod','dataemissao','nomecliente'],axis=1, inplace=True)\n",
    "\n",
    "#one hot enconding\n",
    "dt_teste[\"compra\"] = dt_teste[\"compra\"].replace(\"COMPRA\", \"1\")\n",
    "dt_teste[\"compra\"] = dt_teste[\"compra\"].replace(\"NAOCOMPRA\", \"0\")\n",
    "\n",
    "dt_teste.head(3)"
   ]
  },
  {
   "cell_type": "code",
   "execution_count": null,
   "metadata": {},
   "outputs": [],
   "source": [
    "#array contendo o resultado já conhecido do dataset de teste\n",
    "testes_resultados = dt_teste['compra'].values\n",
    "testes_resultados"
   ]
  },
  {
   "cell_type": "code",
   "execution_count": null,
   "metadata": {},
   "outputs": [],
   "source": [
    "#dropando a coluna COMPRA para enviar o dt_teste_pred para o modelo\n",
    "dt_teste_pred = dt_teste\n",
    "dt_teste_pred.drop(['compra'],axis=1, inplace=True)\n",
    "dt_teste_pred.head(3)"
   ]
  },
  {
   "cell_type": "code",
   "execution_count": null,
   "metadata": {},
   "outputs": [],
   "source": [
    "# efetuando predições\n",
    "predicoes = dtc.predict(dt_teste_pred)\n",
    "predicoes"
   ]
  },
  {
   "cell_type": "code",
   "execution_count": 135,
   "metadata": {},
   "outputs": [
    {
     "name": "stdout",
     "output_type": "stream",
     "text": [
      "taxa de acerto =  91.85185185185185 %\n"
     ]
    }
   ],
   "source": [
    "# Calculando taxa de acertos\n",
    "acertos = (predicoes == testes_resultados).sum()\n",
    "total_registros = len(testes_resultados)\n",
    "taxa_acertos = acertos/total_registros\n",
    "print(\"taxa de acerto = \",taxa_acertos *100, \"%\")"
   ]
  },
  {
   "cell_type": "markdown",
   "metadata": {},
   "source": [
    "## Produto Final"
   ]
  },
  {
   "cell_type": "code",
   "execution_count": null,
   "metadata": {},
   "outputs": [],
   "source": [
    "#Exportando o modelo e colocando em produção\n",
    "from sklearn.externals import joblib\n",
    "joblib.dump(dtc, 'decision_tree.pk1')"
   ]
  },
  {
   "cell_type": "code",
   "execution_count": null,
   "metadata": {},
   "outputs": [],
   "source": [
    "#Criando API para prover o serviço de classificação\n",
    "from flask import Flask, jsonify, request\n",
    "\n",
    "# [1] importo o deserializador\n",
    "from sklearn.externals import joblib \n",
    "\n",
    "# [2] Carrego a classe de predição do diretório local\n",
    "dtc = joblib.load('decision_tree.pk1')\n",
    "\n",
    "app = Flask(__name__)\n",
    "\n",
    "@app.route('/compra_predictor')\n",
    "def compra_predictor():\n",
    "\n",
    "    # [3] Recupero as informações de uma Flor\n",
    "    mes = int(request.args.get('mes'))\n",
    "    ano = int(request.args.get('ano'))\n",
    "    produto = int(request.args.get('produto'))\n",
    "    qtde = int(request.args.get('qtde'))\n",
    "    prcunit = float(request.args.get('prcunit'))\n",
    "    total = float(request.args.get('total'))\n",
    "    custounit = float(request.args.get('custounit'))\n",
    "    margem = float(request.args.get('margem'))\n",
    "    estoque = int(request.args.get('estoque'))\n",
    "\n",
    "    event = [mes, ano, produto, qtde, prcunit, total, custounit, margem, estoque ]\n",
    "    target_names = ['NaoCompra', 'Compra']\n",
    "\n",
    "    # [4] Realiza predição com base no evento\n",
    "    prediction = dtc.predict([event])[0]\n",
    "    \n",
    "    res = int(prediction[0])\n",
    "    result = target_names[res]\n",
    "    \n",
    "    return jsonify(result), 200\n",
    "\n",
    "app.run()"
   ]
  },
  {
   "cell_type": "code",
   "execution_count": null,
   "metadata": {},
   "outputs": [],
   "source": [
    "#Testando a chamada a API"
   ]
  },
  {
   "cell_type": "code",
   "execution_count": null,
   "metadata": {},
   "outputs": [],
   "source": [
    "http://127.0.0.1:5000/compra_predictor?mes=8&ano=2019&produto=7&qtde=11&prcunit=4.11&total=45.21&custounit=8.55&margem=4.52&estoque=160"
   ]
  },
  {
   "cell_type": "code",
   "execution_count": null,
   "metadata": {},
   "outputs": [],
   "source": [
    "http://127.0.0.1:5000/compra_predictor?mes=1&ano=2019&produto=4391&qtde=11&prcunit=4.11&total=45.21&custounit=6.4655&margem=-2.3555&estoque=260"
   ]
  }
 ],
 "metadata": {
  "anaconda-cloud": {},
  "kernelspec": {
   "display_name": "Python 3",
   "language": "python",
   "name": "python3"
  },
  "language_info": {
   "codemirror_mode": {
    "name": "ipython",
    "version": 3
   },
   "file_extension": ".py",
   "mimetype": "text/x-python",
   "name": "python",
   "nbconvert_exporter": "python",
   "pygments_lexer": "ipython3",
   "version": "3.7.3"
  }
 },
 "nbformat": 4,
 "nbformat_minor": 2
}
