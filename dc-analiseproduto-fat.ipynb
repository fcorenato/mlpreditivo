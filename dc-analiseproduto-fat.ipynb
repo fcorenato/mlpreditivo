{
 "cells": [
  {
   "cell_type": "markdown",
   "metadata": {},
   "source": [
    "# Analise de vendas para ativar ou inativar produto para importação.\n",
    "\n",
    "Dataset utilizado contem os dados de vendas dos produtos da empresa X de 2016 a 2019.\n",
    "O produto A, B e C são importados e levam 3 meses para serem entregues pelo fornecedor na china.\n",
    "\n",
    "# Objetivo\n",
    "\n",
    "1 - Verificar o hisorico de vendas e estoque disponivel de um produto e analisar se deve ser descontinuado ou adiquirido, tendo em vista as necesidades e estrategias comerciais da empresa.\n",
    "\n",
    "\n",
    "\n",
    "## O Dicionário de Dados\n",
    "\n",
    "**Num. Pedido**: Numero do documento de vendas\n",
    "\n",
    "**DT Emissao, Mes,  Ano e Mes-ano**: Data em que a venda foi efetuada\n",
    "\n",
    "**Nome Cliente**: Nome generico do cliente\n",
    "\n",
    "**Produto**: Codigo do Produto\n",
    "\n",
    "**Descricao**: Descrição do Produto\n",
    "\n",
    "**Quantidade**: Quantidade vendida do produto\n",
    "\n",
    "**Estoque**: Estoque atual do produto no ato da venda\n",
    "\n",
    "**Compra**: Indica se deve ser emitido ordem de compra do produto.\n",
    "\n",
    "adicionar valor unitário, custo unitário, margem e o hanking de cliente (A, B, C)\n",
    "\n",
    "**prcunit**: Preço unitário do produto\n",
    "\n",
    "**custounit**: Custo unitário do produto no dia da venda levando em consideração cambio de dolar, frete, estoque, despesas operacionais e impostos.\n",
    "\n",
    "**margem**: Lucro bruto sobre o item vendido\n",
    "\n",
    "**tipcli**: Classificação do cliente (hanking)"
   ]
  },
  {
   "cell_type": "markdown",
   "metadata": {},
   "source": [
    "## Importando as bibliotecas"
   ]
  },
  {
   "cell_type": "code",
   "execution_count": 134,
   "metadata": {},
   "outputs": [],
   "source": [
    "import numpy as np\n",
    "import pandas as pd\n",
    "import seaborn as sns\n",
    "import matplotlib.pyplot as plt\n",
    "%matplotlib inline\n",
    "import warnings\n",
    "warnings.filterwarnings('ignore')"
   ]
  },
  {
   "cell_type": "markdown",
   "metadata": {},
   "source": [
    "## Acessando os dados"
   ]
  },
  {
   "cell_type": "code",
   "execution_count": 135,
   "metadata": {},
   "outputs": [],
   "source": [
    "# Acessando banco de dados Mysql\n",
    "# Obs: Antes será necessário instalar o mysql.connector via commando no cmd (pip install mysql-connector-python)"
   ]
  },
  {
   "cell_type": "code",
   "execution_count": 136,
   "metadata": {},
   "outputs": [],
   "source": [
    "from datetime import date\n",
    "import mysql.connector\n",
    "\n",
    "db_connection = mysql.connector.connect(host=\"108.167.132.74\", user=\"vetro057_dcroot\", passwd=\"@dc2020dc\", database=\"vetro057_dc\")\n",
    "\n",
    "data = pd.read_sql('SELECT * FROM fat19', con=db_connection)\n",
    "  \n",
    "db_connection.commit()\n",
    "db_connection.close()"
   ]
  },
  {
   "cell_type": "code",
   "execution_count": 137,
   "metadata": {},
   "outputs": [
    {
     "data": {
      "text/html": [
       "<div>\n",
       "<style scoped>\n",
       "    .dataframe tbody tr th:only-of-type {\n",
       "        vertical-align: middle;\n",
       "    }\n",
       "\n",
       "    .dataframe tbody tr th {\n",
       "        vertical-align: top;\n",
       "    }\n",
       "\n",
       "    .dataframe thead th {\n",
       "        text-align: right;\n",
       "    }\n",
       "</style>\n",
       "<table border=\"1\" class=\"dataframe\">\n",
       "  <thead>\n",
       "    <tr style=\"text-align: right;\">\n",
       "      <th></th>\n",
       "      <th>cod</th>\n",
       "      <th>numpedido</th>\n",
       "      <th>dataemissao</th>\n",
       "      <th>mes</th>\n",
       "      <th>ano</th>\n",
       "      <th>nomecliente</th>\n",
       "      <th>tipcli</th>\n",
       "      <th>produto</th>\n",
       "      <th>qtde</th>\n",
       "      <th>prcunit</th>\n",
       "      <th>total</th>\n",
       "      <th>custounit</th>\n",
       "      <th>margem</th>\n",
       "      <th>estoque</th>\n",
       "      <th>compra</th>\n",
       "    </tr>\n",
       "  </thead>\n",
       "  <tbody>\n",
       "    <tr>\n",
       "      <th>0</th>\n",
       "      <td>1</td>\n",
       "      <td>1371.0</td>\n",
       "      <td>03/01/2019</td>\n",
       "      <td>1</td>\n",
       "      <td>2019</td>\n",
       "      <td>CLI3460</td>\n",
       "      <td>A</td>\n",
       "      <td>5140</td>\n",
       "      <td>240</td>\n",
       "      <td>23.64</td>\n",
       "      <td>5673.60</td>\n",
       "      <td>10.232</td>\n",
       "      <td>13.408</td>\n",
       "      <td>530</td>\n",
       "      <td>COMPRA</td>\n",
       "    </tr>\n",
       "    <tr>\n",
       "      <th>1</th>\n",
       "      <td>2</td>\n",
       "      <td>1378.0</td>\n",
       "      <td>03/01/2019</td>\n",
       "      <td>1</td>\n",
       "      <td>2019</td>\n",
       "      <td>CLI3433</td>\n",
       "      <td>A</td>\n",
       "      <td>5140</td>\n",
       "      <td>48</td>\n",
       "      <td>23.64</td>\n",
       "      <td>1134.72</td>\n",
       "      <td>10.232</td>\n",
       "      <td>13.408</td>\n",
       "      <td>563</td>\n",
       "      <td>COMPRA</td>\n",
       "    </tr>\n",
       "    <tr>\n",
       "      <th>2</th>\n",
       "      <td>3</td>\n",
       "      <td>1388.0</td>\n",
       "      <td>03/01/2019</td>\n",
       "      <td>1</td>\n",
       "      <td>2019</td>\n",
       "      <td>CLI3455</td>\n",
       "      <td>A</td>\n",
       "      <td>5140</td>\n",
       "      <td>16</td>\n",
       "      <td>23.64</td>\n",
       "      <td>378.24</td>\n",
       "      <td>10.232</td>\n",
       "      <td>13.408</td>\n",
       "      <td>229</td>\n",
       "      <td>COMPRA</td>\n",
       "    </tr>\n",
       "    <tr>\n",
       "      <th>3</th>\n",
       "      <td>4</td>\n",
       "      <td>1391.0</td>\n",
       "      <td>03/01/2019</td>\n",
       "      <td>1</td>\n",
       "      <td>2019</td>\n",
       "      <td>CLI3587</td>\n",
       "      <td>A</td>\n",
       "      <td>5140</td>\n",
       "      <td>8</td>\n",
       "      <td>23.64</td>\n",
       "      <td>189.12</td>\n",
       "      <td>10.232</td>\n",
       "      <td>13.408</td>\n",
       "      <td>269</td>\n",
       "      <td>COMPRA</td>\n",
       "    </tr>\n",
       "    <tr>\n",
       "      <th>4</th>\n",
       "      <td>5</td>\n",
       "      <td>NaN</td>\n",
       "      <td>03/01/2019</td>\n",
       "      <td>1</td>\n",
       "      <td>2019</td>\n",
       "      <td>CLI3472</td>\n",
       "      <td>A</td>\n",
       "      <td>5140</td>\n",
       "      <td>8</td>\n",
       "      <td>23.64</td>\n",
       "      <td>189.12</td>\n",
       "      <td>9.050</td>\n",
       "      <td>14.590</td>\n",
       "      <td>119</td>\n",
       "      <td>COMPRA</td>\n",
       "    </tr>\n",
       "  </tbody>\n",
       "</table>\n",
       "</div>"
      ],
      "text/plain": [
       "   cod  numpedido dataemissao mes   ano nomecliente tipcli produto  qtde  \\\n",
       "0    1     1371.0  03/01/2019   1  2019     CLI3460      A    5140   240   \n",
       "1    2     1378.0  03/01/2019   1  2019     CLI3433      A    5140    48   \n",
       "2    3     1388.0  03/01/2019   1  2019     CLI3455      A    5140    16   \n",
       "3    4     1391.0  03/01/2019   1  2019     CLI3587      A    5140     8   \n",
       "4    5        NaN  03/01/2019   1  2019     CLI3472      A    5140     8   \n",
       "\n",
       "   prcunit    total  custounit  margem  estoque  compra  \n",
       "0    23.64  5673.60     10.232  13.408      530  COMPRA  \n",
       "1    23.64  1134.72     10.232  13.408      563  COMPRA  \n",
       "2    23.64   378.24     10.232  13.408      229  COMPRA  \n",
       "3    23.64   189.12     10.232  13.408      269  COMPRA  \n",
       "4    23.64   189.12      9.050  14.590      119  COMPRA  "
      ]
     },
     "execution_count": 137,
     "metadata": {},
     "output_type": "execute_result"
    }
   ],
   "source": [
    "#Exibindo os primeios 5 registros do dataset\n",
    "data.head(5)"
   ]
  },
  {
   "cell_type": "code",
   "execution_count": null,
   "metadata": {},
   "outputs": [],
   "source": [
    "data.corr()"
   ]
  },
  {
   "cell_type": "code",
   "execution_count": null,
   "metadata": {},
   "outputs": [],
   "source": [
    "#convertendo alguns tipos de dados:\n",
    "\n",
    "data['mes'] = data['mes'].astype(int)"
   ]
  },
  {
   "cell_type": "markdown",
   "metadata": {},
   "source": [
    "## Exploração dos dados\n"
   ]
  },
  {
   "cell_type": "code",
   "execution_count": 138,
   "metadata": {},
   "outputs": [
    {
     "name": "stdout",
     "output_type": "stream",
     "text": [
      "<class 'pandas.core.frame.DataFrame'>\n",
      "RangeIndex: 2823 entries, 0 to 2822\n",
      "Data columns (total 15 columns):\n",
      "cod            2823 non-null int64\n",
      "numpedido      2609 non-null float64\n",
      "dataemissao    2823 non-null object\n",
      "mes            2823 non-null object\n",
      "ano            2823 non-null object\n",
      "nomecliente    2823 non-null object\n",
      "tipcli         2823 non-null object\n",
      "produto        2823 non-null object\n",
      "qtde           2823 non-null int64\n",
      "prcunit        2823 non-null float64\n",
      "total          2823 non-null float64\n",
      "custounit      2823 non-null float64\n",
      "margem         2823 non-null float64\n",
      "estoque        2823 non-null int64\n",
      "compra         2823 non-null object\n",
      "dtypes: float64(5), int64(3), object(7)\n",
      "memory usage: 330.9+ KB\n"
     ]
    }
   ],
   "source": [
    "# Informaçõe gerais.\n",
    "data.info()"
   ]
  },
  {
   "cell_type": "code",
   "execution_count": 139,
   "metadata": {},
   "outputs": [],
   "source": [
    "# Analisando se existe alguma coluna com dados NULL utilizando grafico de temperatura."
   ]
  },
  {
   "cell_type": "code",
   "execution_count": 140,
   "metadata": {},
   "outputs": [
    {
     "data": {
      "text/plain": [
       "<matplotlib.axes._subplots.AxesSubplot at 0x28687c02588>"
      ]
     },
     "execution_count": 140,
     "metadata": {},
     "output_type": "execute_result"
    },
    {
     "data": {
      "image/png": "[encoded data removed]",
      "text/plain": [
       "<Figure size 432x288 with 1 Axes>"
      ]
     },
     "metadata": {
      "needs_background": "light"
     },
     "output_type": "display_data"
    }
   ],
   "source": [
    "sns.heatmap(data.isnull(), yticklabels=False,cbar=False,cmap='viridis')"
   ]
  },
  {
   "cell_type": "code",
   "execution_count": 141,
   "metadata": {},
   "outputs": [
    {
     "data": {
      "text/html": [
       "<div>\n",
       "<style scoped>\n",
       "    .dataframe tbody tr th:only-of-type {\n",
       "        vertical-align: middle;\n",
       "    }\n",
       "\n",
       "    .dataframe tbody tr th {\n",
       "        vertical-align: top;\n",
       "    }\n",
       "\n",
       "    .dataframe thead th {\n",
       "        text-align: right;\n",
       "    }\n",
       "</style>\n",
       "<table border=\"1\" class=\"dataframe\">\n",
       "  <thead>\n",
       "    <tr style=\"text-align: right;\">\n",
       "      <th></th>\n",
       "      <th>cod</th>\n",
       "      <th>dataemissao</th>\n",
       "      <th>mes</th>\n",
       "      <th>ano</th>\n",
       "      <th>nomecliente</th>\n",
       "      <th>tipcli</th>\n",
       "      <th>produto</th>\n",
       "      <th>qtde</th>\n",
       "      <th>prcunit</th>\n",
       "      <th>total</th>\n",
       "      <th>custounit</th>\n",
       "      <th>margem</th>\n",
       "      <th>estoque</th>\n",
       "      <th>compra</th>\n",
       "    </tr>\n",
       "  </thead>\n",
       "  <tbody>\n",
       "    <tr>\n",
       "      <th>0</th>\n",
       "      <td>1</td>\n",
       "      <td>03/01/2019</td>\n",
       "      <td>1</td>\n",
       "      <td>2019</td>\n",
       "      <td>CLI3460</td>\n",
       "      <td>A</td>\n",
       "      <td>5140</td>\n",
       "      <td>240</td>\n",
       "      <td>23.64</td>\n",
       "      <td>5673.60</td>\n",
       "      <td>10.232</td>\n",
       "      <td>13.408</td>\n",
       "      <td>530</td>\n",
       "      <td>COMPRA</td>\n",
       "    </tr>\n",
       "    <tr>\n",
       "      <th>1</th>\n",
       "      <td>2</td>\n",
       "      <td>03/01/2019</td>\n",
       "      <td>1</td>\n",
       "      <td>2019</td>\n",
       "      <td>CLI3433</td>\n",
       "      <td>A</td>\n",
       "      <td>5140</td>\n",
       "      <td>48</td>\n",
       "      <td>23.64</td>\n",
       "      <td>1134.72</td>\n",
       "      <td>10.232</td>\n",
       "      <td>13.408</td>\n",
       "      <td>563</td>\n",
       "      <td>COMPRA</td>\n",
       "    </tr>\n",
       "    <tr>\n",
       "      <th>2</th>\n",
       "      <td>3</td>\n",
       "      <td>03/01/2019</td>\n",
       "      <td>1</td>\n",
       "      <td>2019</td>\n",
       "      <td>CLI3455</td>\n",
       "      <td>A</td>\n",
       "      <td>5140</td>\n",
       "      <td>16</td>\n",
       "      <td>23.64</td>\n",
       "      <td>378.24</td>\n",
       "      <td>10.232</td>\n",
       "      <td>13.408</td>\n",
       "      <td>229</td>\n",
       "      <td>COMPRA</td>\n",
       "    </tr>\n",
       "    <tr>\n",
       "      <th>3</th>\n",
       "      <td>4</td>\n",
       "      <td>03/01/2019</td>\n",
       "      <td>1</td>\n",
       "      <td>2019</td>\n",
       "      <td>CLI3587</td>\n",
       "      <td>A</td>\n",
       "      <td>5140</td>\n",
       "      <td>8</td>\n",
       "      <td>23.64</td>\n",
       "      <td>189.12</td>\n",
       "      <td>10.232</td>\n",
       "      <td>13.408</td>\n",
       "      <td>269</td>\n",
       "      <td>COMPRA</td>\n",
       "    </tr>\n",
       "    <tr>\n",
       "      <th>4</th>\n",
       "      <td>5</td>\n",
       "      <td>03/01/2019</td>\n",
       "      <td>1</td>\n",
       "      <td>2019</td>\n",
       "      <td>CLI3472</td>\n",
       "      <td>A</td>\n",
       "      <td>5140</td>\n",
       "      <td>8</td>\n",
       "      <td>23.64</td>\n",
       "      <td>189.12</td>\n",
       "      <td>9.050</td>\n",
       "      <td>14.590</td>\n",
       "      <td>119</td>\n",
       "      <td>COMPRA</td>\n",
       "    </tr>\n",
       "  </tbody>\n",
       "</table>\n",
       "</div>"
      ],
      "text/plain": [
       "   cod dataemissao mes   ano nomecliente tipcli produto  qtde  prcunit  \\\n",
       "0    1  03/01/2019   1  2019     CLI3460      A    5140   240    23.64   \n",
       "1    2  03/01/2019   1  2019     CLI3433      A    5140    48    23.64   \n",
       "2    3  03/01/2019   1  2019     CLI3455      A    5140    16    23.64   \n",
       "3    4  03/01/2019   1  2019     CLI3587      A    5140     8    23.64   \n",
       "4    5  03/01/2019   1  2019     CLI3472      A    5140     8    23.64   \n",
       "\n",
       "     total  custounit  margem  estoque  compra  \n",
       "0  5673.60     10.232  13.408      530  COMPRA  \n",
       "1  1134.72     10.232  13.408      563  COMPRA  \n",
       "2   378.24     10.232  13.408      229  COMPRA  \n",
       "3   189.12     10.232  13.408      269  COMPRA  \n",
       "4   189.12      9.050  14.590      119  COMPRA  "
      ]
     },
     "execution_count": 141,
     "metadata": {},
     "output_type": "execute_result"
    }
   ],
   "source": [
    "#Removendo a coluna numpedido por conter alguns valores nulos e não ser um feature importante para a resolução do problema:\n",
    "data.drop(['numpedido'],axis=1, inplace=True)\n",
    "data.head(5)"
   ]
  },
  {
   "cell_type": "code",
   "execution_count": 142,
   "metadata": {},
   "outputs": [],
   "source": [
    "# Vendas por Produto"
   ]
  },
  {
   "cell_type": "code",
   "execution_count": 143,
   "metadata": {},
   "outputs": [
    {
     "data": {
      "text/plain": [
       "<matplotlib.axes._subplots.AxesSubplot at 0x28689fd6208>"
      ]
     },
     "execution_count": 143,
     "metadata": {},
     "output_type": "execute_result"
    },
    {
     "data": {
      "image/png": "[encoded data removed]",
      "text/plain": [
       "<Figure size 432x288 with 1 Axes>"
      ]
     },
     "metadata": {
      "needs_background": "light"
     },
     "output_type": "display_data"
    }
   ],
   "source": [
    "sns.countplot(x='ano',hue='produto',data=data)"
   ]
  },
  {
   "cell_type": "code",
   "execution_count": 144,
   "metadata": {},
   "outputs": [],
   "source": [
    "# Clintes que compraram no perído ordenado por quantidade comprada, idenficando os 10 princiais."
   ]
  },
  {
   "cell_type": "code",
   "execution_count": 145,
   "metadata": {},
   "outputs": [
    {
     "data": {
      "text/html": [
       "<div>\n",
       "<style scoped>\n",
       "    .dataframe tbody tr th:only-of-type {\n",
       "        vertical-align: middle;\n",
       "    }\n",
       "\n",
       "    .dataframe tbody tr th {\n",
       "        vertical-align: top;\n",
       "    }\n",
       "\n",
       "    .dataframe thead th {\n",
       "        text-align: right;\n",
       "    }\n",
       "</style>\n",
       "<table border=\"1\" class=\"dataframe\">\n",
       "  <thead>\n",
       "    <tr style=\"text-align: right;\">\n",
       "      <th></th>\n",
       "      <th>qtde</th>\n",
       "    </tr>\n",
       "    <tr>\n",
       "      <th>nomecliente</th>\n",
       "      <th></th>\n",
       "    </tr>\n",
       "  </thead>\n",
       "  <tbody>\n",
       "    <tr>\n",
       "      <th>CLI1889</th>\n",
       "      <td>65343</td>\n",
       "    </tr>\n",
       "    <tr>\n",
       "      <th>CLI3562</th>\n",
       "      <td>30997</td>\n",
       "    </tr>\n",
       "    <tr>\n",
       "      <th>CLI2259</th>\n",
       "      <td>11361</td>\n",
       "    </tr>\n",
       "    <tr>\n",
       "      <th>CLI3436</th>\n",
       "      <td>9814</td>\n",
       "    </tr>\n",
       "    <tr>\n",
       "      <th>CLI3460</th>\n",
       "      <td>9256</td>\n",
       "    </tr>\n",
       "    <tr>\n",
       "      <th>CLI3433</th>\n",
       "      <td>9111</td>\n",
       "    </tr>\n",
       "    <tr>\n",
       "      <th>CLI761</th>\n",
       "      <td>9086</td>\n",
       "    </tr>\n",
       "    <tr>\n",
       "      <th>CLI3454</th>\n",
       "      <td>7903</td>\n",
       "    </tr>\n",
       "    <tr>\n",
       "      <th>CLI3226</th>\n",
       "      <td>7526</td>\n",
       "    </tr>\n",
       "    <tr>\n",
       "      <th>CLI3060</th>\n",
       "      <td>6924</td>\n",
       "    </tr>\n",
       "  </tbody>\n",
       "</table>\n",
       "</div>"
      ],
      "text/plain": [
       "              qtde\n",
       "nomecliente       \n",
       "CLI1889      65343\n",
       "CLI3562      30997\n",
       "CLI2259      11361\n",
       "CLI3436       9814\n",
       "CLI3460       9256\n",
       "CLI3433       9111\n",
       "CLI761        9086\n",
       "CLI3454       7903\n",
       "CLI3226       7526\n",
       "CLI3060       6924"
      ]
     },
     "execution_count": 145,
     "metadata": {},
     "output_type": "execute_result"
    }
   ],
   "source": [
    "by_cliente_produto = data[['nomecliente','produto','qtde']].groupby([\"nomecliente\"]).sum()\n",
    "topcliente = by_cliente_produto.sort_values(by=[\"qtde\"],ascending=False)\n",
    "topcliente.head(10)"
   ]
  },
  {
   "cell_type": "code",
   "execution_count": 146,
   "metadata": {},
   "outputs": [],
   "source": [
    "# Calculando a media de venda por mes dos produtos"
   ]
  },
  {
   "cell_type": "code",
   "execution_count": 147,
   "metadata": {},
   "outputs": [
    {
     "data": {
      "text/html": [
       "<div>\n",
       "<style scoped>\n",
       "    .dataframe tbody tr th:only-of-type {\n",
       "        vertical-align: middle;\n",
       "    }\n",
       "\n",
       "    .dataframe tbody tr th {\n",
       "        vertical-align: top;\n",
       "    }\n",
       "\n",
       "    .dataframe thead th {\n",
       "        text-align: right;\n",
       "    }\n",
       "</style>\n",
       "<table border=\"1\" class=\"dataframe\">\n",
       "  <thead>\n",
       "    <tr style=\"text-align: right;\">\n",
       "      <th></th>\n",
       "      <th></th>\n",
       "      <th>qtde</th>\n",
       "    </tr>\n",
       "    <tr>\n",
       "      <th>produto</th>\n",
       "      <th>mes</th>\n",
       "      <th></th>\n",
       "    </tr>\n",
       "  </thead>\n",
       "  <tbody>\n",
       "    <tr>\n",
       "      <th rowspan=\"12\" valign=\"top\">4373</th>\n",
       "      <th>1</th>\n",
       "      <td>59.468750</td>\n",
       "    </tr>\n",
       "    <tr>\n",
       "      <th>9</th>\n",
       "      <td>87.588235</td>\n",
       "    </tr>\n",
       "    <tr>\n",
       "      <th>8</th>\n",
       "      <td>89.565217</td>\n",
       "    </tr>\n",
       "    <tr>\n",
       "      <th>7</th>\n",
       "      <td>176.371429</td>\n",
       "    </tr>\n",
       "    <tr>\n",
       "      <th>5</th>\n",
       "      <td>80.516129</td>\n",
       "    </tr>\n",
       "    <tr>\n",
       "      <th>4</th>\n",
       "      <td>71.222222</td>\n",
       "    </tr>\n",
       "    <tr>\n",
       "      <th>6</th>\n",
       "      <td>66.611111</td>\n",
       "    </tr>\n",
       "    <tr>\n",
       "      <th>2</th>\n",
       "      <td>138.973684</td>\n",
       "    </tr>\n",
       "    <tr>\n",
       "      <th>12</th>\n",
       "      <td>134.000000</td>\n",
       "    </tr>\n",
       "    <tr>\n",
       "      <th>11</th>\n",
       "      <td>140.466667</td>\n",
       "    </tr>\n",
       "    <tr>\n",
       "      <th>10</th>\n",
       "      <td>98.700000</td>\n",
       "    </tr>\n",
       "    <tr>\n",
       "      <th>3</th>\n",
       "      <td>95.562500</td>\n",
       "    </tr>\n",
       "    <tr>\n",
       "      <th rowspan=\"12\" valign=\"top\">4374</th>\n",
       "      <th>5</th>\n",
       "      <td>109.931034</td>\n",
       "    </tr>\n",
       "    <tr>\n",
       "      <th>9</th>\n",
       "      <td>312.833333</td>\n",
       "    </tr>\n",
       "    <tr>\n",
       "      <th>8</th>\n",
       "      <td>95.764706</td>\n",
       "    </tr>\n",
       "    <tr>\n",
       "      <th>7</th>\n",
       "      <td>56.750000</td>\n",
       "    </tr>\n",
       "    <tr>\n",
       "      <th>6</th>\n",
       "      <td>71.041667</td>\n",
       "    </tr>\n",
       "    <tr>\n",
       "      <th>4</th>\n",
       "      <td>60.790698</td>\n",
       "    </tr>\n",
       "    <tr>\n",
       "      <th>11</th>\n",
       "      <td>93.888889</td>\n",
       "    </tr>\n",
       "    <tr>\n",
       "      <th>2</th>\n",
       "      <td>110.370370</td>\n",
       "    </tr>\n",
       "    <tr>\n",
       "      <th>12</th>\n",
       "      <td>173.111111</td>\n",
       "    </tr>\n",
       "    <tr>\n",
       "      <th>10</th>\n",
       "      <td>91.333333</td>\n",
       "    </tr>\n",
       "    <tr>\n",
       "      <th>1</th>\n",
       "      <td>58.300000</td>\n",
       "    </tr>\n",
       "    <tr>\n",
       "      <th>3</th>\n",
       "      <td>67.100000</td>\n",
       "    </tr>\n",
       "    <tr>\n",
       "      <th rowspan=\"6\" valign=\"top\">4375</th>\n",
       "      <th>5</th>\n",
       "      <td>168.190476</td>\n",
       "    </tr>\n",
       "    <tr>\n",
       "      <th>9</th>\n",
       "      <td>158.052632</td>\n",
       "    </tr>\n",
       "    <tr>\n",
       "      <th>8</th>\n",
       "      <td>321.171875</td>\n",
       "    </tr>\n",
       "    <tr>\n",
       "      <th>7</th>\n",
       "      <td>154.938776</td>\n",
       "    </tr>\n",
       "    <tr>\n",
       "      <th>6</th>\n",
       "      <td>93.500000</td>\n",
       "    </tr>\n",
       "    <tr>\n",
       "      <th>4</th>\n",
       "      <td>74.347222</td>\n",
       "    </tr>\n",
       "    <tr>\n",
       "      <th>...</th>\n",
       "      <th>...</th>\n",
       "      <td>...</td>\n",
       "    </tr>\n",
       "    <tr>\n",
       "      <th rowspan=\"7\" valign=\"top\">4461</th>\n",
       "      <th>4</th>\n",
       "      <td>34.785714</td>\n",
       "    </tr>\n",
       "    <tr>\n",
       "      <th>10</th>\n",
       "      <td>55.875000</td>\n",
       "    </tr>\n",
       "    <tr>\n",
       "      <th>2</th>\n",
       "      <td>71.159091</td>\n",
       "    </tr>\n",
       "    <tr>\n",
       "      <th>12</th>\n",
       "      <td>59.125000</td>\n",
       "    </tr>\n",
       "    <tr>\n",
       "      <th>11</th>\n",
       "      <td>58.800000</td>\n",
       "    </tr>\n",
       "    <tr>\n",
       "      <th>1</th>\n",
       "      <td>71.238095</td>\n",
       "    </tr>\n",
       "    <tr>\n",
       "      <th>3</th>\n",
       "      <td>28.230769</td>\n",
       "    </tr>\n",
       "    <tr>\n",
       "      <th rowspan=\"12\" valign=\"top\">5140</th>\n",
       "      <th>9</th>\n",
       "      <td>91.071429</td>\n",
       "    </tr>\n",
       "    <tr>\n",
       "      <th>8</th>\n",
       "      <td>4.000000</td>\n",
       "    </tr>\n",
       "    <tr>\n",
       "      <th>7</th>\n",
       "      <td>1.000000</td>\n",
       "    </tr>\n",
       "    <tr>\n",
       "      <th>5</th>\n",
       "      <td>62.000000</td>\n",
       "    </tr>\n",
       "    <tr>\n",
       "      <th>4</th>\n",
       "      <td>4.285714</td>\n",
       "    </tr>\n",
       "    <tr>\n",
       "      <th>6</th>\n",
       "      <td>68.509091</td>\n",
       "    </tr>\n",
       "    <tr>\n",
       "      <th>2</th>\n",
       "      <td>54.925926</td>\n",
       "    </tr>\n",
       "    <tr>\n",
       "      <th>12</th>\n",
       "      <td>127.351351</td>\n",
       "    </tr>\n",
       "    <tr>\n",
       "      <th>11</th>\n",
       "      <td>70.800000</td>\n",
       "    </tr>\n",
       "    <tr>\n",
       "      <th>10</th>\n",
       "      <td>119.666667</td>\n",
       "    </tr>\n",
       "    <tr>\n",
       "      <th>1</th>\n",
       "      <td>56.195122</td>\n",
       "    </tr>\n",
       "    <tr>\n",
       "      <th>3</th>\n",
       "      <td>62.909091</td>\n",
       "    </tr>\n",
       "    <tr>\n",
       "      <th rowspan=\"11\" valign=\"top\">7</th>\n",
       "      <th>7</th>\n",
       "      <td>54.074074</td>\n",
       "    </tr>\n",
       "    <tr>\n",
       "      <th>6</th>\n",
       "      <td>48.750000</td>\n",
       "    </tr>\n",
       "    <tr>\n",
       "      <th>5</th>\n",
       "      <td>22.368421</td>\n",
       "    </tr>\n",
       "    <tr>\n",
       "      <th>4</th>\n",
       "      <td>229.900000</td>\n",
       "    </tr>\n",
       "    <tr>\n",
       "      <th>11</th>\n",
       "      <td>238.600000</td>\n",
       "    </tr>\n",
       "    <tr>\n",
       "      <th>2</th>\n",
       "      <td>14.916667</td>\n",
       "    </tr>\n",
       "    <tr>\n",
       "      <th>10</th>\n",
       "      <td>56.272727</td>\n",
       "    </tr>\n",
       "    <tr>\n",
       "      <th>1</th>\n",
       "      <td>235.066667</td>\n",
       "    </tr>\n",
       "    <tr>\n",
       "      <th>8</th>\n",
       "      <td>50.000000</td>\n",
       "    </tr>\n",
       "    <tr>\n",
       "      <th>3</th>\n",
       "      <td>20.800000</td>\n",
       "    </tr>\n",
       "    <tr>\n",
       "      <th>9</th>\n",
       "      <td>252.000000</td>\n",
       "    </tr>\n",
       "  </tbody>\n",
       "</table>\n",
       "<p>118 rows × 1 columns</p>\n",
       "</div>"
      ],
      "text/plain": [
       "                   qtde\n",
       "produto mes            \n",
       "4373    1     59.468750\n",
       "        9     87.588235\n",
       "        8     89.565217\n",
       "        7    176.371429\n",
       "        5     80.516129\n",
       "        4     71.222222\n",
       "        6     66.611111\n",
       "        2    138.973684\n",
       "        12   134.000000\n",
       "        11   140.466667\n",
       "        10    98.700000\n",
       "        3     95.562500\n",
       "4374    5    109.931034\n",
       "        9    312.833333\n",
       "        8     95.764706\n",
       "        7     56.750000\n",
       "        6     71.041667\n",
       "        4     60.790698\n",
       "        11    93.888889\n",
       "        2    110.370370\n",
       "        12   173.111111\n",
       "        10    91.333333\n",
       "        1     58.300000\n",
       "        3     67.100000\n",
       "4375    5    168.190476\n",
       "        9    158.052632\n",
       "        8    321.171875\n",
       "        7    154.938776\n",
       "        6     93.500000\n",
       "        4     74.347222\n",
       "...                 ...\n",
       "4461    4     34.785714\n",
       "        10    55.875000\n",
       "        2     71.159091\n",
       "        12    59.125000\n",
       "        11    58.800000\n",
       "        1     71.238095\n",
       "        3     28.230769\n",
       "5140    9     91.071429\n",
       "        8      4.000000\n",
       "        7      1.000000\n",
       "        5     62.000000\n",
       "        4      4.285714\n",
       "        6     68.509091\n",
       "        2     54.925926\n",
       "        12   127.351351\n",
       "        11    70.800000\n",
       "        10   119.666667\n",
       "        1     56.195122\n",
       "        3     62.909091\n",
       "7       7     54.074074\n",
       "        6     48.750000\n",
       "        5     22.368421\n",
       "        4    229.900000\n",
       "        11   238.600000\n",
       "        2     14.916667\n",
       "        10    56.272727\n",
       "        1    235.066667\n",
       "        8     50.000000\n",
       "        3     20.800000\n",
       "        9    252.000000\n",
       "\n",
       "[118 rows x 1 columns]"
      ]
     },
     "execution_count": 147,
     "metadata": {},
     "output_type": "execute_result"
    }
   ],
   "source": [
    "by_produto_ano = data[['produto','mes','qtde']].groupby([\"produto\",\"mes\"]).mean()\n",
    "by_produto_ano.sort_values(by='produto',ascending=True)"
   ]
  },
  {
   "cell_type": "code",
   "execution_count": 152,
   "metadata": {},
   "outputs": [],
   "source": [
    "# Grafico de vendas por mes(todos os anos)"
   ]
  },
  {
   "cell_type": "code",
   "execution_count": 153,
   "metadata": {},
   "outputs": [
    {
     "data": {
      "text/plain": [
       "<matplotlib.axes._subplots.AxesSubplot at 0x28689f82be0>"
      ]
     },
     "execution_count": 153,
     "metadata": {},
     "output_type": "execute_result"
    },
    {
     "data": {
      "image/png": "[encoded data removed]",
      "text/plain": [
       "<Figure size 432x288 with 1 Axes>"
      ]
     },
     "metadata": {
      "needs_background": "light"
     },
     "output_type": "display_data"
    }
   ],
   "source": [
    "sns.lineplot(x=\"mes\", y=\"qtde\", data=data, estimator=np.sum)"
   ]
  },
  {
   "cell_type": "code",
   "execution_count": 154,
   "metadata": {},
   "outputs": [],
   "source": [
    "# Vendas mensal(todos os anos) e Produto"
   ]
  },
  {
   "cell_type": "code",
   "execution_count": 155,
   "metadata": {},
   "outputs": [
    {
     "data": {
      "text/plain": [
       "<matplotlib.axes._subplots.AxesSubplot at 0x28689f50240>"
      ]
     },
     "execution_count": 155,
     "metadata": {},
     "output_type": "execute_result"
    },
    {
     "data": {
      "image/png": "[encoded data removed]",
      "text/plain": [
       "<Figure size 432x288 with 1 Axes>"
      ]
     },
     "metadata": {
      "needs_background": "light"
     },
     "output_type": "display_data"
    }
   ],
   "source": [
    "sns.countplot(x='mes',hue='produto',data=data)"
   ]
  },
  {
   "cell_type": "code",
   "execution_count": 156,
   "metadata": {},
   "outputs": [],
   "source": [
    "# Venda Méida Por Mes(todos os anos) e Produto"
   ]
  },
  {
   "cell_type": "code",
   "execution_count": 157,
   "metadata": {},
   "outputs": [
    {
     "data": {
      "text/plain": [
       "<seaborn.axisgrid.FacetGrid at 0x2868763ada0>"
      ]
     },
     "execution_count": 157,
     "metadata": {},
     "output_type": "execute_result"
    },
    {
     "data": {
      "image/png": "[encoded data removed]",
      "text/plain": [
       "<Figure size 3600x360 with 10 Axes>"
      ]
     },
     "metadata": {
      "needs_background": "light"
     },
     "output_type": "display_data"
    }
   ],
   "source": [
    "sns.catplot(x='mes', hue='produto', col='produto', kind='count', data=data, estimator=np.mean)"
   ]
  },
  {
   "cell_type": "markdown",
   "metadata": {},
   "source": [
    "# Tratando o dataset para treino\n"
   ]
  },
  {
   "cell_type": "code",
   "execution_count": 162,
   "metadata": {},
   "outputs": [],
   "source": [
    "import pandas as pd\n",
    "import numpy as np\n",
    "import matplotlib.pyplot as plt # biblioteca de visualização utilizada pelo pandas e pelo seaborn\n",
    "import seaborn as sns # biblioteca de visualização com mais opções de gráficos\n",
    " #comando necessário para que as imagens sejam exibidas aqui mesmo no notebook\n",
    "%matplotlib inline"
   ]
  },
  {
   "cell_type": "code",
   "execution_count": 163,
   "metadata": {},
   "outputs": [
    {
     "data": {
      "text/html": [
       "<div>\n",
       "<style scoped>\n",
       "    .dataframe tbody tr th:only-of-type {\n",
       "        vertical-align: middle;\n",
       "    }\n",
       "\n",
       "    .dataframe tbody tr th {\n",
       "        vertical-align: top;\n",
       "    }\n",
       "\n",
       "    .dataframe thead th {\n",
       "        text-align: right;\n",
       "    }\n",
       "</style>\n",
       "<table border=\"1\" class=\"dataframe\">\n",
       "  <thead>\n",
       "    <tr style=\"text-align: right;\">\n",
       "      <th></th>\n",
       "      <th>cod</th>\n",
       "      <th>dataemissao</th>\n",
       "      <th>mes</th>\n",
       "      <th>ano</th>\n",
       "      <th>nomecliente</th>\n",
       "      <th>tipcli</th>\n",
       "      <th>produto</th>\n",
       "      <th>qtde</th>\n",
       "      <th>prcunit</th>\n",
       "      <th>total</th>\n",
       "      <th>custounit</th>\n",
       "      <th>margem</th>\n",
       "      <th>estoque</th>\n",
       "      <th>compra</th>\n",
       "    </tr>\n",
       "  </thead>\n",
       "  <tbody>\n",
       "    <tr>\n",
       "      <th>0</th>\n",
       "      <td>1</td>\n",
       "      <td>03/01/2019</td>\n",
       "      <td>1</td>\n",
       "      <td>2019</td>\n",
       "      <td>CLI3460</td>\n",
       "      <td>A</td>\n",
       "      <td>5140</td>\n",
       "      <td>240</td>\n",
       "      <td>23.64</td>\n",
       "      <td>5673.60</td>\n",
       "      <td>10.232</td>\n",
       "      <td>13.408</td>\n",
       "      <td>530</td>\n",
       "      <td>COMPRA</td>\n",
       "    </tr>\n",
       "    <tr>\n",
       "      <th>1</th>\n",
       "      <td>2</td>\n",
       "      <td>03/01/2019</td>\n",
       "      <td>1</td>\n",
       "      <td>2019</td>\n",
       "      <td>CLI3433</td>\n",
       "      <td>A</td>\n",
       "      <td>5140</td>\n",
       "      <td>48</td>\n",
       "      <td>23.64</td>\n",
       "      <td>1134.72</td>\n",
       "      <td>10.232</td>\n",
       "      <td>13.408</td>\n",
       "      <td>563</td>\n",
       "      <td>COMPRA</td>\n",
       "    </tr>\n",
       "    <tr>\n",
       "      <th>2</th>\n",
       "      <td>3</td>\n",
       "      <td>03/01/2019</td>\n",
       "      <td>1</td>\n",
       "      <td>2019</td>\n",
       "      <td>CLI3455</td>\n",
       "      <td>A</td>\n",
       "      <td>5140</td>\n",
       "      <td>16</td>\n",
       "      <td>23.64</td>\n",
       "      <td>378.24</td>\n",
       "      <td>10.232</td>\n",
       "      <td>13.408</td>\n",
       "      <td>229</td>\n",
       "      <td>COMPRA</td>\n",
       "    </tr>\n",
       "    <tr>\n",
       "      <th>3</th>\n",
       "      <td>4</td>\n",
       "      <td>03/01/2019</td>\n",
       "      <td>1</td>\n",
       "      <td>2019</td>\n",
       "      <td>CLI3587</td>\n",
       "      <td>A</td>\n",
       "      <td>5140</td>\n",
       "      <td>8</td>\n",
       "      <td>23.64</td>\n",
       "      <td>189.12</td>\n",
       "      <td>10.232</td>\n",
       "      <td>13.408</td>\n",
       "      <td>269</td>\n",
       "      <td>COMPRA</td>\n",
       "    </tr>\n",
       "    <tr>\n",
       "      <th>4</th>\n",
       "      <td>5</td>\n",
       "      <td>03/01/2019</td>\n",
       "      <td>1</td>\n",
       "      <td>2019</td>\n",
       "      <td>CLI3472</td>\n",
       "      <td>A</td>\n",
       "      <td>5140</td>\n",
       "      <td>8</td>\n",
       "      <td>23.64</td>\n",
       "      <td>189.12</td>\n",
       "      <td>9.050</td>\n",
       "      <td>14.590</td>\n",
       "      <td>119</td>\n",
       "      <td>COMPRA</td>\n",
       "    </tr>\n",
       "  </tbody>\n",
       "</table>\n",
       "</div>"
      ],
      "text/plain": [
       "   cod dataemissao mes   ano nomecliente tipcli produto  qtde  prcunit  \\\n",
       "0    1  03/01/2019   1  2019     CLI3460      A    5140   240    23.64   \n",
       "1    2  03/01/2019   1  2019     CLI3433      A    5140    48    23.64   \n",
       "2    3  03/01/2019   1  2019     CLI3455      A    5140    16    23.64   \n",
       "3    4  03/01/2019   1  2019     CLI3587      A    5140     8    23.64   \n",
       "4    5  03/01/2019   1  2019     CLI3472      A    5140     8    23.64   \n",
       "\n",
       "     total  custounit  margem  estoque  compra  \n",
       "0  5673.60     10.232  13.408      530  COMPRA  \n",
       "1  1134.72     10.232  13.408      563  COMPRA  \n",
       "2   378.24     10.232  13.408      229  COMPRA  \n",
       "3   189.12     10.232  13.408      269  COMPRA  \n",
       "4   189.12      9.050  14.590      119  COMPRA  "
      ]
     },
     "execution_count": 163,
     "metadata": {},
     "output_type": "execute_result"
    }
   ],
   "source": [
    "df = data\n",
    "df.head(5)"
   ]
  },
  {
   "cell_type": "code",
   "execution_count": 164,
   "metadata": {},
   "outputs": [],
   "source": [
    "# Elimar os atributos que nao influencia na analise"
   ]
  },
  {
   "cell_type": "code",
   "execution_count": 165,
   "metadata": {},
   "outputs": [
    {
     "data": {
      "text/html": [
       "<div>\n",
       "<style scoped>\n",
       "    .dataframe tbody tr th:only-of-type {\n",
       "        vertical-align: middle;\n",
       "    }\n",
       "\n",
       "    .dataframe tbody tr th {\n",
       "        vertical-align: top;\n",
       "    }\n",
       "\n",
       "    .dataframe thead th {\n",
       "        text-align: right;\n",
       "    }\n",
       "</style>\n",
       "<table border=\"1\" class=\"dataframe\">\n",
       "  <thead>\n",
       "    <tr style=\"text-align: right;\">\n",
       "      <th></th>\n",
       "      <th>mes</th>\n",
       "      <th>ano</th>\n",
       "      <th>tipcli</th>\n",
       "      <th>produto</th>\n",
       "      <th>qtde</th>\n",
       "      <th>prcunit</th>\n",
       "      <th>total</th>\n",
       "      <th>custounit</th>\n",
       "      <th>margem</th>\n",
       "      <th>estoque</th>\n",
       "      <th>compra</th>\n",
       "    </tr>\n",
       "  </thead>\n",
       "  <tbody>\n",
       "    <tr>\n",
       "      <th>0</th>\n",
       "      <td>1</td>\n",
       "      <td>2019</td>\n",
       "      <td>A</td>\n",
       "      <td>5140</td>\n",
       "      <td>240</td>\n",
       "      <td>23.64</td>\n",
       "      <td>5673.60</td>\n",
       "      <td>10.232</td>\n",
       "      <td>13.408</td>\n",
       "      <td>530</td>\n",
       "      <td>COMPRA</td>\n",
       "    </tr>\n",
       "    <tr>\n",
       "      <th>1</th>\n",
       "      <td>1</td>\n",
       "      <td>2019</td>\n",
       "      <td>A</td>\n",
       "      <td>5140</td>\n",
       "      <td>48</td>\n",
       "      <td>23.64</td>\n",
       "      <td>1134.72</td>\n",
       "      <td>10.232</td>\n",
       "      <td>13.408</td>\n",
       "      <td>563</td>\n",
       "      <td>COMPRA</td>\n",
       "    </tr>\n",
       "    <tr>\n",
       "      <th>2</th>\n",
       "      <td>1</td>\n",
       "      <td>2019</td>\n",
       "      <td>A</td>\n",
       "      <td>5140</td>\n",
       "      <td>16</td>\n",
       "      <td>23.64</td>\n",
       "      <td>378.24</td>\n",
       "      <td>10.232</td>\n",
       "      <td>13.408</td>\n",
       "      <td>229</td>\n",
       "      <td>COMPRA</td>\n",
       "    </tr>\n",
       "    <tr>\n",
       "      <th>3</th>\n",
       "      <td>1</td>\n",
       "      <td>2019</td>\n",
       "      <td>A</td>\n",
       "      <td>5140</td>\n",
       "      <td>8</td>\n",
       "      <td>23.64</td>\n",
       "      <td>189.12</td>\n",
       "      <td>10.232</td>\n",
       "      <td>13.408</td>\n",
       "      <td>269</td>\n",
       "      <td>COMPRA</td>\n",
       "    </tr>\n",
       "    <tr>\n",
       "      <th>4</th>\n",
       "      <td>1</td>\n",
       "      <td>2019</td>\n",
       "      <td>A</td>\n",
       "      <td>5140</td>\n",
       "      <td>8</td>\n",
       "      <td>23.64</td>\n",
       "      <td>189.12</td>\n",
       "      <td>9.050</td>\n",
       "      <td>14.590</td>\n",
       "      <td>119</td>\n",
       "      <td>COMPRA</td>\n",
       "    </tr>\n",
       "    <tr>\n",
       "      <th>5</th>\n",
       "      <td>1</td>\n",
       "      <td>2019</td>\n",
       "      <td>A</td>\n",
       "      <td>5140</td>\n",
       "      <td>24</td>\n",
       "      <td>23.64</td>\n",
       "      <td>567.36</td>\n",
       "      <td>10.232</td>\n",
       "      <td>13.408</td>\n",
       "      <td>341</td>\n",
       "      <td>COMPRA</td>\n",
       "    </tr>\n",
       "    <tr>\n",
       "      <th>6</th>\n",
       "      <td>1</td>\n",
       "      <td>2019</td>\n",
       "      <td>A</td>\n",
       "      <td>5140</td>\n",
       "      <td>72</td>\n",
       "      <td>23.64</td>\n",
       "      <td>1702.08</td>\n",
       "      <td>10.232</td>\n",
       "      <td>13.408</td>\n",
       "      <td>34</td>\n",
       "      <td>COMPRA</td>\n",
       "    </tr>\n",
       "    <tr>\n",
       "      <th>7</th>\n",
       "      <td>1</td>\n",
       "      <td>2019</td>\n",
       "      <td>B</td>\n",
       "      <td>5140</td>\n",
       "      <td>8</td>\n",
       "      <td>25.00</td>\n",
       "      <td>200.00</td>\n",
       "      <td>10.300</td>\n",
       "      <td>14.700</td>\n",
       "      <td>152</td>\n",
       "      <td>COMPRA</td>\n",
       "    </tr>\n",
       "    <tr>\n",
       "      <th>8</th>\n",
       "      <td>1</td>\n",
       "      <td>2019</td>\n",
       "      <td>A</td>\n",
       "      <td>5140</td>\n",
       "      <td>8</td>\n",
       "      <td>23.64</td>\n",
       "      <td>189.12</td>\n",
       "      <td>9.050</td>\n",
       "      <td>14.590</td>\n",
       "      <td>256</td>\n",
       "      <td>COMPRA</td>\n",
       "    </tr>\n",
       "    <tr>\n",
       "      <th>9</th>\n",
       "      <td>1</td>\n",
       "      <td>2019</td>\n",
       "      <td>A</td>\n",
       "      <td>5140</td>\n",
       "      <td>32</td>\n",
       "      <td>23.64</td>\n",
       "      <td>756.48</td>\n",
       "      <td>9.050</td>\n",
       "      <td>14.590</td>\n",
       "      <td>19</td>\n",
       "      <td>COMPRA</td>\n",
       "    </tr>\n",
       "  </tbody>\n",
       "</table>\n",
       "</div>"
      ],
      "text/plain": [
       "  mes   ano tipcli produto  qtde  prcunit    total  custounit  margem  \\\n",
       "0   1  2019      A    5140   240    23.64  5673.60     10.232  13.408   \n",
       "1   1  2019      A    5140    48    23.64  1134.72     10.232  13.408   \n",
       "2   1  2019      A    5140    16    23.64   378.24     10.232  13.408   \n",
       "3   1  2019      A    5140     8    23.64   189.12     10.232  13.408   \n",
       "4   1  2019      A    5140     8    23.64   189.12      9.050  14.590   \n",
       "5   1  2019      A    5140    24    23.64   567.36     10.232  13.408   \n",
       "6   1  2019      A    5140    72    23.64  1702.08     10.232  13.408   \n",
       "7   1  2019      B    5140     8    25.00   200.00     10.300  14.700   \n",
       "8   1  2019      A    5140     8    23.64   189.12      9.050  14.590   \n",
       "9   1  2019      A    5140    32    23.64   756.48      9.050  14.590   \n",
       "\n",
       "   estoque  compra  \n",
       "0      530  COMPRA  \n",
       "1      563  COMPRA  \n",
       "2      229  COMPRA  \n",
       "3      269  COMPRA  \n",
       "4      119  COMPRA  \n",
       "5      341  COMPRA  \n",
       "6       34  COMPRA  \n",
       "7      152  COMPRA  \n",
       "8      256  COMPRA  \n",
       "9       19  COMPRA  "
      ]
     },
     "execution_count": 165,
     "metadata": {},
     "output_type": "execute_result"
    }
   ],
   "source": [
    "df.drop(['cod','dataemissao','nomecliente'],axis=1, inplace=True)\n",
    "df.head(10)"
   ]
  },
  {
   "cell_type": "code",
   "execution_count": 166,
   "metadata": {},
   "outputs": [],
   "source": [
    "# Converter tipo cliente em One Hot Encode"
   ]
  },
  {
   "cell_type": "code",
   "execution_count": 167,
   "metadata": {},
   "outputs": [
    {
     "data": {
      "text/html": [
       "<div>\n",
       "<style scoped>\n",
       "    .dataframe tbody tr th:only-of-type {\n",
       "        vertical-align: middle;\n",
       "    }\n",
       "\n",
       "    .dataframe tbody tr th {\n",
       "        vertical-align: top;\n",
       "    }\n",
       "\n",
       "    .dataframe thead th {\n",
       "        text-align: right;\n",
       "    }\n",
       "</style>\n",
       "<table border=\"1\" class=\"dataframe\">\n",
       "  <thead>\n",
       "    <tr style=\"text-align: right;\">\n",
       "      <th></th>\n",
       "      <th>mes</th>\n",
       "      <th>ano</th>\n",
       "      <th>produto</th>\n",
       "      <th>qtde</th>\n",
       "      <th>prcunit</th>\n",
       "      <th>total</th>\n",
       "      <th>custounit</th>\n",
       "      <th>margem</th>\n",
       "      <th>estoque</th>\n",
       "      <th>compra</th>\n",
       "      <th>tipcli_A</th>\n",
       "      <th>tipcli_B</th>\n",
       "      <th>tipcli_C</th>\n",
       "    </tr>\n",
       "  </thead>\n",
       "  <tbody>\n",
       "    <tr>\n",
       "      <th>0</th>\n",
       "      <td>1</td>\n",
       "      <td>2019</td>\n",
       "      <td>5140</td>\n",
       "      <td>240</td>\n",
       "      <td>23.64</td>\n",
       "      <td>5673.60</td>\n",
       "      <td>10.232</td>\n",
       "      <td>13.408</td>\n",
       "      <td>530</td>\n",
       "      <td>COMPRA</td>\n",
       "      <td>1</td>\n",
       "      <td>0</td>\n",
       "      <td>0</td>\n",
       "    </tr>\n",
       "    <tr>\n",
       "      <th>1</th>\n",
       "      <td>1</td>\n",
       "      <td>2019</td>\n",
       "      <td>5140</td>\n",
       "      <td>48</td>\n",
       "      <td>23.64</td>\n",
       "      <td>1134.72</td>\n",
       "      <td>10.232</td>\n",
       "      <td>13.408</td>\n",
       "      <td>563</td>\n",
       "      <td>COMPRA</td>\n",
       "      <td>1</td>\n",
       "      <td>0</td>\n",
       "      <td>0</td>\n",
       "    </tr>\n",
       "    <tr>\n",
       "      <th>2</th>\n",
       "      <td>1</td>\n",
       "      <td>2019</td>\n",
       "      <td>5140</td>\n",
       "      <td>16</td>\n",
       "      <td>23.64</td>\n",
       "      <td>378.24</td>\n",
       "      <td>10.232</td>\n",
       "      <td>13.408</td>\n",
       "      <td>229</td>\n",
       "      <td>COMPRA</td>\n",
       "      <td>1</td>\n",
       "      <td>0</td>\n",
       "      <td>0</td>\n",
       "    </tr>\n",
       "  </tbody>\n",
       "</table>\n",
       "</div>"
      ],
      "text/plain": [
       "  mes   ano produto  qtde  prcunit    total  custounit  margem  estoque  \\\n",
       "0   1  2019    5140   240    23.64  5673.60     10.232  13.408      530   \n",
       "1   1  2019    5140    48    23.64  1134.72     10.232  13.408      563   \n",
       "2   1  2019    5140    16    23.64   378.24     10.232  13.408      229   \n",
       "\n",
       "   compra  tipcli_A  tipcli_B  tipcli_C  \n",
       "0  COMPRA         1         0         0  \n",
       "1  COMPRA         1         0         0  \n",
       "2  COMPRA         1         0         0  "
      ]
     },
     "execution_count": 167,
     "metadata": {},
     "output_type": "execute_result"
    }
   ],
   "source": [
    "df=pd.concat([df,pd.get_dummies(df['tipcli'],prefix='tipcli')], axis=1)\n",
    "df.drop(['tipcli'],axis=1, inplace=True)\n",
    "df.head(3)"
   ]
  },
  {
   "cell_type": "code",
   "execution_count": 168,
   "metadata": {},
   "outputs": [],
   "source": [
    "# Subtistuir valor da coluna Compra( Compra = 1 e NaoCompra = 0)"
   ]
  },
  {
   "cell_type": "code",
   "execution_count": 169,
   "metadata": {},
   "outputs": [],
   "source": [
    "df[\"compra\"] = df[\"compra\"].replace(\"COMPRA\", \"1\")\n",
    "df[\"compra\"] = df[\"compra\"].replace(\"NAOCOMPRA\", \"0\")"
   ]
  },
  {
   "cell_type": "code",
   "execution_count": 170,
   "metadata": {},
   "outputs": [
    {
     "data": {
      "text/html": [
       "<div>\n",
       "<style scoped>\n",
       "    .dataframe tbody tr th:only-of-type {\n",
       "        vertical-align: middle;\n",
       "    }\n",
       "\n",
       "    .dataframe tbody tr th {\n",
       "        vertical-align: top;\n",
       "    }\n",
       "\n",
       "    .dataframe thead th {\n",
       "        text-align: right;\n",
       "    }\n",
       "</style>\n",
       "<table border=\"1\" class=\"dataframe\">\n",
       "  <thead>\n",
       "    <tr style=\"text-align: right;\">\n",
       "      <th></th>\n",
       "      <th>mes</th>\n",
       "      <th>ano</th>\n",
       "      <th>produto</th>\n",
       "      <th>qtde</th>\n",
       "      <th>prcunit</th>\n",
       "      <th>total</th>\n",
       "      <th>custounit</th>\n",
       "      <th>margem</th>\n",
       "      <th>estoque</th>\n",
       "      <th>compra</th>\n",
       "      <th>tipcli_A</th>\n",
       "      <th>tipcli_B</th>\n",
       "      <th>tipcli_C</th>\n",
       "    </tr>\n",
       "  </thead>\n",
       "  <tbody>\n",
       "    <tr>\n",
       "      <th>0</th>\n",
       "      <td>1</td>\n",
       "      <td>2019</td>\n",
       "      <td>5140</td>\n",
       "      <td>240</td>\n",
       "      <td>23.64</td>\n",
       "      <td>5673.60</td>\n",
       "      <td>10.232</td>\n",
       "      <td>13.408</td>\n",
       "      <td>530</td>\n",
       "      <td>1</td>\n",
       "      <td>1</td>\n",
       "      <td>0</td>\n",
       "      <td>0</td>\n",
       "    </tr>\n",
       "    <tr>\n",
       "      <th>1</th>\n",
       "      <td>1</td>\n",
       "      <td>2019</td>\n",
       "      <td>5140</td>\n",
       "      <td>48</td>\n",
       "      <td>23.64</td>\n",
       "      <td>1134.72</td>\n",
       "      <td>10.232</td>\n",
       "      <td>13.408</td>\n",
       "      <td>563</td>\n",
       "      <td>1</td>\n",
       "      <td>1</td>\n",
       "      <td>0</td>\n",
       "      <td>0</td>\n",
       "    </tr>\n",
       "    <tr>\n",
       "      <th>2</th>\n",
       "      <td>1</td>\n",
       "      <td>2019</td>\n",
       "      <td>5140</td>\n",
       "      <td>16</td>\n",
       "      <td>23.64</td>\n",
       "      <td>378.24</td>\n",
       "      <td>10.232</td>\n",
       "      <td>13.408</td>\n",
       "      <td>229</td>\n",
       "      <td>1</td>\n",
       "      <td>1</td>\n",
       "      <td>0</td>\n",
       "      <td>0</td>\n",
       "    </tr>\n",
       "    <tr>\n",
       "      <th>3</th>\n",
       "      <td>1</td>\n",
       "      <td>2019</td>\n",
       "      <td>5140</td>\n",
       "      <td>8</td>\n",
       "      <td>23.64</td>\n",
       "      <td>189.12</td>\n",
       "      <td>10.232</td>\n",
       "      <td>13.408</td>\n",
       "      <td>269</td>\n",
       "      <td>1</td>\n",
       "      <td>1</td>\n",
       "      <td>0</td>\n",
       "      <td>0</td>\n",
       "    </tr>\n",
       "    <tr>\n",
       "      <th>4</th>\n",
       "      <td>1</td>\n",
       "      <td>2019</td>\n",
       "      <td>5140</td>\n",
       "      <td>8</td>\n",
       "      <td>23.64</td>\n",
       "      <td>189.12</td>\n",
       "      <td>9.050</td>\n",
       "      <td>14.590</td>\n",
       "      <td>119</td>\n",
       "      <td>1</td>\n",
       "      <td>1</td>\n",
       "      <td>0</td>\n",
       "      <td>0</td>\n",
       "    </tr>\n",
       "  </tbody>\n",
       "</table>\n",
       "</div>"
      ],
      "text/plain": [
       "  mes   ano produto  qtde  prcunit    total  custounit  margem  estoque  \\\n",
       "0   1  2019    5140   240    23.64  5673.60     10.232  13.408      530   \n",
       "1   1  2019    5140    48    23.64  1134.72     10.232  13.408      563   \n",
       "2   1  2019    5140    16    23.64   378.24     10.232  13.408      229   \n",
       "3   1  2019    5140     8    23.64   189.12     10.232  13.408      269   \n",
       "4   1  2019    5140     8    23.64   189.12      9.050  14.590      119   \n",
       "\n",
       "  compra  tipcli_A  tipcli_B  tipcli_C  \n",
       "0      1         1         0         0  \n",
       "1      1         1         0         0  \n",
       "2      1         1         0         0  \n",
       "3      1         1         0         0  \n",
       "4      1         1         0         0  "
      ]
     },
     "execution_count": 170,
     "metadata": {},
     "output_type": "execute_result"
    }
   ],
   "source": [
    "df.head(5)"
   ]
  },
  {
   "cell_type": "code",
   "execution_count": 171,
   "metadata": {},
   "outputs": [
    {
     "data": {
      "text/plain": [
       "<matplotlib.axes._subplots.AxesSubplot at 0x2868b2d3438>"
      ]
     },
     "execution_count": 171,
     "metadata": {},
     "output_type": "execute_result"
    },
    {
     "data": {
      "image/png": "[encoded data removed]",
      "text/plain": [
       "<Figure size 432x288 with 1 Axes>"
      ]
     },
     "metadata": {
      "needs_background": "light"
     },
     "output_type": "display_data"
    }
   ],
   "source": [
    "sns.countplot(x='ano',hue='compra',data=df)"
   ]
  },
  {
   "cell_type": "markdown",
   "metadata": {},
   "source": [
    "# 2. Treinar o Classificador"
   ]
  },
  {
   "cell_type": "code",
   "execution_count": 172,
   "metadata": {},
   "outputs": [],
   "source": [
    "import itertools\n",
    "from sklearn.tree import DecisionTreeClassifier\n",
    "from sklearn.model_selection import train_test_split\n",
    "from sklearn.metrics import classification_report, confusion_matrix"
   ]
  },
  {
   "cell_type": "code",
   "execution_count": 173,
   "metadata": {},
   "outputs": [
    {
     "data": {
      "text/html": [
       "<div>\n",
       "<style scoped>\n",
       "    .dataframe tbody tr th:only-of-type {\n",
       "        vertical-align: middle;\n",
       "    }\n",
       "\n",
       "    .dataframe tbody tr th {\n",
       "        vertical-align: top;\n",
       "    }\n",
       "\n",
       "    .dataframe thead th {\n",
       "        text-align: right;\n",
       "    }\n",
       "</style>\n",
       "<table border=\"1\" class=\"dataframe\">\n",
       "  <thead>\n",
       "    <tr style=\"text-align: right;\">\n",
       "      <th></th>\n",
       "      <th>mes</th>\n",
       "      <th>ano</th>\n",
       "      <th>produto</th>\n",
       "      <th>qtde</th>\n",
       "      <th>prcunit</th>\n",
       "      <th>total</th>\n",
       "      <th>custounit</th>\n",
       "      <th>margem</th>\n",
       "      <th>estoque</th>\n",
       "      <th>compra</th>\n",
       "      <th>tipcli_A</th>\n",
       "      <th>tipcli_B</th>\n",
       "      <th>tipcli_C</th>\n",
       "    </tr>\n",
       "  </thead>\n",
       "  <tbody>\n",
       "    <tr>\n",
       "      <th>0</th>\n",
       "      <td>1</td>\n",
       "      <td>2019</td>\n",
       "      <td>5140</td>\n",
       "      <td>240</td>\n",
       "      <td>23.64</td>\n",
       "      <td>5673.60</td>\n",
       "      <td>10.232</td>\n",
       "      <td>13.408</td>\n",
       "      <td>530</td>\n",
       "      <td>1</td>\n",
       "      <td>1</td>\n",
       "      <td>0</td>\n",
       "      <td>0</td>\n",
       "    </tr>\n",
       "    <tr>\n",
       "      <th>1</th>\n",
       "      <td>1</td>\n",
       "      <td>2019</td>\n",
       "      <td>5140</td>\n",
       "      <td>48</td>\n",
       "      <td>23.64</td>\n",
       "      <td>1134.72</td>\n",
       "      <td>10.232</td>\n",
       "      <td>13.408</td>\n",
       "      <td>563</td>\n",
       "      <td>1</td>\n",
       "      <td>1</td>\n",
       "      <td>0</td>\n",
       "      <td>0</td>\n",
       "    </tr>\n",
       "    <tr>\n",
       "      <th>2</th>\n",
       "      <td>1</td>\n",
       "      <td>2019</td>\n",
       "      <td>5140</td>\n",
       "      <td>16</td>\n",
       "      <td>23.64</td>\n",
       "      <td>378.24</td>\n",
       "      <td>10.232</td>\n",
       "      <td>13.408</td>\n",
       "      <td>229</td>\n",
       "      <td>1</td>\n",
       "      <td>1</td>\n",
       "      <td>0</td>\n",
       "      <td>0</td>\n",
       "    </tr>\n",
       "    <tr>\n",
       "      <th>3</th>\n",
       "      <td>1</td>\n",
       "      <td>2019</td>\n",
       "      <td>5140</td>\n",
       "      <td>8</td>\n",
       "      <td>23.64</td>\n",
       "      <td>189.12</td>\n",
       "      <td>10.232</td>\n",
       "      <td>13.408</td>\n",
       "      <td>269</td>\n",
       "      <td>1</td>\n",
       "      <td>1</td>\n",
       "      <td>0</td>\n",
       "      <td>0</td>\n",
       "    </tr>\n",
       "    <tr>\n",
       "      <th>4</th>\n",
       "      <td>1</td>\n",
       "      <td>2019</td>\n",
       "      <td>5140</td>\n",
       "      <td>8</td>\n",
       "      <td>23.64</td>\n",
       "      <td>189.12</td>\n",
       "      <td>9.050</td>\n",
       "      <td>14.590</td>\n",
       "      <td>119</td>\n",
       "      <td>1</td>\n",
       "      <td>1</td>\n",
       "      <td>0</td>\n",
       "      <td>0</td>\n",
       "    </tr>\n",
       "  </tbody>\n",
       "</table>\n",
       "</div>"
      ],
      "text/plain": [
       "  mes   ano produto  qtde  prcunit    total  custounit  margem  estoque  \\\n",
       "0   1  2019    5140   240    23.64  5673.60     10.232  13.408      530   \n",
       "1   1  2019    5140    48    23.64  1134.72     10.232  13.408      563   \n",
       "2   1  2019    5140    16    23.64   378.24     10.232  13.408      229   \n",
       "3   1  2019    5140     8    23.64   189.12     10.232  13.408      269   \n",
       "4   1  2019    5140     8    23.64   189.12      9.050  14.590      119   \n",
       "\n",
       "  compra  tipcli_A  tipcli_B  tipcli_C  \n",
       "0      1         1         0         0  \n",
       "1      1         1         0         0  \n",
       "2      1         1         0         0  \n",
       "3      1         1         0         0  \n",
       "4      1         1         0         0  "
      ]
     },
     "execution_count": 173,
     "metadata": {},
     "output_type": "execute_result"
    }
   ],
   "source": [
    "train = df # Transferindo o dataset DF para train, para efetuar os treinos\n",
    "train.head(5)"
   ]
  },
  {
   "cell_type": "code",
   "execution_count": 176,
   "metadata": {},
   "outputs": [],
   "source": [
    "X_train, X_test, y_train, y_test = train_test_split(train.drop(['compra'],axis=1), \n",
    "                                                    train['compra'], test_size=0.30, \n",
    "                                                    random_state=101)"
   ]
  },
  {
   "cell_type": "code",
   "execution_count": 177,
   "metadata": {},
   "outputs": [],
   "source": [
    "# Criar um objeto do classificador DecisionTreeClassifier()"
   ]
  },
  {
   "cell_type": "code",
   "execution_count": 178,
   "metadata": {},
   "outputs": [],
   "source": [
    "dtc = DecisionTreeClassifier()"
   ]
  },
  {
   "cell_type": "code",
   "execution_count": 179,
   "metadata": {},
   "outputs": [],
   "source": [
    "# Treinar o modelo dtc chamando a função fit"
   ]
  },
  {
   "cell_type": "code",
   "execution_count": 180,
   "metadata": {},
   "outputs": [
    {
     "data": {
      "text/plain": [
       "DecisionTreeClassifier(class_weight=None, criterion='gini', max_depth=None,\n",
       "            max_features=None, max_leaf_nodes=None,\n",
       "            min_impurity_decrease=0.0, min_impurity_split=None,\n",
       "            min_samples_leaf=1, min_samples_split=2,\n",
       "            min_weight_fraction_leaf=0.0, presort=False, random_state=None,\n",
       "            splitter='best')"
      ]
     },
     "execution_count": 180,
     "metadata": {},
     "output_type": "execute_result"
    }
   ],
   "source": [
    "dtc.fit(X_train, y_train)"
   ]
  },
  {
   "cell_type": "code",
   "execution_count": 181,
   "metadata": {},
   "outputs": [],
   "source": [
    "# Fazer as predições passanto o X_TEST"
   ]
  },
  {
   "cell_type": "code",
   "execution_count": 183,
   "metadata": {},
   "outputs": [],
   "source": [
    "predictions = dtc.predict(X_test)"
   ]
  },
  {
   "cell_type": "code",
   "execution_count": 184,
   "metadata": {},
   "outputs": [],
   "source": [
    "# Matrix de confusão"
   ]
  },
  {
   "cell_type": "code",
   "execution_count": 186,
   "metadata": {},
   "outputs": [
    {
     "data": {
      "text/plain": [
       "array([[245,   3],\n",
       "       [  2, 597]], dtype=int64)"
      ]
     },
     "execution_count": 186,
     "metadata": {},
     "output_type": "execute_result"
    }
   ],
   "source": [
    "cnf_matrix = confusion_matrix(y_test, predictions)\n",
    "cnf_matrix"
   ]
  },
  {
   "cell_type": "code",
   "execution_count": 187,
   "metadata": {},
   "outputs": [],
   "source": [
    "#Plotar matriz de confusão"
   ]
  },
  {
   "cell_type": "code",
   "execution_count": 188,
   "metadata": {},
   "outputs": [],
   "source": [
    "def plot_confusion_matrix(cm, classes,\n",
    "                          normalize=False,\n",
    "                          title='Confusion matrix',\n",
    "                          cmap=plt.cm.Blues):\n",
    "    \"\"\"\n",
    "    This function prints and plots the confusion matrix.\n",
    "    Normalization can be applied by setting `normalize=True`.\n",
    "    \"\"\"\n",
    "    if normalize:\n",
    "        cm = cm.astype('float') / cm.sum(axis=1)[:, np.newaxis]\n",
    "        print(\"Normalized confusion matrix\")\n",
    "    else:\n",
    "        print('Confusion matrix, without normalization')\n",
    "\n",
    "    print(cm)\n",
    "\n",
    "    plt.imshow(cm, interpolation='nearest', cmap=cmap)\n",
    "    plt.title(title)\n",
    "    plt.colorbar()\n",
    "    tick_marks = np.arange(len(classes))\n",
    "    plt.xticks(tick_marks, classes, rotation=45)\n",
    "    plt.yticks(tick_marks, classes)\n",
    "\n",
    "    fmt = '.2f' if normalize else 'd'\n",
    "    thresh = cm.max() / 2.\n",
    "    for i, j in itertools.product(range(cm.shape[0]), range(cm.shape[1])):\n",
    "        plt.text(j, i, format(cm[i, j], fmt),\n",
    "                 horizontalalignment=\"center\",\n",
    "                 color=\"white\" if cm[i, j] > thresh else \"black\")\n",
    "\n",
    "    plt.ylabel('True label')\n",
    "    plt.xlabel('Predicted label')\n",
    "    plt.tight_layout()"
   ]
  },
  {
   "cell_type": "code",
   "execution_count": 189,
   "metadata": {},
   "outputs": [
    {
     "name": "stdout",
     "output_type": "stream",
     "text": [
      "Confusion matrix, without normalization\n",
      "[[245   3]\n",
      " [  2 597]]\n"
     ]
    },
    {
     "data": {
      "image/png": "[encoded data removed]",
      "text/plain": [
       "<Figure size 432x288 with 2 Axes>"
      ]
     },
     "metadata": {
      "needs_background": "light"
     },
     "output_type": "display_data"
    }
   ],
   "source": [
    "plot_confusion_matrix(cnf_matrix, classes=['Compra','NaoCompra'],\n",
    "                      title='Confusion matrix, without normalization')"
   ]
  },
  {
   "cell_type": "code",
   "execution_count": 191,
   "metadata": {},
   "outputs": [
    {
     "name": "stdout",
     "output_type": "stream",
     "text": [
      "              precision    recall  f1-score   support\n",
      "\n",
      "           0       0.99      0.99      0.99       248\n",
      "           1       0.99      1.00      1.00       599\n",
      "\n",
      "   micro avg       0.99      0.99      0.99       847\n",
      "   macro avg       0.99      0.99      0.99       847\n",
      "weighted avg       0.99      0.99      0.99       847\n",
      "\n"
     ]
    }
   ],
   "source": [
    "print(classification_report(y_test,predictions))"
   ]
  },
  {
   "cell_type": "code",
   "execution_count": 192,
   "metadata": {},
   "outputs": [],
   "source": [
    "# Rank dos tributos mais relevantes"
   ]
  },
  {
   "cell_type": "code",
   "execution_count": 193,
   "metadata": {},
   "outputs": [
    {
     "data": {
      "text/html": [
       "<div>\n",
       "<style scoped>\n",
       "    .dataframe tbody tr th:only-of-type {\n",
       "        vertical-align: middle;\n",
       "    }\n",
       "\n",
       "    .dataframe tbody tr th {\n",
       "        vertical-align: top;\n",
       "    }\n",
       "\n",
       "    .dataframe thead th {\n",
       "        text-align: right;\n",
       "    }\n",
       "</style>\n",
       "<table border=\"1\" class=\"dataframe\">\n",
       "  <thead>\n",
       "    <tr style=\"text-align: right;\">\n",
       "      <th></th>\n",
       "      <th>value</th>\n",
       "    </tr>\n",
       "  </thead>\n",
       "  <tbody>\n",
       "    <tr>\n",
       "      <th>tipcli_A</th>\n",
       "      <td>0.785418</td>\n",
       "    </tr>\n",
       "    <tr>\n",
       "      <th>qtde</th>\n",
       "      <td>0.082735</td>\n",
       "    </tr>\n",
       "    <tr>\n",
       "      <th>estoque</th>\n",
       "      <td>0.071885</td>\n",
       "    </tr>\n",
       "    <tr>\n",
       "      <th>margem</th>\n",
       "      <td>0.050557</td>\n",
       "    </tr>\n",
       "    <tr>\n",
       "      <th>custounit</th>\n",
       "      <td>0.005186</td>\n",
       "    </tr>\n",
       "    <tr>\n",
       "      <th>mes</th>\n",
       "      <td>0.001340</td>\n",
       "    </tr>\n",
       "    <tr>\n",
       "      <th>produto</th>\n",
       "      <td>0.001215</td>\n",
       "    </tr>\n",
       "    <tr>\n",
       "      <th>total</th>\n",
       "      <td>0.001042</td>\n",
       "    </tr>\n",
       "    <tr>\n",
       "      <th>tipcli_C</th>\n",
       "      <td>0.000621</td>\n",
       "    </tr>\n",
       "    <tr>\n",
       "      <th>ano</th>\n",
       "      <td>0.000000</td>\n",
       "    </tr>\n",
       "    <tr>\n",
       "      <th>prcunit</th>\n",
       "      <td>0.000000</td>\n",
       "    </tr>\n",
       "    <tr>\n",
       "      <th>tipcli_B</th>\n",
       "      <td>0.000000</td>\n",
       "    </tr>\n",
       "  </tbody>\n",
       "</table>\n",
       "</div>"
      ],
      "text/plain": [
       "              value\n",
       "tipcli_A   0.785418\n",
       "qtde       0.082735\n",
       "estoque    0.071885\n",
       "margem     0.050557\n",
       "custounit  0.005186\n",
       "mes        0.001340\n",
       "produto    0.001215\n",
       "total      0.001042\n",
       "tipcli_C   0.000621\n",
       "ano        0.000000\n",
       "prcunit    0.000000\n",
       "tipcli_B   0.000000"
      ]
     },
     "execution_count": 193,
     "metadata": {},
     "output_type": "execute_result"
    }
   ],
   "source": [
    "df_import_features = dict(zip(train.drop(['compra'],axis=1), dtc.feature_importances_))\n",
    "df_import_features = pd.DataFrame.from_dict(df_import_features, orient='index', columns = ['value'])\n",
    "df_import_features = df_import_features.sort_values(['value'], ascending=False)\n",
    "df_import_features"
   ]
  },
  {
   "cell_type": "code",
   "execution_count": null,
   "metadata": {},
   "outputs": [],
   "source": [
    "# Plotar atributos mais relevantes"
   ]
  },
  {
   "cell_type": "code",
   "execution_count": 194,
   "metadata": {},
   "outputs": [],
   "source": [
    "import numpy as np\n",
    "import pandas as pd\n",
    "import seaborn as sns\n",
    "import matplotlib.pyplot as plt\n",
    "%matplotlib inline\n",
    "import warnings\n",
    "warnings.filterwarnings('ignore')"
   ]
  },
  {
   "cell_type": "code",
   "execution_count": 195,
   "metadata": {},
   "outputs": [
    {
     "data": {
      "image/png": "[encoded data removed]",
      "text/plain": [
       "<Figure size 432x288 with 1 Axes>"
      ]
     },
     "metadata": {
      "needs_background": "light"
     },
     "output_type": "display_data"
    }
   ],
   "source": [
    "ax = sns.scatterplot(x=train[\"qtde\"], y=train[\"estoque\"], hue=\"compra\",data=train)"
   ]
  },
  {
   "cell_type": "code",
   "execution_count": 196,
   "metadata": {},
   "outputs": [
    {
     "data": {
      "image/png": "[encoded data removed]",
      "text/plain": [
       "<Figure size 432x288 with 1 Axes>"
      ]
     },
     "metadata": {
      "needs_background": "light"
     },
     "output_type": "display_data"
    }
   ],
   "source": [
    "ax = sns.scatterplot(x=train[\"margem\"], y=train[\"estoque\"], hue=\"compra\",data=train)"
   ]
  },
  {
   "cell_type": "code",
   "execution_count": 197,
   "metadata": {},
   "outputs": [
    {
     "data": {
      "image/png": "[encoded data removed]",
      "text/plain": [
       "<Figure size 432x288 with 1 Axes>"
      ]
     },
     "metadata": {
      "needs_background": "light"
     },
     "output_type": "display_data"
    }
   ],
   "source": [
    "ax = sns.scatterplot(x=train[\"qtde\"], y=train[\"tipcli_A\"], hue=\"compra\",data=train)"
   ]
  },
  {
   "cell_type": "code",
   "execution_count": null,
   "metadata": {},
   "outputs": [],
   "source": [
    "#Teste unitário do modelto."
   ]
  },
  {
   "cell_type": "code",
   "execution_count": 208,
   "metadata": {},
   "outputs": [
    {
     "data": {
      "text/html": [
       "<div>\n",
       "<style scoped>\n",
       "    .dataframe tbody tr th:only-of-type {\n",
       "        vertical-align: middle;\n",
       "    }\n",
       "\n",
       "    .dataframe tbody tr th {\n",
       "        vertical-align: top;\n",
       "    }\n",
       "\n",
       "    .dataframe thead th {\n",
       "        text-align: right;\n",
       "    }\n",
       "</style>\n",
       "<table border=\"1\" class=\"dataframe\">\n",
       "  <thead>\n",
       "    <tr style=\"text-align: right;\">\n",
       "      <th></th>\n",
       "      <th>mes</th>\n",
       "      <th>ano</th>\n",
       "      <th>produto</th>\n",
       "      <th>qtde</th>\n",
       "      <th>prcunit</th>\n",
       "      <th>total</th>\n",
       "      <th>custounit</th>\n",
       "      <th>margem</th>\n",
       "      <th>estoque</th>\n",
       "      <th>compra</th>\n",
       "      <th>tipcli_A</th>\n",
       "      <th>tipcli_B</th>\n",
       "      <th>tipcli_C</th>\n",
       "    </tr>\n",
       "  </thead>\n",
       "  <tbody>\n",
       "  </tbody>\n",
       "</table>\n",
       "</div>"
      ],
      "text/plain": [
       "Empty DataFrame\n",
       "Columns: [mes, ano, produto, qtde, prcunit, total, custounit, margem, estoque, compra, tipcli_A, tipcli_B, tipcli_C]\n",
       "Index: []"
      ]
     },
     "execution_count": 208,
     "metadata": {},
     "output_type": "execute_result"
    }
   ],
   "source": [
    "train.head(0)"
   ]
  },
  {
   "cell_type": "code",
   "execution_count": 209,
   "metadata": {},
   "outputs": [],
   "source": [
    "# Criar um produto1 contendo informações do produto a ser analisado pelo modelo.\n",
    "produto1 = [1,2019,4391,11,4.11,45.21,6.4655,-2.3555,260,0,1,0]\n",
    "produto2 = [8,2019,7,11,4.11,45.21,8.55,4.52,160,0,1,0]"
   ]
  },
  {
   "cell_type": "code",
   "execution_count": 206,
   "metadata": {},
   "outputs": [
    {
     "data": {
      "text/plain": [
       "array(['0'], dtype=object)"
      ]
     },
     "execution_count": 206,
     "metadata": {},
     "output_type": "execute_result"
    }
   ],
   "source": [
    "#Submetendo o Produto1 para o modelo analisar se comprar ou não. [0] = Nao compra  [1] = Compra\n",
    "dtc.predict([produto1])"
   ]
  },
  {
   "cell_type": "code",
   "execution_count": 207,
   "metadata": {},
   "outputs": [
    {
     "data": {
      "text/plain": [
       "array(['1'], dtype=object)"
      ]
     },
     "execution_count": 207,
     "metadata": {},
     "output_type": "execute_result"
    }
   ],
   "source": [
    "#Submetendo o Produto2 para o modelo analisar se comprar ou não. [0] = Nao compra  [1] = Compra\n",
    "dtc.predict([produto2])"
   ]
  },
  {
   "cell_type": "code",
   "execution_count": null,
   "metadata": {},
   "outputs": [],
   "source": []
  }
 ],
 "metadata": {
  "anaconda-cloud": {},
  "kernelspec": {
   "display_name": "Python 3",
   "language": "python",
   "name": "python3"
  },
  "language_info": {
   "codemirror_mode": {
    "name": "ipython",
    "version": 3
   },
   "file_extension": ".py",
   "mimetype": "text/x-python",
   "name": "python",
   "nbconvert_exporter": "python",
   "pygments_lexer": "ipython3",
   "version": "3.7.3"
  }
 },
 "nbformat": 4,
 "nbformat_minor": 2
}
