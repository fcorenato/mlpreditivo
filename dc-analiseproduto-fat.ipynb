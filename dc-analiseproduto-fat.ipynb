{
 "cells": [
  {
   "cell_type": "markdown",
   "metadata": {},
   "source": [
    "# Analise de vendas para ativar ou inativar produto para importação.\n",
    "\n",
    "Dataset utilizado contem os dados de vendas dos produtos da empresa X de 2016 a 2019.\n",
    "O produto A, B e C são importados e levam 3 meses para serem entregues pelo fornecedor na china.\n",
    "\n",
    "# Objetivo\n",
    "\n",
    "1 - Verificar o hisorico de vendas e estoque disponivel de um produto e analisar se deve ser descontinuado ou adiquirido, tendo em vista as necesidades e estrategias comerciais da empresa.\n",
    "\n",
    "\n",
    "\n",
    "## O Dicionário de Dados\n",
    "\n",
    "**Num. Pedido**: Numero do documento de vendas\n",
    "\n",
    "**DT Emissao, Mes,  Ano e Mes-ano**: Data em que a venda foi efetuada\n",
    "\n",
    "**Nome Cliente**: Nome generico do cliente\n",
    "\n",
    "**Produto**: Codigo do Produto\n",
    "\n",
    "**Descricao**: Descrição do Produto\n",
    "\n",
    "**Quantidade**: Quantidade vendida do produto\n",
    "\n",
    "**Estoque**: Estoque atual do produto no ato da venda\n",
    "\n",
    "**Compra**: Indica se deve ser emitido ordem de compra do produto.\n",
    "\n",
    "adicionar valor unitário, custo unitário, margem e o hanking de cliente (A, B, C)\n",
    "\n",
    "**prcunit**: Preço unitário do produto\n",
    "\n",
    "**custounit**: Custo unitário do produto no dia da venda levando em consideração cambio de dolar, frete, estoque, despesas operacionais e impostos.\n",
    "\n",
    "**margem**: Lucro bruto sobre o item vendido"
   ]
  },
  {
   "cell_type": "markdown",
   "metadata": {},
   "source": [
    "## Importando as bibliotecas"
   ]
  },
  {
   "cell_type": "code",
   "execution_count": 1,
   "metadata": {},
   "outputs": [],
   "source": [
    "import numpy as np\n",
    "import pandas as pd\n",
    "import seaborn as sns\n",
    "import matplotlib.pyplot as plt\n",
    "%matplotlib inline\n",
    "import warnings\n",
    "warnings.filterwarnings('ignore')"
   ]
  },
  {
   "cell_type": "markdown",
   "metadata": {},
   "source": [
    "## Acessando os dados"
   ]
  },
  {
   "cell_type": "code",
   "execution_count": 2,
   "metadata": {},
   "outputs": [],
   "source": [
    "# Acessando banco de dados Mysql\n",
    "# Obs: Antes será necessário instalar o mysql.connector via commando no cmd (pip install mysql-connector-python)"
   ]
  },
  {
   "cell_type": "code",
   "execution_count": 3,
   "metadata": {},
   "outputs": [],
   "source": [
    "from datetime import date\n",
    "import mysql.connector\n",
    "\n",
    "db_connection = mysql.connector.connect(host=\"108.167.132.74\", user=\"vetro057_dcroot\", passwd=\"@dc2020dc\", database=\"vetro057_dc\")\n",
    "\n",
    "data = pd.read_sql('SELECT * FROM fat19', con=db_connection)\n",
    "  \n",
    "db_connection.commit()\n",
    "db_connection.close()"
   ]
  },
  {
   "cell_type": "code",
   "execution_count": 4,
   "metadata": {},
   "outputs": [
    {
     "data": {
      "text/html": [
       "<div>\n",
       "<style scoped>\n",
       "    .dataframe tbody tr th:only-of-type {\n",
       "        vertical-align: middle;\n",
       "    }\n",
       "\n",
       "    .dataframe tbody tr th {\n",
       "        vertical-align: top;\n",
       "    }\n",
       "\n",
       "    .dataframe thead th {\n",
       "        text-align: right;\n",
       "    }\n",
       "</style>\n",
       "<table border=\"1\" class=\"dataframe\">\n",
       "  <thead>\n",
       "    <tr style=\"text-align: right;\">\n",
       "      <th></th>\n",
       "      <th>cod</th>\n",
       "      <th>numpedido</th>\n",
       "      <th>dataemissao</th>\n",
       "      <th>mes</th>\n",
       "      <th>ano</th>\n",
       "      <th>nomecliente</th>\n",
       "      <th>produto</th>\n",
       "      <th>qtde</th>\n",
       "      <th>prcunit</th>\n",
       "      <th>total</th>\n",
       "      <th>custounit</th>\n",
       "      <th>margem</th>\n",
       "      <th>estoque</th>\n",
       "      <th>compra</th>\n",
       "    </tr>\n",
       "  </thead>\n",
       "  <tbody>\n",
       "    <tr>\n",
       "      <th>0</th>\n",
       "      <td>1</td>\n",
       "      <td>1371.0</td>\n",
       "      <td>03/01/2019</td>\n",
       "      <td>1</td>\n",
       "      <td>2019</td>\n",
       "      <td>CLI3460</td>\n",
       "      <td>5140</td>\n",
       "      <td>240</td>\n",
       "      <td>23.64</td>\n",
       "      <td>5673.60</td>\n",
       "      <td>10.232</td>\n",
       "      <td>13.408</td>\n",
       "      <td>530</td>\n",
       "      <td>COMPRA</td>\n",
       "    </tr>\n",
       "    <tr>\n",
       "      <th>1</th>\n",
       "      <td>2</td>\n",
       "      <td>1378.0</td>\n",
       "      <td>03/01/2019</td>\n",
       "      <td>1</td>\n",
       "      <td>2019</td>\n",
       "      <td>CLI3433</td>\n",
       "      <td>5140</td>\n",
       "      <td>48</td>\n",
       "      <td>23.64</td>\n",
       "      <td>1134.72</td>\n",
       "      <td>10.232</td>\n",
       "      <td>13.408</td>\n",
       "      <td>563</td>\n",
       "      <td>COMPRA</td>\n",
       "    </tr>\n",
       "    <tr>\n",
       "      <th>2</th>\n",
       "      <td>3</td>\n",
       "      <td>1388.0</td>\n",
       "      <td>03/01/2019</td>\n",
       "      <td>1</td>\n",
       "      <td>2019</td>\n",
       "      <td>CLI3455</td>\n",
       "      <td>5140</td>\n",
       "      <td>16</td>\n",
       "      <td>23.64</td>\n",
       "      <td>378.24</td>\n",
       "      <td>10.232</td>\n",
       "      <td>13.408</td>\n",
       "      <td>229</td>\n",
       "      <td>COMPRA</td>\n",
       "    </tr>\n",
       "    <tr>\n",
       "      <th>3</th>\n",
       "      <td>4</td>\n",
       "      <td>1391.0</td>\n",
       "      <td>03/01/2019</td>\n",
       "      <td>1</td>\n",
       "      <td>2019</td>\n",
       "      <td>CLI3587</td>\n",
       "      <td>5140</td>\n",
       "      <td>8</td>\n",
       "      <td>23.64</td>\n",
       "      <td>189.12</td>\n",
       "      <td>10.232</td>\n",
       "      <td>13.408</td>\n",
       "      <td>269</td>\n",
       "      <td>COMPRA</td>\n",
       "    </tr>\n",
       "    <tr>\n",
       "      <th>4</th>\n",
       "      <td>5</td>\n",
       "      <td>NaN</td>\n",
       "      <td>03/01/2019</td>\n",
       "      <td>1</td>\n",
       "      <td>2019</td>\n",
       "      <td>CLI3472</td>\n",
       "      <td>5140</td>\n",
       "      <td>8</td>\n",
       "      <td>23.64</td>\n",
       "      <td>189.12</td>\n",
       "      <td>9.050</td>\n",
       "      <td>14.590</td>\n",
       "      <td>119</td>\n",
       "      <td>COMPRA</td>\n",
       "    </tr>\n",
       "  </tbody>\n",
       "</table>\n",
       "</div>"
      ],
      "text/plain": [
       "   cod  numpedido dataemissao mes   ano nomecliente produto  qtde  prcunit  \\\n",
       "0    1     1371.0  03/01/2019   1  2019     CLI3460    5140   240    23.64   \n",
       "1    2     1378.0  03/01/2019   1  2019     CLI3433    5140    48    23.64   \n",
       "2    3     1388.0  03/01/2019   1  2019     CLI3455    5140    16    23.64   \n",
       "3    4     1391.0  03/01/2019   1  2019     CLI3587    5140     8    23.64   \n",
       "4    5        NaN  03/01/2019   1  2019     CLI3472    5140     8    23.64   \n",
       "\n",
       "     total  custounit  margem  estoque  compra  \n",
       "0  5673.60     10.232  13.408      530  COMPRA  \n",
       "1  1134.72     10.232  13.408      563  COMPRA  \n",
       "2   378.24     10.232  13.408      229  COMPRA  \n",
       "3   189.12     10.232  13.408      269  COMPRA  \n",
       "4   189.12      9.050  14.590      119  COMPRA  "
      ]
     },
     "execution_count": 4,
     "metadata": {},
     "output_type": "execute_result"
    }
   ],
   "source": [
    "#Exibindo os primeios 5 registros do dataset\n",
    "data.head(5)"
   ]
  },
  {
   "cell_type": "code",
   "execution_count": 5,
   "metadata": {},
   "outputs": [
    {
     "data": {
      "text/html": [
       "<div>\n",
       "<style scoped>\n",
       "    .dataframe tbody tr th:only-of-type {\n",
       "        vertical-align: middle;\n",
       "    }\n",
       "\n",
       "    .dataframe tbody tr th {\n",
       "        vertical-align: top;\n",
       "    }\n",
       "\n",
       "    .dataframe thead th {\n",
       "        text-align: right;\n",
       "    }\n",
       "</style>\n",
       "<table border=\"1\" class=\"dataframe\">\n",
       "  <thead>\n",
       "    <tr style=\"text-align: right;\">\n",
       "      <th></th>\n",
       "      <th>cod</th>\n",
       "      <th>numpedido</th>\n",
       "      <th>qtde</th>\n",
       "      <th>prcunit</th>\n",
       "      <th>total</th>\n",
       "      <th>custounit</th>\n",
       "      <th>margem</th>\n",
       "      <th>estoque</th>\n",
       "    </tr>\n",
       "  </thead>\n",
       "  <tbody>\n",
       "    <tr>\n",
       "      <th>cod</th>\n",
       "      <td>1.000000</td>\n",
       "      <td>-0.020464</td>\n",
       "      <td>0.049127</td>\n",
       "      <td>-0.429190</td>\n",
       "      <td>-0.037243</td>\n",
       "      <td>-0.488228</td>\n",
       "      <td>-0.249581</td>\n",
       "      <td>-0.010331</td>\n",
       "    </tr>\n",
       "    <tr>\n",
       "      <th>numpedido</th>\n",
       "      <td>-0.020464</td>\n",
       "      <td>1.000000</td>\n",
       "      <td>0.150196</td>\n",
       "      <td>-0.188926</td>\n",
       "      <td>0.023942</td>\n",
       "      <td>0.002257</td>\n",
       "      <td>-0.240841</td>\n",
       "      <td>-0.016446</td>\n",
       "    </tr>\n",
       "    <tr>\n",
       "      <th>qtde</th>\n",
       "      <td>0.049127</td>\n",
       "      <td>0.150196</td>\n",
       "      <td>1.000000</td>\n",
       "      <td>-0.174324</td>\n",
       "      <td>0.835629</td>\n",
       "      <td>-0.074672</td>\n",
       "      <td>-0.179145</td>\n",
       "      <td>-0.018724</td>\n",
       "    </tr>\n",
       "    <tr>\n",
       "      <th>prcunit</th>\n",
       "      <td>-0.429190</td>\n",
       "      <td>-0.188926</td>\n",
       "      <td>-0.174324</td>\n",
       "      <td>1.000000</td>\n",
       "      <td>0.099779</td>\n",
       "      <td>0.660707</td>\n",
       "      <td>0.881489</td>\n",
       "      <td>0.026942</td>\n",
       "    </tr>\n",
       "    <tr>\n",
       "      <th>total</th>\n",
       "      <td>-0.037243</td>\n",
       "      <td>0.023942</td>\n",
       "      <td>0.835629</td>\n",
       "      <td>0.099779</td>\n",
       "      <td>1.000000</td>\n",
       "      <td>0.075882</td>\n",
       "      <td>0.081691</td>\n",
       "      <td>-0.012511</td>\n",
       "    </tr>\n",
       "    <tr>\n",
       "      <th>custounit</th>\n",
       "      <td>-0.488228</td>\n",
       "      <td>0.002257</td>\n",
       "      <td>-0.074672</td>\n",
       "      <td>0.660707</td>\n",
       "      <td>0.075882</td>\n",
       "      <td>1.000000</td>\n",
       "      <td>0.227947</td>\n",
       "      <td>0.008715</td>\n",
       "    </tr>\n",
       "    <tr>\n",
       "      <th>margem</th>\n",
       "      <td>-0.249581</td>\n",
       "      <td>-0.240841</td>\n",
       "      <td>-0.179145</td>\n",
       "      <td>0.881489</td>\n",
       "      <td>0.081691</td>\n",
       "      <td>0.227947</td>\n",
       "      <td>1.000000</td>\n",
       "      <td>0.029465</td>\n",
       "    </tr>\n",
       "    <tr>\n",
       "      <th>estoque</th>\n",
       "      <td>-0.010331</td>\n",
       "      <td>-0.016446</td>\n",
       "      <td>-0.018724</td>\n",
       "      <td>0.026942</td>\n",
       "      <td>-0.012511</td>\n",
       "      <td>0.008715</td>\n",
       "      <td>0.029465</td>\n",
       "      <td>1.000000</td>\n",
       "    </tr>\n",
       "  </tbody>\n",
       "</table>\n",
       "</div>"
      ],
      "text/plain": [
       "                cod  numpedido      qtde   prcunit     total  custounit  \\\n",
       "cod        1.000000  -0.020464  0.049127 -0.429190 -0.037243  -0.488228   \n",
       "numpedido -0.020464   1.000000  0.150196 -0.188926  0.023942   0.002257   \n",
       "qtde       0.049127   0.150196  1.000000 -0.174324  0.835629  -0.074672   \n",
       "prcunit   -0.429190  -0.188926 -0.174324  1.000000  0.099779   0.660707   \n",
       "total     -0.037243   0.023942  0.835629  0.099779  1.000000   0.075882   \n",
       "custounit -0.488228   0.002257 -0.074672  0.660707  0.075882   1.000000   \n",
       "margem    -0.249581  -0.240841 -0.179145  0.881489  0.081691   0.227947   \n",
       "estoque   -0.010331  -0.016446 -0.018724  0.026942 -0.012511   0.008715   \n",
       "\n",
       "             margem   estoque  \n",
       "cod       -0.249581 -0.010331  \n",
       "numpedido -0.240841 -0.016446  \n",
       "qtde      -0.179145 -0.018724  \n",
       "prcunit    0.881489  0.026942  \n",
       "total      0.081691 -0.012511  \n",
       "custounit  0.227947  0.008715  \n",
       "margem     1.000000  0.029465  \n",
       "estoque    0.029465  1.000000  "
      ]
     },
     "execution_count": 5,
     "metadata": {},
     "output_type": "execute_result"
    }
   ],
   "source": [
    "data.corr()"
   ]
  },
  {
   "cell_type": "code",
   "execution_count": 6,
   "metadata": {},
   "outputs": [],
   "source": [
    "#convertendo alguns tipos de dados:\n",
    "\n",
    "data['mes'] = data['mes'].astype(int)"
   ]
  },
  {
   "cell_type": "markdown",
   "metadata": {},
   "source": [
    "## Exploração dos dados\n"
   ]
  },
  {
   "cell_type": "code",
   "execution_count": 7,
   "metadata": {},
   "outputs": [
    {
     "name": "stdout",
     "output_type": "stream",
     "text": [
      "<class 'pandas.core.frame.DataFrame'>\n",
      "RangeIndex: 2823 entries, 0 to 2822\n",
      "Data columns (total 14 columns):\n",
      "cod            2823 non-null int64\n",
      "numpedido      2609 non-null float64\n",
      "dataemissao    2823 non-null object\n",
      "mes            2823 non-null int32\n",
      "ano            2823 non-null object\n",
      "nomecliente    2823 non-null object\n",
      "produto        2823 non-null object\n",
      "qtde           2823 non-null int64\n",
      "prcunit        2823 non-null float64\n",
      "total          2823 non-null float64\n",
      "custounit      2823 non-null float64\n",
      "margem         2823 non-null float64\n",
      "estoque        2823 non-null int64\n",
      "compra         2823 non-null object\n",
      "dtypes: float64(5), int32(1), int64(3), object(5)\n",
      "memory usage: 297.8+ KB\n"
     ]
    }
   ],
   "source": [
    "# Informaçõe gerais.\n",
    "data.info()"
   ]
  },
  {
   "cell_type": "code",
   "execution_count": 8,
   "metadata": {},
   "outputs": [],
   "source": [
    "# Analisando se existe alguma coluna com dados NULL utilizando grafico de temperatura."
   ]
  },
  {
   "cell_type": "code",
   "execution_count": 9,
   "metadata": {},
   "outputs": [
    {
     "data": {
      "text/plain": [
       "<matplotlib.axes._subplots.AxesSubplot at 0x176a83f4e80>"
      ]
     },
     "execution_count": 9,
     "metadata": {},
     "output_type": "execute_result"
    },
    {
     "data": {
      "image/png": "[encoded data removed]",
      "text/plain": [
       "<Figure size 432x288 with 1 Axes>"
      ]
     },
     "metadata": {
      "needs_background": "light"
     },
     "output_type": "display_data"
    }
   ],
   "source": [
    "sns.heatmap(data.isnull(), yticklabels=False,cbar=False,cmap='viridis')"
   ]
  },
  {
   "cell_type": "code",
   "execution_count": 10,
   "metadata": {},
   "outputs": [
    {
     "data": {
      "text/html": [
       "<div>\n",
       "<style scoped>\n",
       "    .dataframe tbody tr th:only-of-type {\n",
       "        vertical-align: middle;\n",
       "    }\n",
       "\n",
       "    .dataframe tbody tr th {\n",
       "        vertical-align: top;\n",
       "    }\n",
       "\n",
       "    .dataframe thead th {\n",
       "        text-align: right;\n",
       "    }\n",
       "</style>\n",
       "<table border=\"1\" class=\"dataframe\">\n",
       "  <thead>\n",
       "    <tr style=\"text-align: right;\">\n",
       "      <th></th>\n",
       "      <th>cod</th>\n",
       "      <th>dataemissao</th>\n",
       "      <th>mes</th>\n",
       "      <th>ano</th>\n",
       "      <th>nomecliente</th>\n",
       "      <th>produto</th>\n",
       "      <th>qtde</th>\n",
       "      <th>prcunit</th>\n",
       "      <th>total</th>\n",
       "      <th>custounit</th>\n",
       "      <th>margem</th>\n",
       "      <th>estoque</th>\n",
       "      <th>compra</th>\n",
       "    </tr>\n",
       "  </thead>\n",
       "  <tbody>\n",
       "    <tr>\n",
       "      <th>0</th>\n",
       "      <td>1</td>\n",
       "      <td>03/01/2019</td>\n",
       "      <td>1</td>\n",
       "      <td>2019</td>\n",
       "      <td>CLI3460</td>\n",
       "      <td>5140</td>\n",
       "      <td>240</td>\n",
       "      <td>23.64</td>\n",
       "      <td>5673.60</td>\n",
       "      <td>10.232</td>\n",
       "      <td>13.408</td>\n",
       "      <td>530</td>\n",
       "      <td>COMPRA</td>\n",
       "    </tr>\n",
       "    <tr>\n",
       "      <th>1</th>\n",
       "      <td>2</td>\n",
       "      <td>03/01/2019</td>\n",
       "      <td>1</td>\n",
       "      <td>2019</td>\n",
       "      <td>CLI3433</td>\n",
       "      <td>5140</td>\n",
       "      <td>48</td>\n",
       "      <td>23.64</td>\n",
       "      <td>1134.72</td>\n",
       "      <td>10.232</td>\n",
       "      <td>13.408</td>\n",
       "      <td>563</td>\n",
       "      <td>COMPRA</td>\n",
       "    </tr>\n",
       "    <tr>\n",
       "      <th>2</th>\n",
       "      <td>3</td>\n",
       "      <td>03/01/2019</td>\n",
       "      <td>1</td>\n",
       "      <td>2019</td>\n",
       "      <td>CLI3455</td>\n",
       "      <td>5140</td>\n",
       "      <td>16</td>\n",
       "      <td>23.64</td>\n",
       "      <td>378.24</td>\n",
       "      <td>10.232</td>\n",
       "      <td>13.408</td>\n",
       "      <td>229</td>\n",
       "      <td>COMPRA</td>\n",
       "    </tr>\n",
       "    <tr>\n",
       "      <th>3</th>\n",
       "      <td>4</td>\n",
       "      <td>03/01/2019</td>\n",
       "      <td>1</td>\n",
       "      <td>2019</td>\n",
       "      <td>CLI3587</td>\n",
       "      <td>5140</td>\n",
       "      <td>8</td>\n",
       "      <td>23.64</td>\n",
       "      <td>189.12</td>\n",
       "      <td>10.232</td>\n",
       "      <td>13.408</td>\n",
       "      <td>269</td>\n",
       "      <td>COMPRA</td>\n",
       "    </tr>\n",
       "    <tr>\n",
       "      <th>4</th>\n",
       "      <td>5</td>\n",
       "      <td>03/01/2019</td>\n",
       "      <td>1</td>\n",
       "      <td>2019</td>\n",
       "      <td>CLI3472</td>\n",
       "      <td>5140</td>\n",
       "      <td>8</td>\n",
       "      <td>23.64</td>\n",
       "      <td>189.12</td>\n",
       "      <td>9.050</td>\n",
       "      <td>14.590</td>\n",
       "      <td>119</td>\n",
       "      <td>COMPRA</td>\n",
       "    </tr>\n",
       "  </tbody>\n",
       "</table>\n",
       "</div>"
      ],
      "text/plain": [
       "   cod dataemissao  mes   ano nomecliente produto  qtde  prcunit    total  \\\n",
       "0    1  03/01/2019    1  2019     CLI3460    5140   240    23.64  5673.60   \n",
       "1    2  03/01/2019    1  2019     CLI3433    5140    48    23.64  1134.72   \n",
       "2    3  03/01/2019    1  2019     CLI3455    5140    16    23.64   378.24   \n",
       "3    4  03/01/2019    1  2019     CLI3587    5140     8    23.64   189.12   \n",
       "4    5  03/01/2019    1  2019     CLI3472    5140     8    23.64   189.12   \n",
       "\n",
       "   custounit  margem  estoque  compra  \n",
       "0     10.232  13.408      530  COMPRA  \n",
       "1     10.232  13.408      563  COMPRA  \n",
       "2     10.232  13.408      229  COMPRA  \n",
       "3     10.232  13.408      269  COMPRA  \n",
       "4      9.050  14.590      119  COMPRA  "
      ]
     },
     "execution_count": 10,
     "metadata": {},
     "output_type": "execute_result"
    }
   ],
   "source": [
    "#Removendo a coluna numpedido por conter alguns valores nulos e não ser um feature importante para a resolução do problema:\n",
    "data.drop(['numpedido'],axis=1, inplace=True)\n",
    "data.head(5)"
   ]
  },
  {
   "cell_type": "code",
   "execution_count": 11,
   "metadata": {},
   "outputs": [],
   "source": [
    "# Vendas por Produto"
   ]
  },
  {
   "cell_type": "code",
   "execution_count": 12,
   "metadata": {},
   "outputs": [
    {
     "data": {
      "text/plain": [
       "<matplotlib.axes._subplots.AxesSubplot at 0x176a81b7be0>"
      ]
     },
     "execution_count": 12,
     "metadata": {},
     "output_type": "execute_result"
    },
    {
     "data": {
      "image/png": "[encoded data removed]",
      "text/plain": [
       "<Figure size 432x288 with 1 Axes>"
      ]
     },
     "metadata": {
      "needs_background": "light"
     },
     "output_type": "display_data"
    }
   ],
   "source": [
    "sns.countplot(x='ano',hue='produto',data=data)"
   ]
  },
  {
   "cell_type": "code",
   "execution_count": 13,
   "metadata": {},
   "outputs": [],
   "source": [
    "# Clintes que compraram no perído ordenado por quantidade comprada, idenficando os 10 princiais."
   ]
  },
  {
   "cell_type": "code",
   "execution_count": 14,
   "metadata": {},
   "outputs": [
    {
     "data": {
      "text/html": [
       "<div>\n",
       "<style scoped>\n",
       "    .dataframe tbody tr th:only-of-type {\n",
       "        vertical-align: middle;\n",
       "    }\n",
       "\n",
       "    .dataframe tbody tr th {\n",
       "        vertical-align: top;\n",
       "    }\n",
       "\n",
       "    .dataframe thead th {\n",
       "        text-align: right;\n",
       "    }\n",
       "</style>\n",
       "<table border=\"1\" class=\"dataframe\">\n",
       "  <thead>\n",
       "    <tr style=\"text-align: right;\">\n",
       "      <th></th>\n",
       "      <th>qtde</th>\n",
       "    </tr>\n",
       "    <tr>\n",
       "      <th>nomecliente</th>\n",
       "      <th></th>\n",
       "    </tr>\n",
       "  </thead>\n",
       "  <tbody>\n",
       "    <tr>\n",
       "      <th>CLI1889</th>\n",
       "      <td>65343</td>\n",
       "    </tr>\n",
       "    <tr>\n",
       "      <th>CLI3562</th>\n",
       "      <td>30997</td>\n",
       "    </tr>\n",
       "    <tr>\n",
       "      <th>CLI2259</th>\n",
       "      <td>11361</td>\n",
       "    </tr>\n",
       "    <tr>\n",
       "      <th>CLI3436</th>\n",
       "      <td>9814</td>\n",
       "    </tr>\n",
       "    <tr>\n",
       "      <th>CLI3460</th>\n",
       "      <td>9256</td>\n",
       "    </tr>\n",
       "    <tr>\n",
       "      <th>CLI3433</th>\n",
       "      <td>9111</td>\n",
       "    </tr>\n",
       "    <tr>\n",
       "      <th>CLI761</th>\n",
       "      <td>9086</td>\n",
       "    </tr>\n",
       "    <tr>\n",
       "      <th>CLI3454</th>\n",
       "      <td>7903</td>\n",
       "    </tr>\n",
       "    <tr>\n",
       "      <th>CLI3226</th>\n",
       "      <td>7526</td>\n",
       "    </tr>\n",
       "    <tr>\n",
       "      <th>CLI3060</th>\n",
       "      <td>6924</td>\n",
       "    </tr>\n",
       "  </tbody>\n",
       "</table>\n",
       "</div>"
      ],
      "text/plain": [
       "              qtde\n",
       "nomecliente       \n",
       "CLI1889      65343\n",
       "CLI3562      30997\n",
       "CLI2259      11361\n",
       "CLI3436       9814\n",
       "CLI3460       9256\n",
       "CLI3433       9111\n",
       "CLI761        9086\n",
       "CLI3454       7903\n",
       "CLI3226       7526\n",
       "CLI3060       6924"
      ]
     },
     "execution_count": 14,
     "metadata": {},
     "output_type": "execute_result"
    }
   ],
   "source": [
    "by_cliente_produto = data[['nomecliente','produto','qtde']].groupby([\"nomecliente\"]).sum()\n",
    "topcliente = by_cliente_produto.sort_values(by=[\"qtde\"],ascending=False)\n",
    "topcliente.head(10)"
   ]
  },
  {
   "cell_type": "code",
   "execution_count": 15,
   "metadata": {},
   "outputs": [],
   "source": [
    "# Calculando a media de venda por mes dos produtos"
   ]
  },
  {
   "cell_type": "code",
   "execution_count": 16,
   "metadata": {},
   "outputs": [
    {
     "data": {
      "text/html": [
       "<div>\n",
       "<style scoped>\n",
       "    .dataframe tbody tr th:only-of-type {\n",
       "        vertical-align: middle;\n",
       "    }\n",
       "\n",
       "    .dataframe tbody tr th {\n",
       "        vertical-align: top;\n",
       "    }\n",
       "\n",
       "    .dataframe thead th {\n",
       "        text-align: right;\n",
       "    }\n",
       "</style>\n",
       "<table border=\"1\" class=\"dataframe\">\n",
       "  <thead>\n",
       "    <tr style=\"text-align: right;\">\n",
       "      <th></th>\n",
       "      <th></th>\n",
       "      <th>qtde</th>\n",
       "    </tr>\n",
       "    <tr>\n",
       "      <th>produto</th>\n",
       "      <th>mes</th>\n",
       "      <th></th>\n",
       "    </tr>\n",
       "  </thead>\n",
       "  <tbody>\n",
       "    <tr>\n",
       "      <th rowspan=\"12\" valign=\"top\">4373</th>\n",
       "      <th>1</th>\n",
       "      <td>59.468750</td>\n",
       "    </tr>\n",
       "    <tr>\n",
       "      <th>12</th>\n",
       "      <td>134.000000</td>\n",
       "    </tr>\n",
       "    <tr>\n",
       "      <th>11</th>\n",
       "      <td>140.466667</td>\n",
       "    </tr>\n",
       "    <tr>\n",
       "      <th>10</th>\n",
       "      <td>98.700000</td>\n",
       "    </tr>\n",
       "    <tr>\n",
       "      <th>8</th>\n",
       "      <td>89.565217</td>\n",
       "    </tr>\n",
       "    <tr>\n",
       "      <th>7</th>\n",
       "      <td>176.371429</td>\n",
       "    </tr>\n",
       "    <tr>\n",
       "      <th>9</th>\n",
       "      <td>87.588235</td>\n",
       "    </tr>\n",
       "    <tr>\n",
       "      <th>5</th>\n",
       "      <td>80.516129</td>\n",
       "    </tr>\n",
       "    <tr>\n",
       "      <th>4</th>\n",
       "      <td>71.222222</td>\n",
       "    </tr>\n",
       "    <tr>\n",
       "      <th>3</th>\n",
       "      <td>95.562500</td>\n",
       "    </tr>\n",
       "    <tr>\n",
       "      <th>2</th>\n",
       "      <td>138.973684</td>\n",
       "    </tr>\n",
       "    <tr>\n",
       "      <th>6</th>\n",
       "      <td>66.611111</td>\n",
       "    </tr>\n",
       "    <tr>\n",
       "      <th rowspan=\"12\" valign=\"top\">4374</th>\n",
       "      <th>8</th>\n",
       "      <td>95.764706</td>\n",
       "    </tr>\n",
       "    <tr>\n",
       "      <th>12</th>\n",
       "      <td>173.111111</td>\n",
       "    </tr>\n",
       "    <tr>\n",
       "      <th>11</th>\n",
       "      <td>93.888889</td>\n",
       "    </tr>\n",
       "    <tr>\n",
       "      <th>10</th>\n",
       "      <td>91.333333</td>\n",
       "    </tr>\n",
       "    <tr>\n",
       "      <th>9</th>\n",
       "      <td>312.833333</td>\n",
       "    </tr>\n",
       "    <tr>\n",
       "      <th>7</th>\n",
       "      <td>56.750000</td>\n",
       "    </tr>\n",
       "    <tr>\n",
       "      <th>3</th>\n",
       "      <td>67.100000</td>\n",
       "    </tr>\n",
       "    <tr>\n",
       "      <th>5</th>\n",
       "      <td>109.931034</td>\n",
       "    </tr>\n",
       "    <tr>\n",
       "      <th>4</th>\n",
       "      <td>60.790698</td>\n",
       "    </tr>\n",
       "    <tr>\n",
       "      <th>2</th>\n",
       "      <td>110.370370</td>\n",
       "    </tr>\n",
       "    <tr>\n",
       "      <th>1</th>\n",
       "      <td>58.300000</td>\n",
       "    </tr>\n",
       "    <tr>\n",
       "      <th>6</th>\n",
       "      <td>71.041667</td>\n",
       "    </tr>\n",
       "    <tr>\n",
       "      <th rowspan=\"6\" valign=\"top\">4375</th>\n",
       "      <th>8</th>\n",
       "      <td>321.171875</td>\n",
       "    </tr>\n",
       "    <tr>\n",
       "      <th>12</th>\n",
       "      <td>211.574468</td>\n",
       "    </tr>\n",
       "    <tr>\n",
       "      <th>11</th>\n",
       "      <td>106.960000</td>\n",
       "    </tr>\n",
       "    <tr>\n",
       "      <th>10</th>\n",
       "      <td>194.716418</td>\n",
       "    </tr>\n",
       "    <tr>\n",
       "      <th>9</th>\n",
       "      <td>158.052632</td>\n",
       "    </tr>\n",
       "    <tr>\n",
       "      <th>7</th>\n",
       "      <td>154.938776</td>\n",
       "    </tr>\n",
       "    <tr>\n",
       "      <th>...</th>\n",
       "      <th>...</th>\n",
       "      <td>...</td>\n",
       "    </tr>\n",
       "    <tr>\n",
       "      <th rowspan=\"7\" valign=\"top\">4461</th>\n",
       "      <th>8</th>\n",
       "      <td>41.333333</td>\n",
       "    </tr>\n",
       "    <tr>\n",
       "      <th>2</th>\n",
       "      <td>71.159091</td>\n",
       "    </tr>\n",
       "    <tr>\n",
       "      <th>5</th>\n",
       "      <td>1.000000</td>\n",
       "    </tr>\n",
       "    <tr>\n",
       "      <th>4</th>\n",
       "      <td>34.785714</td>\n",
       "    </tr>\n",
       "    <tr>\n",
       "      <th>3</th>\n",
       "      <td>28.230769</td>\n",
       "    </tr>\n",
       "    <tr>\n",
       "      <th>1</th>\n",
       "      <td>71.238095</td>\n",
       "    </tr>\n",
       "    <tr>\n",
       "      <th>7</th>\n",
       "      <td>50.129032</td>\n",
       "    </tr>\n",
       "    <tr>\n",
       "      <th rowspan=\"12\" valign=\"top\">5140</th>\n",
       "      <th>12</th>\n",
       "      <td>127.351351</td>\n",
       "    </tr>\n",
       "    <tr>\n",
       "      <th>11</th>\n",
       "      <td>70.800000</td>\n",
       "    </tr>\n",
       "    <tr>\n",
       "      <th>10</th>\n",
       "      <td>119.666667</td>\n",
       "    </tr>\n",
       "    <tr>\n",
       "      <th>8</th>\n",
       "      <td>4.000000</td>\n",
       "    </tr>\n",
       "    <tr>\n",
       "      <th>7</th>\n",
       "      <td>1.000000</td>\n",
       "    </tr>\n",
       "    <tr>\n",
       "      <th>9</th>\n",
       "      <td>91.071429</td>\n",
       "    </tr>\n",
       "    <tr>\n",
       "      <th>5</th>\n",
       "      <td>62.000000</td>\n",
       "    </tr>\n",
       "    <tr>\n",
       "      <th>4</th>\n",
       "      <td>4.285714</td>\n",
       "    </tr>\n",
       "    <tr>\n",
       "      <th>3</th>\n",
       "      <td>62.909091</td>\n",
       "    </tr>\n",
       "    <tr>\n",
       "      <th>2</th>\n",
       "      <td>54.925926</td>\n",
       "    </tr>\n",
       "    <tr>\n",
       "      <th>1</th>\n",
       "      <td>56.195122</td>\n",
       "    </tr>\n",
       "    <tr>\n",
       "      <th>6</th>\n",
       "      <td>68.509091</td>\n",
       "    </tr>\n",
       "    <tr>\n",
       "      <th rowspan=\"11\" valign=\"top\">7</th>\n",
       "      <th>9</th>\n",
       "      <td>252.000000</td>\n",
       "    </tr>\n",
       "    <tr>\n",
       "      <th>8</th>\n",
       "      <td>50.000000</td>\n",
       "    </tr>\n",
       "    <tr>\n",
       "      <th>7</th>\n",
       "      <td>54.074074</td>\n",
       "    </tr>\n",
       "    <tr>\n",
       "      <th>6</th>\n",
       "      <td>48.750000</td>\n",
       "    </tr>\n",
       "    <tr>\n",
       "      <th>3</th>\n",
       "      <td>20.800000</td>\n",
       "    </tr>\n",
       "    <tr>\n",
       "      <th>4</th>\n",
       "      <td>229.900000</td>\n",
       "    </tr>\n",
       "    <tr>\n",
       "      <th>2</th>\n",
       "      <td>14.916667</td>\n",
       "    </tr>\n",
       "    <tr>\n",
       "      <th>1</th>\n",
       "      <td>235.066667</td>\n",
       "    </tr>\n",
       "    <tr>\n",
       "      <th>10</th>\n",
       "      <td>56.272727</td>\n",
       "    </tr>\n",
       "    <tr>\n",
       "      <th>5</th>\n",
       "      <td>22.368421</td>\n",
       "    </tr>\n",
       "    <tr>\n",
       "      <th>11</th>\n",
       "      <td>238.600000</td>\n",
       "    </tr>\n",
       "  </tbody>\n",
       "</table>\n",
       "<p>118 rows × 1 columns</p>\n",
       "</div>"
      ],
      "text/plain": [
       "                   qtde\n",
       "produto mes            \n",
       "4373    1     59.468750\n",
       "        12   134.000000\n",
       "        11   140.466667\n",
       "        10    98.700000\n",
       "        8     89.565217\n",
       "        7    176.371429\n",
       "        9     87.588235\n",
       "        5     80.516129\n",
       "        4     71.222222\n",
       "        3     95.562500\n",
       "        2    138.973684\n",
       "        6     66.611111\n",
       "4374    8     95.764706\n",
       "        12   173.111111\n",
       "        11    93.888889\n",
       "        10    91.333333\n",
       "        9    312.833333\n",
       "        7     56.750000\n",
       "        3     67.100000\n",
       "        5    109.931034\n",
       "        4     60.790698\n",
       "        2    110.370370\n",
       "        1     58.300000\n",
       "        6     71.041667\n",
       "4375    8    321.171875\n",
       "        12   211.574468\n",
       "        11   106.960000\n",
       "        10   194.716418\n",
       "        9    158.052632\n",
       "        7    154.938776\n",
       "...                 ...\n",
       "4461    8     41.333333\n",
       "        2     71.159091\n",
       "        5      1.000000\n",
       "        4     34.785714\n",
       "        3     28.230769\n",
       "        1     71.238095\n",
       "        7     50.129032\n",
       "5140    12   127.351351\n",
       "        11    70.800000\n",
       "        10   119.666667\n",
       "        8      4.000000\n",
       "        7      1.000000\n",
       "        9     91.071429\n",
       "        5     62.000000\n",
       "        4      4.285714\n",
       "        3     62.909091\n",
       "        2     54.925926\n",
       "        1     56.195122\n",
       "        6     68.509091\n",
       "7       9    252.000000\n",
       "        8     50.000000\n",
       "        7     54.074074\n",
       "        6     48.750000\n",
       "        3     20.800000\n",
       "        4    229.900000\n",
       "        2     14.916667\n",
       "        1    235.066667\n",
       "        10    56.272727\n",
       "        5     22.368421\n",
       "        11   238.600000\n",
       "\n",
       "[118 rows x 1 columns]"
      ]
     },
     "execution_count": 16,
     "metadata": {},
     "output_type": "execute_result"
    }
   ],
   "source": [
    "by_produto_ano = data[['produto','mes','qtde']].groupby([\"produto\",\"mes\"]).mean()\n",
    "by_produto_ano.sort_values(by='produto',ascending=True)"
   ]
  },
  {
   "cell_type": "code",
   "execution_count": 17,
   "metadata": {},
   "outputs": [],
   "source": [
    "# Grafico de vendas por mes(todos os anos)"
   ]
  },
  {
   "cell_type": "code",
   "execution_count": 18,
   "metadata": {},
   "outputs": [
    {
     "data": {
      "text/plain": [
       "<matplotlib.axes._subplots.AxesSubplot at 0x176a8134f60>"
      ]
     },
     "execution_count": 18,
     "metadata": {},
     "output_type": "execute_result"
    },
    {
     "data": {
      "image/png": "[encoded data removed]",
      "text/plain": [
       "<Figure size 432x288 with 1 Axes>"
      ]
     },
     "metadata": {
      "needs_background": "light"
     },
     "output_type": "display_data"
    }
   ],
   "source": [
    "sns.lineplot(x=\"mes\", y=\"qtde\", data=data, estimator=np.sum)"
   ]
  },
  {
   "cell_type": "code",
   "execution_count": 19,
   "metadata": {},
   "outputs": [],
   "source": [
    "# Vendas mensal(todos os anos) e Produto"
   ]
  },
  {
   "cell_type": "code",
   "execution_count": 20,
   "metadata": {},
   "outputs": [
    {
     "data": {
      "text/plain": [
       "<matplotlib.axes._subplots.AxesSubplot at 0x176a8250c18>"
      ]
     },
     "execution_count": 20,
     "metadata": {},
     "output_type": "execute_result"
    },
    {
     "data": {
      "image/png": "[encoded data removed]",
      "text/plain": [
       "<Figure size 432x288 with 1 Axes>"
      ]
     },
     "metadata": {
      "needs_background": "light"
     },
     "output_type": "display_data"
    }
   ],
   "source": [
    "sns.countplot(x='mes',hue='produto',data=data)"
   ]
  },
  {
   "cell_type": "markdown",
   "metadata": {},
   "source": [
    "# Tratando o dataset para treino\n"
   ]
  },
  {
   "cell_type": "code",
   "execution_count": 21,
   "metadata": {},
   "outputs": [],
   "source": [
    "import pandas as pd\n",
    "import numpy as np\n",
    "import matplotlib.pyplot as plt # biblioteca de visualização utilizada pelo pandas e pelo seaborn\n",
    "import seaborn as sns # biblioteca de visualização com mais opções de gráficos\n",
    " #comando necessário para que as imagens sejam exibidas aqui mesmo no notebook\n",
    "%matplotlib inline"
   ]
  },
  {
   "cell_type": "code",
   "execution_count": 22,
   "metadata": {},
   "outputs": [
    {
     "data": {
      "text/html": [
       "<div>\n",
       "<style scoped>\n",
       "    .dataframe tbody tr th:only-of-type {\n",
       "        vertical-align: middle;\n",
       "    }\n",
       "\n",
       "    .dataframe tbody tr th {\n",
       "        vertical-align: top;\n",
       "    }\n",
       "\n",
       "    .dataframe thead th {\n",
       "        text-align: right;\n",
       "    }\n",
       "</style>\n",
       "<table border=\"1\" class=\"dataframe\">\n",
       "  <thead>\n",
       "    <tr style=\"text-align: right;\">\n",
       "      <th></th>\n",
       "      <th>cod</th>\n",
       "      <th>dataemissao</th>\n",
       "      <th>mes</th>\n",
       "      <th>ano</th>\n",
       "      <th>nomecliente</th>\n",
       "      <th>produto</th>\n",
       "      <th>qtde</th>\n",
       "      <th>prcunit</th>\n",
       "      <th>total</th>\n",
       "      <th>custounit</th>\n",
       "      <th>margem</th>\n",
       "      <th>estoque</th>\n",
       "      <th>compra</th>\n",
       "    </tr>\n",
       "  </thead>\n",
       "  <tbody>\n",
       "    <tr>\n",
       "      <th>0</th>\n",
       "      <td>1</td>\n",
       "      <td>03/01/2019</td>\n",
       "      <td>1</td>\n",
       "      <td>2019</td>\n",
       "      <td>CLI3460</td>\n",
       "      <td>5140</td>\n",
       "      <td>240</td>\n",
       "      <td>23.64</td>\n",
       "      <td>5673.60</td>\n",
       "      <td>10.232</td>\n",
       "      <td>13.408</td>\n",
       "      <td>530</td>\n",
       "      <td>COMPRA</td>\n",
       "    </tr>\n",
       "    <tr>\n",
       "      <th>1</th>\n",
       "      <td>2</td>\n",
       "      <td>03/01/2019</td>\n",
       "      <td>1</td>\n",
       "      <td>2019</td>\n",
       "      <td>CLI3433</td>\n",
       "      <td>5140</td>\n",
       "      <td>48</td>\n",
       "      <td>23.64</td>\n",
       "      <td>1134.72</td>\n",
       "      <td>10.232</td>\n",
       "      <td>13.408</td>\n",
       "      <td>563</td>\n",
       "      <td>COMPRA</td>\n",
       "    </tr>\n",
       "    <tr>\n",
       "      <th>2</th>\n",
       "      <td>3</td>\n",
       "      <td>03/01/2019</td>\n",
       "      <td>1</td>\n",
       "      <td>2019</td>\n",
       "      <td>CLI3455</td>\n",
       "      <td>5140</td>\n",
       "      <td>16</td>\n",
       "      <td>23.64</td>\n",
       "      <td>378.24</td>\n",
       "      <td>10.232</td>\n",
       "      <td>13.408</td>\n",
       "      <td>229</td>\n",
       "      <td>COMPRA</td>\n",
       "    </tr>\n",
       "    <tr>\n",
       "      <th>3</th>\n",
       "      <td>4</td>\n",
       "      <td>03/01/2019</td>\n",
       "      <td>1</td>\n",
       "      <td>2019</td>\n",
       "      <td>CLI3587</td>\n",
       "      <td>5140</td>\n",
       "      <td>8</td>\n",
       "      <td>23.64</td>\n",
       "      <td>189.12</td>\n",
       "      <td>10.232</td>\n",
       "      <td>13.408</td>\n",
       "      <td>269</td>\n",
       "      <td>COMPRA</td>\n",
       "    </tr>\n",
       "    <tr>\n",
       "      <th>4</th>\n",
       "      <td>5</td>\n",
       "      <td>03/01/2019</td>\n",
       "      <td>1</td>\n",
       "      <td>2019</td>\n",
       "      <td>CLI3472</td>\n",
       "      <td>5140</td>\n",
       "      <td>8</td>\n",
       "      <td>23.64</td>\n",
       "      <td>189.12</td>\n",
       "      <td>9.050</td>\n",
       "      <td>14.590</td>\n",
       "      <td>119</td>\n",
       "      <td>COMPRA</td>\n",
       "    </tr>\n",
       "  </tbody>\n",
       "</table>\n",
       "</div>"
      ],
      "text/plain": [
       "   cod dataemissao  mes   ano nomecliente produto  qtde  prcunit    total  \\\n",
       "0    1  03/01/2019    1  2019     CLI3460    5140   240    23.64  5673.60   \n",
       "1    2  03/01/2019    1  2019     CLI3433    5140    48    23.64  1134.72   \n",
       "2    3  03/01/2019    1  2019     CLI3455    5140    16    23.64   378.24   \n",
       "3    4  03/01/2019    1  2019     CLI3587    5140     8    23.64   189.12   \n",
       "4    5  03/01/2019    1  2019     CLI3472    5140     8    23.64   189.12   \n",
       "\n",
       "   custounit  margem  estoque  compra  \n",
       "0     10.232  13.408      530  COMPRA  \n",
       "1     10.232  13.408      563  COMPRA  \n",
       "2     10.232  13.408      229  COMPRA  \n",
       "3     10.232  13.408      269  COMPRA  \n",
       "4      9.050  14.590      119  COMPRA  "
      ]
     },
     "execution_count": 22,
     "metadata": {},
     "output_type": "execute_result"
    }
   ],
   "source": [
    "df = data\n",
    "df.head(5)"
   ]
  },
  {
   "cell_type": "code",
   "execution_count": 23,
   "metadata": {},
   "outputs": [],
   "source": [
    "# Elimar os atributos que nao influencia na analise"
   ]
  },
  {
   "cell_type": "code",
   "execution_count": 24,
   "metadata": {},
   "outputs": [
    {
     "data": {
      "text/html": [
       "<div>\n",
       "<style scoped>\n",
       "    .dataframe tbody tr th:only-of-type {\n",
       "        vertical-align: middle;\n",
       "    }\n",
       "\n",
       "    .dataframe tbody tr th {\n",
       "        vertical-align: top;\n",
       "    }\n",
       "\n",
       "    .dataframe thead th {\n",
       "        text-align: right;\n",
       "    }\n",
       "</style>\n",
       "<table border=\"1\" class=\"dataframe\">\n",
       "  <thead>\n",
       "    <tr style=\"text-align: right;\">\n",
       "      <th></th>\n",
       "      <th>mes</th>\n",
       "      <th>ano</th>\n",
       "      <th>produto</th>\n",
       "      <th>qtde</th>\n",
       "      <th>prcunit</th>\n",
       "      <th>total</th>\n",
       "      <th>custounit</th>\n",
       "      <th>margem</th>\n",
       "      <th>estoque</th>\n",
       "      <th>compra</th>\n",
       "    </tr>\n",
       "  </thead>\n",
       "  <tbody>\n",
       "    <tr>\n",
       "      <th>0</th>\n",
       "      <td>1</td>\n",
       "      <td>2019</td>\n",
       "      <td>5140</td>\n",
       "      <td>240</td>\n",
       "      <td>23.64</td>\n",
       "      <td>5673.60</td>\n",
       "      <td>10.232</td>\n",
       "      <td>13.408</td>\n",
       "      <td>530</td>\n",
       "      <td>COMPRA</td>\n",
       "    </tr>\n",
       "    <tr>\n",
       "      <th>1</th>\n",
       "      <td>1</td>\n",
       "      <td>2019</td>\n",
       "      <td>5140</td>\n",
       "      <td>48</td>\n",
       "      <td>23.64</td>\n",
       "      <td>1134.72</td>\n",
       "      <td>10.232</td>\n",
       "      <td>13.408</td>\n",
       "      <td>563</td>\n",
       "      <td>COMPRA</td>\n",
       "    </tr>\n",
       "    <tr>\n",
       "      <th>2</th>\n",
       "      <td>1</td>\n",
       "      <td>2019</td>\n",
       "      <td>5140</td>\n",
       "      <td>16</td>\n",
       "      <td>23.64</td>\n",
       "      <td>378.24</td>\n",
       "      <td>10.232</td>\n",
       "      <td>13.408</td>\n",
       "      <td>229</td>\n",
       "      <td>COMPRA</td>\n",
       "    </tr>\n",
       "    <tr>\n",
       "      <th>3</th>\n",
       "      <td>1</td>\n",
       "      <td>2019</td>\n",
       "      <td>5140</td>\n",
       "      <td>8</td>\n",
       "      <td>23.64</td>\n",
       "      <td>189.12</td>\n",
       "      <td>10.232</td>\n",
       "      <td>13.408</td>\n",
       "      <td>269</td>\n",
       "      <td>COMPRA</td>\n",
       "    </tr>\n",
       "    <tr>\n",
       "      <th>4</th>\n",
       "      <td>1</td>\n",
       "      <td>2019</td>\n",
       "      <td>5140</td>\n",
       "      <td>8</td>\n",
       "      <td>23.64</td>\n",
       "      <td>189.12</td>\n",
       "      <td>9.050</td>\n",
       "      <td>14.590</td>\n",
       "      <td>119</td>\n",
       "      <td>COMPRA</td>\n",
       "    </tr>\n",
       "  </tbody>\n",
       "</table>\n",
       "</div>"
      ],
      "text/plain": [
       "   mes   ano produto  qtde  prcunit    total  custounit  margem  estoque  \\\n",
       "0    1  2019    5140   240    23.64  5673.60     10.232  13.408      530   \n",
       "1    1  2019    5140    48    23.64  1134.72     10.232  13.408      563   \n",
       "2    1  2019    5140    16    23.64   378.24     10.232  13.408      229   \n",
       "3    1  2019    5140     8    23.64   189.12     10.232  13.408      269   \n",
       "4    1  2019    5140     8    23.64   189.12      9.050  14.590      119   \n",
       "\n",
       "   compra  \n",
       "0  COMPRA  \n",
       "1  COMPRA  \n",
       "2  COMPRA  \n",
       "3  COMPRA  \n",
       "4  COMPRA  "
      ]
     },
     "execution_count": 24,
     "metadata": {},
     "output_type": "execute_result"
    }
   ],
   "source": [
    "df.drop(['cod','dataemissao','nomecliente'],axis=1, inplace=True)\n",
    "df.head(5)"
   ]
  },
  {
   "cell_type": "code",
   "execution_count": 25,
   "metadata": {},
   "outputs": [],
   "source": [
    "# One Hot Encode -  Subtistuir valor da coluna Compra( Compra = 1 e NaoCompra = 0)"
   ]
  },
  {
   "cell_type": "code",
   "execution_count": 26,
   "metadata": {},
   "outputs": [],
   "source": [
    "df[\"compra\"] = df[\"compra\"].replace(\"COMPRA\", \"1\")\n",
    "df[\"compra\"] = df[\"compra\"].replace(\"NAOCOMPRA\", \"0\")"
   ]
  },
  {
   "cell_type": "code",
   "execution_count": 27,
   "metadata": {},
   "outputs": [
    {
     "data": {
      "text/html": [
       "<div>\n",
       "<style scoped>\n",
       "    .dataframe tbody tr th:only-of-type {\n",
       "        vertical-align: middle;\n",
       "    }\n",
       "\n",
       "    .dataframe tbody tr th {\n",
       "        vertical-align: top;\n",
       "    }\n",
       "\n",
       "    .dataframe thead th {\n",
       "        text-align: right;\n",
       "    }\n",
       "</style>\n",
       "<table border=\"1\" class=\"dataframe\">\n",
       "  <thead>\n",
       "    <tr style=\"text-align: right;\">\n",
       "      <th></th>\n",
       "      <th>mes</th>\n",
       "      <th>ano</th>\n",
       "      <th>produto</th>\n",
       "      <th>qtde</th>\n",
       "      <th>prcunit</th>\n",
       "      <th>total</th>\n",
       "      <th>custounit</th>\n",
       "      <th>margem</th>\n",
       "      <th>estoque</th>\n",
       "      <th>compra</th>\n",
       "    </tr>\n",
       "  </thead>\n",
       "  <tbody>\n",
       "    <tr>\n",
       "      <th>0</th>\n",
       "      <td>1</td>\n",
       "      <td>2019</td>\n",
       "      <td>5140</td>\n",
       "      <td>240</td>\n",
       "      <td>23.64</td>\n",
       "      <td>5673.60</td>\n",
       "      <td>10.232</td>\n",
       "      <td>13.408</td>\n",
       "      <td>530</td>\n",
       "      <td>1</td>\n",
       "    </tr>\n",
       "    <tr>\n",
       "      <th>1</th>\n",
       "      <td>1</td>\n",
       "      <td>2019</td>\n",
       "      <td>5140</td>\n",
       "      <td>48</td>\n",
       "      <td>23.64</td>\n",
       "      <td>1134.72</td>\n",
       "      <td>10.232</td>\n",
       "      <td>13.408</td>\n",
       "      <td>563</td>\n",
       "      <td>1</td>\n",
       "    </tr>\n",
       "    <tr>\n",
       "      <th>2</th>\n",
       "      <td>1</td>\n",
       "      <td>2019</td>\n",
       "      <td>5140</td>\n",
       "      <td>16</td>\n",
       "      <td>23.64</td>\n",
       "      <td>378.24</td>\n",
       "      <td>10.232</td>\n",
       "      <td>13.408</td>\n",
       "      <td>229</td>\n",
       "      <td>1</td>\n",
       "    </tr>\n",
       "    <tr>\n",
       "      <th>3</th>\n",
       "      <td>1</td>\n",
       "      <td>2019</td>\n",
       "      <td>5140</td>\n",
       "      <td>8</td>\n",
       "      <td>23.64</td>\n",
       "      <td>189.12</td>\n",
       "      <td>10.232</td>\n",
       "      <td>13.408</td>\n",
       "      <td>269</td>\n",
       "      <td>1</td>\n",
       "    </tr>\n",
       "    <tr>\n",
       "      <th>4</th>\n",
       "      <td>1</td>\n",
       "      <td>2019</td>\n",
       "      <td>5140</td>\n",
       "      <td>8</td>\n",
       "      <td>23.64</td>\n",
       "      <td>189.12</td>\n",
       "      <td>9.050</td>\n",
       "      <td>14.590</td>\n",
       "      <td>119</td>\n",
       "      <td>1</td>\n",
       "    </tr>\n",
       "  </tbody>\n",
       "</table>\n",
       "</div>"
      ],
      "text/plain": [
       "   mes   ano produto  qtde  prcunit    total  custounit  margem  estoque  \\\n",
       "0    1  2019    5140   240    23.64  5673.60     10.232  13.408      530   \n",
       "1    1  2019    5140    48    23.64  1134.72     10.232  13.408      563   \n",
       "2    1  2019    5140    16    23.64   378.24     10.232  13.408      229   \n",
       "3    1  2019    5140     8    23.64   189.12     10.232  13.408      269   \n",
       "4    1  2019    5140     8    23.64   189.12      9.050  14.590      119   \n",
       "\n",
       "  compra  \n",
       "0      1  \n",
       "1      1  \n",
       "2      1  \n",
       "3      1  \n",
       "4      1  "
      ]
     },
     "execution_count": 27,
     "metadata": {},
     "output_type": "execute_result"
    }
   ],
   "source": [
    "df.head(5)"
   ]
  },
  {
   "cell_type": "code",
   "execution_count": 28,
   "metadata": {},
   "outputs": [
    {
     "data": {
      "text/plain": [
       "<matplotlib.axes._subplots.AxesSubplot at 0x176a89b43c8>"
      ]
     },
     "execution_count": 28,
     "metadata": {},
     "output_type": "execute_result"
    },
    {
     "data": {
      "image/png": "[encoded data removed]",
      "text/plain": [
       "<Figure size 432x288 with 1 Axes>"
      ]
     },
     "metadata": {
      "needs_background": "light"
     },
     "output_type": "display_data"
    }
   ],
   "source": [
    "sns.countplot(x='ano',hue='compra',data=df)"
   ]
  },
  {
   "cell_type": "markdown",
   "metadata": {},
   "source": [
    "# 2. Treinar o Classificador"
   ]
  },
  {
   "cell_type": "code",
   "execution_count": 29,
   "metadata": {},
   "outputs": [],
   "source": [
    "import itertools\n",
    "from sklearn.tree import DecisionTreeClassifier\n",
    "from sklearn.model_selection import train_test_split\n",
    "from sklearn.metrics import classification_report, confusion_matrix"
   ]
  },
  {
   "cell_type": "code",
   "execution_count": 30,
   "metadata": {},
   "outputs": [],
   "source": [
    "train = df # Transferindo o dataset DF para train, para efetuar os treinos\n"
   ]
  },
  {
   "cell_type": "code",
   "execution_count": 31,
   "metadata": {},
   "outputs": [],
   "source": [
    "X_train, X_test, y_train, y_test = train_test_split(train.drop(['compra'],axis=1), \n",
    "                                                    train['compra'], test_size=0.30, \n",
    "                                                    random_state=101)"
   ]
  },
  {
   "cell_type": "code",
   "execution_count": 32,
   "metadata": {},
   "outputs": [],
   "source": [
    "# Criar um objeto do classificador DecisionTreeClassifier()\n",
    "dtc = DecisionTreeClassifier(max_depth=3)"
   ]
  },
  {
   "cell_type": "code",
   "execution_count": 33,
   "metadata": {},
   "outputs": [
    {
     "data": {
      "text/plain": [
       "DecisionTreeClassifier(class_weight=None, criterion='gini', max_depth=3,\n",
       "            max_features=None, max_leaf_nodes=None,\n",
       "            min_impurity_decrease=0.0, min_impurity_split=None,\n",
       "            min_samples_leaf=1, min_samples_split=2,\n",
       "            min_weight_fraction_leaf=0.0, presort=False, random_state=None,\n",
       "            splitter='best')"
      ]
     },
     "execution_count": 33,
     "metadata": {},
     "output_type": "execute_result"
    }
   ],
   "source": [
    "# Treinar o modelo dtc chamando a função fit\n",
    "dtc.fit(X_train, y_train)"
   ]
  },
  {
   "cell_type": "code",
   "execution_count": 34,
   "metadata": {},
   "outputs": [],
   "source": [
    "# Fazer as predições passanto o X_TEST\n",
    "predictions = dtc.predict(X_test)"
   ]
  },
  {
   "cell_type": "code",
   "execution_count": 35,
   "metadata": {},
   "outputs": [
    {
     "data": {
      "text/plain": [
       "array([[200,  48],\n",
       "       [ 14, 585]], dtype=int64)"
      ]
     },
     "execution_count": 35,
     "metadata": {},
     "output_type": "execute_result"
    }
   ],
   "source": [
    "# Matrix de confusão\n",
    "cnf_matrix = confusion_matrix(y_test, predictions)\n",
    "cnf_matrix"
   ]
  },
  {
   "cell_type": "code",
   "execution_count": 36,
   "metadata": {},
   "outputs": [],
   "source": [
    "#Plotar matriz de confusão\n",
    "def plot_confusion_matrix(cm, classes,\n",
    "                          normalize=False,\n",
    "                          title='Confusion matrix',\n",
    "                          cmap=plt.cm.Blues):\n",
    "    \"\"\"\n",
    "    This function prints and plots the confusion matrix.\n",
    "    Normalization can be applied by setting `normalize=True`.\n",
    "    \"\"\"\n",
    "    if normalize:\n",
    "        cm = cm.astype('float') / cm.sum(axis=1)[:, np.newaxis]\n",
    "        print(\"Normalized confusion matrix\")\n",
    "    else:\n",
    "        print('Confusion matrix, without normalization')\n",
    "\n",
    "    print(cm)\n",
    "\n",
    "    plt.imshow(cm, interpolation='nearest', cmap=cmap)\n",
    "    plt.title(title)\n",
    "    plt.colorbar()\n",
    "    tick_marks = np.arange(len(classes))\n",
    "    plt.xticks(tick_marks, classes, rotation=45)\n",
    "    plt.yticks(tick_marks, classes)\n",
    "\n",
    "    fmt = '.2f' if normalize else 'd'\n",
    "    thresh = cm.max() / 2.\n",
    "    for i, j in itertools.product(range(cm.shape[0]), range(cm.shape[1])):\n",
    "        plt.text(j, i, format(cm[i, j], fmt),\n",
    "                 horizontalalignment=\"center\",\n",
    "                 color=\"white\" if cm[i, j] > thresh else \"black\")\n",
    "\n",
    "    plt.ylabel('True label')\n",
    "    plt.xlabel('Predicted label')\n",
    "    plt.tight_layout()"
   ]
  },
  {
   "cell_type": "code",
   "execution_count": 37,
   "metadata": {},
   "outputs": [
    {
     "name": "stdout",
     "output_type": "stream",
     "text": [
      "Confusion matrix, without normalization\n",
      "[[200  48]\n",
      " [ 14 585]]\n"
     ]
    },
    {
     "data": {
      "image/png": "[encoded data removed]",
      "text/plain": [
       "<Figure size 432x288 with 2 Axes>"
      ]
     },
     "metadata": {
      "needs_background": "light"
     },
     "output_type": "display_data"
    }
   ],
   "source": [
    "plot_confusion_matrix(cnf_matrix, classes=['Compra','NaoCompra'],\n",
    "                      title='Confusion matrix, without normalization')"
   ]
  },
  {
   "cell_type": "code",
   "execution_count": 38,
   "metadata": {},
   "outputs": [
    {
     "name": "stdout",
     "output_type": "stream",
     "text": [
      "              precision    recall  f1-score   support\n",
      "\n",
      "           0       0.93      0.81      0.87       248\n",
      "           1       0.92      0.98      0.95       599\n",
      "\n",
      "   micro avg       0.93      0.93      0.93       847\n",
      "   macro avg       0.93      0.89      0.91       847\n",
      "weighted avg       0.93      0.93      0.93       847\n",
      "\n"
     ]
    }
   ],
   "source": [
    "print(classification_report(y_test,predictions))"
   ]
  },
  {
   "cell_type": "code",
   "execution_count": null,
   "metadata": {},
   "outputs": [],
   "source": []
  },
  {
   "cell_type": "code",
   "execution_count": 39,
   "metadata": {},
   "outputs": [],
   "source": [
    "# validação cruzada para verificar se o modelo está em overfit\n",
    "#ordenando os dados de proposito para dificultar o trabalho do modelo"
   ]
  },
  {
   "cell_type": "code",
   "execution_count": 40,
   "metadata": {},
   "outputs": [
    {
     "data": {
      "text/html": [
       "<div>\n",
       "<style scoped>\n",
       "    .dataframe tbody tr th:only-of-type {\n",
       "        vertical-align: middle;\n",
       "    }\n",
       "\n",
       "    .dataframe tbody tr th {\n",
       "        vertical-align: top;\n",
       "    }\n",
       "\n",
       "    .dataframe thead th {\n",
       "        text-align: right;\n",
       "    }\n",
       "</style>\n",
       "<table border=\"1\" class=\"dataframe\">\n",
       "  <thead>\n",
       "    <tr style=\"text-align: right;\">\n",
       "      <th></th>\n",
       "      <th>mes</th>\n",
       "      <th>ano</th>\n",
       "      <th>produto</th>\n",
       "      <th>qtde</th>\n",
       "      <th>prcunit</th>\n",
       "      <th>total</th>\n",
       "      <th>custounit</th>\n",
       "      <th>margem</th>\n",
       "      <th>estoque</th>\n",
       "      <th>compra</th>\n",
       "    </tr>\n",
       "  </thead>\n",
       "  <tbody>\n",
       "    <tr>\n",
       "      <th>2822</th>\n",
       "      <td>11</td>\n",
       "      <td>2019</td>\n",
       "      <td>7</td>\n",
       "      <td>1000</td>\n",
       "      <td>15.58</td>\n",
       "      <td>15580.00</td>\n",
       "      <td>9.06231</td>\n",
       "      <td>6.51769</td>\n",
       "      <td>367</td>\n",
       "      <td>0</td>\n",
       "    </tr>\n",
       "    <tr>\n",
       "      <th>796</th>\n",
       "      <td>4</td>\n",
       "      <td>2019</td>\n",
       "      <td>4414</td>\n",
       "      <td>77</td>\n",
       "      <td>9.31</td>\n",
       "      <td>716.87</td>\n",
       "      <td>4.38227</td>\n",
       "      <td>4.92773</td>\n",
       "      <td>219</td>\n",
       "      <td>0</td>\n",
       "    </tr>\n",
       "    <tr>\n",
       "      <th>2265</th>\n",
       "      <td>6</td>\n",
       "      <td>2019</td>\n",
       "      <td>4374</td>\n",
       "      <td>121</td>\n",
       "      <td>10.58</td>\n",
       "      <td>1280.18</td>\n",
       "      <td>5.05669</td>\n",
       "      <td>5.52331</td>\n",
       "      <td>37</td>\n",
       "      <td>0</td>\n",
       "    </tr>\n",
       "    <tr>\n",
       "      <th>800</th>\n",
       "      <td>4</td>\n",
       "      <td>2019</td>\n",
       "      <td>4414</td>\n",
       "      <td>1</td>\n",
       "      <td>3.30</td>\n",
       "      <td>1.65</td>\n",
       "      <td>4.54727</td>\n",
       "      <td>-1.24727</td>\n",
       "      <td>510</td>\n",
       "      <td>0</td>\n",
       "    </tr>\n",
       "    <tr>\n",
       "      <th>803</th>\n",
       "      <td>4</td>\n",
       "      <td>2019</td>\n",
       "      <td>4414</td>\n",
       "      <td>33</td>\n",
       "      <td>3.30</td>\n",
       "      <td>108.90</td>\n",
       "      <td>4.54727</td>\n",
       "      <td>-1.24727</td>\n",
       "      <td>564</td>\n",
       "      <td>0</td>\n",
       "    </tr>\n",
       "  </tbody>\n",
       "</table>\n",
       "</div>"
      ],
      "text/plain": [
       "      mes   ano produto  qtde  prcunit     total  custounit   margem  estoque  \\\n",
       "2822   11  2019       7  1000    15.58  15580.00    9.06231  6.51769      367   \n",
       "796     4  2019    4414    77     9.31    716.87    4.38227  4.92773      219   \n",
       "2265    6  2019    4374   121    10.58   1280.18    5.05669  5.52331       37   \n",
       "800     4  2019    4414     1     3.30      1.65    4.54727 -1.24727      510   \n",
       "803     4  2019    4414    33     3.30    108.90    4.54727 -1.24727      564   \n",
       "\n",
       "     compra  \n",
       "2822      0  \n",
       "796       0  \n",
       "2265      0  \n",
       "800       0  \n",
       "803       0  "
      ]
     },
     "execution_count": 40,
     "metadata": {},
     "output_type": "execute_result"
    }
   ],
   "source": [
    "train2 = df.sort_values(\"compra\", ascending=True)  # Transferindo o dataset DF para train, para efetuar os treinos\n",
    "train2.head(5)"
   ]
  },
  {
   "cell_type": "code",
   "execution_count": 41,
   "metadata": {},
   "outputs": [],
   "source": [
    "X_train, X_test, y_train, y_test = train_test_split(train2.drop(['compra'],axis=1), \n",
    "                                                    train2['compra'], test_size=0.30, \n",
    "                                                    random_state=101)"
   ]
  },
  {
   "cell_type": "code",
   "execution_count": 42,
   "metadata": {},
   "outputs": [
    {
     "name": "stdout",
     "output_type": "stream",
     "text": [
      "Accuracy com cross validation, 10 = [89.08, 96.95]\n"
     ]
    }
   ],
   "source": [
    "from sklearn.model_selection import cross_validate\n",
    "modelo = DecisionTreeClassifier(max_depth=3)\n",
    "results = cross_validate(modelo, X_train, y_train, cv = 10, return_train_score=False)\n",
    "media = results['test_score'].mean()\n",
    "desvio_padrao = results['test_score'].std()\n",
    "print(\"Accuracy com cross validation, 10 = [%.2f, %.2f]\" % ((media - 2 * desvio_padrao)*100,\n",
    "                                                            (media + 2 * desvio_padrao) * 100))"
   ]
  },
  {
   "cell_type": "code",
   "execution_count": null,
   "metadata": {},
   "outputs": [],
   "source": [
    "#Variando de 89% a 96%, o cross validation confirmou a eficiência do modelo.\n",
    "\n",
    "#imprimir arvore de decisao"
   ]
  },
  {
   "cell_type": "code",
   "execution_count": 43,
   "metadata": {},
   "outputs": [],
   "source": [
    "from sklearn.tree import export_graphviz\n",
    "import graphviz\n",
    "\n",
    "#treina o modelo final\n",
    "modelo.fit(X_train, y_train)\n",
    "features = X_train.columns\n",
    "dot_data = export_graphviz(modelo, out_file=None, filled=True, rounded=True, \n",
    "                class_names=[\"não\", \"sim\"], \n",
    "                feature_names =  features)\n",
    "\n",
    "graph = graphviz.Source(dot_data)"
   ]
  },
  {
   "cell_type": "code",
   "execution_count": 44,
   "metadata": {},
   "outputs": [
    {
     "data": {
      "image/svg+xml": [
       "<?xml version=\"1.0\" encoding=\"UTF-8\" standalone=\"no\"?>\r\n",
       "<!DOCTYPE svg PUBLIC \"-//W3C//DTD SVG 1.1//EN\"\r\n",
       " \"http://www.w3.org/Graphics/SVG/1.1/DTD/svg11.dtd\">\r\n",
       "<!-- Generated by graphviz version 2.38.0 (20140413.2041)\r\n",
       " -->\r\n",
       "<!-- Title: Tree Pages: 1 -->\r\n",
       "<svg width=\"1034pt\" height=\"433pt\"\r\n",
       " viewBox=\"0.00 0.00 1033.50 433.00\" xmlns=\"http://www.w3.org/2000/svg\" xmlns:xlink=\"http://www.w3.org/1999/xlink\">\r\n",
       "<g id=\"graph0\" class=\"graph\" transform=\"scale(1 1) rotate(0) translate(4 429)\">\r\n",
       "<title>Tree</title>\r\n",
       "<polygon fill=\"white\" stroke=\"none\" points=\"-4,4 -4,-429 1029.5,-429 1029.5,4 -4,4\"/>\r\n",
       "<!-- 0 -->\r\n",
       "<g id=\"node1\" class=\"node\"><title>0</title>\r\n",
       "<path fill=\"#399de5\" fill-opacity=\"0.588235\" stroke=\"black\" d=\"M566.5,-425C566.5,-425 452.5,-425 452.5,-425 446.5,-425 440.5,-419 440.5,-413 440.5,-413 440.5,-354 440.5,-354 440.5,-348 446.5,-342 452.5,-342 452.5,-342 566.5,-342 566.5,-342 572.5,-342 578.5,-348 578.5,-354 578.5,-354 578.5,-413 578.5,-413 578.5,-419 572.5,-425 566.5,-425\"/>\r\n",
       "<text text-anchor=\"middle\" x=\"509.5\" y=\"-409.8\" font-family=\"Helvetica,sans-Serif\" font-size=\"14.00\">prcunit &lt;= 10.6</text>\r\n",
       "<text text-anchor=\"middle\" x=\"509.5\" y=\"-394.8\" font-family=\"Helvetica,sans-Serif\" font-size=\"14.00\">gini = 0.414</text>\r\n",
       "<text text-anchor=\"middle\" x=\"509.5\" y=\"-379.8\" font-family=\"Helvetica,sans-Serif\" font-size=\"14.00\">samples = 1976</text>\r\n",
       "<text text-anchor=\"middle\" x=\"509.5\" y=\"-364.8\" font-family=\"Helvetica,sans-Serif\" font-size=\"14.00\">value = [578, 1398]</text>\r\n",
       "<text text-anchor=\"middle\" x=\"509.5\" y=\"-349.8\" font-family=\"Helvetica,sans-Serif\" font-size=\"14.00\">class = sim</text>\r\n",
       "</g>\r\n",
       "<!-- 1 -->\r\n",
       "<g id=\"node2\" class=\"node\"><title>1</title>\r\n",
       "<path fill=\"#e58139\" fill-opacity=\"0.784314\" stroke=\"black\" d=\"M464.5,-306C464.5,-306 358.5,-306 358.5,-306 352.5,-306 346.5,-300 346.5,-294 346.5,-294 346.5,-235 346.5,-235 346.5,-229 352.5,-223 358.5,-223 358.5,-223 464.5,-223 464.5,-223 470.5,-223 476.5,-229 476.5,-235 476.5,-235 476.5,-294 476.5,-294 476.5,-300 470.5,-306 464.5,-306\"/>\r\n",
       "<text text-anchor=\"middle\" x=\"411.5\" y=\"-290.8\" font-family=\"Helvetica,sans-Serif\" font-size=\"14.00\">margem &lt;= 1.921</text>\r\n",
       "<text text-anchor=\"middle\" x=\"411.5\" y=\"-275.8\" font-family=\"Helvetica,sans-Serif\" font-size=\"14.00\">gini = 0.292</text>\r\n",
       "<text text-anchor=\"middle\" x=\"411.5\" y=\"-260.8\" font-family=\"Helvetica,sans-Serif\" font-size=\"14.00\">samples = 615</text>\r\n",
       "<text text-anchor=\"middle\" x=\"411.5\" y=\"-245.8\" font-family=\"Helvetica,sans-Serif\" font-size=\"14.00\">value = [506, 109]</text>\r\n",
       "<text text-anchor=\"middle\" x=\"411.5\" y=\"-230.8\" font-family=\"Helvetica,sans-Serif\" font-size=\"14.00\">class = não</text>\r\n",
       "</g>\r\n",
       "<!-- 0&#45;&gt;1 -->\r\n",
       "<g id=\"edge1\" class=\"edge\"><title>0&#45;&gt;1</title>\r\n",
       "<path fill=\"none\" stroke=\"black\" d=\"M475.499,-341.907C467.898,-332.832 459.764,-323.121 451.931,-313.769\"/>\r\n",
       "<polygon fill=\"black\" stroke=\"black\" points=\"454.545,-311.439 445.441,-306.021 449.179,-315.934 454.545,-311.439\"/>\r\n",
       "<text text-anchor=\"middle\" x=\"443.24\" y=\"-327.224\" font-family=\"Helvetica,sans-Serif\" font-size=\"14.00\">True</text>\r\n",
       "</g>\r\n",
       "<!-- 8 -->\r\n",
       "<g id=\"node9\" class=\"node\"><title>8</title>\r\n",
       "<path fill=\"#399de5\" fill-opacity=\"0.945098\" stroke=\"black\" d=\"M661.5,-306C661.5,-306 555.5,-306 555.5,-306 549.5,-306 543.5,-300 543.5,-294 543.5,-294 543.5,-235 543.5,-235 543.5,-229 549.5,-223 555.5,-223 555.5,-223 661.5,-223 661.5,-223 667.5,-223 673.5,-229 673.5,-235 673.5,-235 673.5,-294 673.5,-294 673.5,-300 667.5,-306 661.5,-306\"/>\r\n",
       "<text text-anchor=\"middle\" x=\"608.5\" y=\"-290.8\" font-family=\"Helvetica,sans-Serif\" font-size=\"14.00\">prcunit &lt;= 11.47</text>\r\n",
       "<text text-anchor=\"middle\" x=\"608.5\" y=\"-275.8\" font-family=\"Helvetica,sans-Serif\" font-size=\"14.00\">gini = 0.1</text>\r\n",
       "<text text-anchor=\"middle\" x=\"608.5\" y=\"-260.8\" font-family=\"Helvetica,sans-Serif\" font-size=\"14.00\">samples = 1361</text>\r\n",
       "<text text-anchor=\"middle\" x=\"608.5\" y=\"-245.8\" font-family=\"Helvetica,sans-Serif\" font-size=\"14.00\">value = [72, 1289]</text>\r\n",
       "<text text-anchor=\"middle\" x=\"608.5\" y=\"-230.8\" font-family=\"Helvetica,sans-Serif\" font-size=\"14.00\">class = sim</text>\r\n",
       "</g>\r\n",
       "<!-- 0&#45;&gt;8 -->\r\n",
       "<g id=\"edge8\" class=\"edge\"><title>0&#45;&gt;8</title>\r\n",
       "<path fill=\"none\" stroke=\"black\" d=\"M543.848,-341.907C551.526,-332.832 559.744,-323.121 567.657,-313.769\"/>\r\n",
       "<polygon fill=\"black\" stroke=\"black\" points=\"570.426,-315.916 574.213,-306.021 565.082,-311.394 570.426,-315.916\"/>\r\n",
       "<text text-anchor=\"middle\" x=\"576.289\" y=\"-327.234\" font-family=\"Helvetica,sans-Serif\" font-size=\"14.00\">False</text>\r\n",
       "</g>\r\n",
       "<!-- 2 -->\r\n",
       "<g id=\"node3\" class=\"node\"><title>2</title>\r\n",
       "<path fill=\"#e58139\" fill-opacity=\"0.996078\" stroke=\"black\" d=\"M232.5,-187C232.5,-187 134.5,-187 134.5,-187 128.5,-187 122.5,-181 122.5,-175 122.5,-175 122.5,-116 122.5,-116 122.5,-110 128.5,-104 134.5,-104 134.5,-104 232.5,-104 232.5,-104 238.5,-104 244.5,-110 244.5,-116 244.5,-116 244.5,-175 244.5,-175 244.5,-181 238.5,-187 232.5,-187\"/>\r\n",
       "<text text-anchor=\"middle\" x=\"183.5\" y=\"-171.8\" font-family=\"Helvetica,sans-Serif\" font-size=\"14.00\">margem &lt;= 1.61</text>\r\n",
       "<text text-anchor=\"middle\" x=\"183.5\" y=\"-156.8\" font-family=\"Helvetica,sans-Serif\" font-size=\"14.00\">gini = 0.006</text>\r\n",
       "<text text-anchor=\"middle\" x=\"183.5\" y=\"-141.8\" font-family=\"Helvetica,sans-Serif\" font-size=\"14.00\">samples = 355</text>\r\n",
       "<text text-anchor=\"middle\" x=\"183.5\" y=\"-126.8\" font-family=\"Helvetica,sans-Serif\" font-size=\"14.00\">value = [354, 1]</text>\r\n",
       "<text text-anchor=\"middle\" x=\"183.5\" y=\"-111.8\" font-family=\"Helvetica,sans-Serif\" font-size=\"14.00\">class = não</text>\r\n",
       "</g>\r\n",
       "<!-- 1&#45;&gt;2 -->\r\n",
       "<g id=\"edge2\" class=\"edge\"><title>1&#45;&gt;2</title>\r\n",
       "<path fill=\"none\" stroke=\"black\" d=\"M346.469,-230.129C317.484,-215.255 283.283,-197.705 253.716,-182.532\"/>\r\n",
       "<polygon fill=\"black\" stroke=\"black\" points=\"255.195,-179.357 244.7,-177.905 251.999,-185.585 255.195,-179.357\"/>\r\n",
       "</g>\r\n",
       "<!-- 5 -->\r\n",
       "<g id=\"node6\" class=\"node\"><title>5</title>\r\n",
       "<path fill=\"#e58139\" fill-opacity=\"0.290196\" stroke=\"black\" d=\"M464.5,-187C464.5,-187 358.5,-187 358.5,-187 352.5,-187 346.5,-181 346.5,-175 346.5,-175 346.5,-116 346.5,-116 346.5,-110 352.5,-104 358.5,-104 358.5,-104 464.5,-104 464.5,-104 470.5,-104 476.5,-110 476.5,-116 476.5,-116 476.5,-175 476.5,-175 476.5,-181 470.5,-187 464.5,-187\"/>\r\n",
       "<text text-anchor=\"middle\" x=\"411.5\" y=\"-171.8\" font-family=\"Helvetica,sans-Serif\" font-size=\"14.00\">total &lt;= 510.675</text>\r\n",
       "<text text-anchor=\"middle\" x=\"411.5\" y=\"-156.8\" font-family=\"Helvetica,sans-Serif\" font-size=\"14.00\">gini = 0.486</text>\r\n",
       "<text text-anchor=\"middle\" x=\"411.5\" y=\"-141.8\" font-family=\"Helvetica,sans-Serif\" font-size=\"14.00\">samples = 260</text>\r\n",
       "<text text-anchor=\"middle\" x=\"411.5\" y=\"-126.8\" font-family=\"Helvetica,sans-Serif\" font-size=\"14.00\">value = [152, 108]</text>\r\n",
       "<text text-anchor=\"middle\" x=\"411.5\" y=\"-111.8\" font-family=\"Helvetica,sans-Serif\" font-size=\"14.00\">class = não</text>\r\n",
       "</g>\r\n",
       "<!-- 1&#45;&gt;5 -->\r\n",
       "<g id=\"edge5\" class=\"edge\"><title>1&#45;&gt;5</title>\r\n",
       "<path fill=\"none\" stroke=\"black\" d=\"M411.5,-222.907C411.5,-214.649 411.5,-205.864 411.5,-197.302\"/>\r\n",
       "<polygon fill=\"black\" stroke=\"black\" points=\"415,-197.021 411.5,-187.021 408,-197.021 415,-197.021\"/>\r\n",
       "</g>\r\n",
       "<!-- 3 -->\r\n",
       "<g id=\"node4\" class=\"node\"><title>3</title>\r\n",
       "<path fill=\"#e58139\" stroke=\"black\" d=\"M101,-68C101,-68 12,-68 12,-68 6,-68 0,-62 0,-56 0,-56 0,-12 0,-12 0,-6 6,-0 12,-0 12,-0 101,-0 101,-0 107,-0 113,-6 113,-12 113,-12 113,-56 113,-56 113,-62 107,-68 101,-68\"/>\r\n",
       "<text text-anchor=\"middle\" x=\"56.5\" y=\"-52.8\" font-family=\"Helvetica,sans-Serif\" font-size=\"14.00\">gini = 0.0</text>\r\n",
       "<text text-anchor=\"middle\" x=\"56.5\" y=\"-37.8\" font-family=\"Helvetica,sans-Serif\" font-size=\"14.00\">samples = 339</text>\r\n",
       "<text text-anchor=\"middle\" x=\"56.5\" y=\"-22.8\" font-family=\"Helvetica,sans-Serif\" font-size=\"14.00\">value = [339, 0]</text>\r\n",
       "<text text-anchor=\"middle\" x=\"56.5\" y=\"-7.8\" font-family=\"Helvetica,sans-Serif\" font-size=\"14.00\">class = não</text>\r\n",
       "</g>\r\n",
       "<!-- 2&#45;&gt;3 -->\r\n",
       "<g id=\"edge3\" class=\"edge\"><title>2&#45;&gt;3</title>\r\n",
       "<path fill=\"none\" stroke=\"black\" d=\"M136.21,-103.726C125.314,-94.3318 113.736,-84.349 102.879,-74.9883\"/>\r\n",
       "<polygon fill=\"black\" stroke=\"black\" points=\"104.981,-72.1789 95.1215,-68.2996 100.41,-77.4804 104.981,-72.1789\"/>\r\n",
       "</g>\r\n",
       "<!-- 4 -->\r\n",
       "<g id=\"node5\" class=\"node\"><title>4</title>\r\n",
       "<path fill=\"#e58139\" fill-opacity=\"0.933333\" stroke=\"black\" d=\"M224,-68C224,-68 143,-68 143,-68 137,-68 131,-62 131,-56 131,-56 131,-12 131,-12 131,-6 137,-0 143,-0 143,-0 224,-0 224,-0 230,-0 236,-6 236,-12 236,-12 236,-56 236,-56 236,-62 230,-68 224,-68\"/>\r\n",
       "<text text-anchor=\"middle\" x=\"183.5\" y=\"-52.8\" font-family=\"Helvetica,sans-Serif\" font-size=\"14.00\">gini = 0.117</text>\r\n",
       "<text text-anchor=\"middle\" x=\"183.5\" y=\"-37.8\" font-family=\"Helvetica,sans-Serif\" font-size=\"14.00\">samples = 16</text>\r\n",
       "<text text-anchor=\"middle\" x=\"183.5\" y=\"-22.8\" font-family=\"Helvetica,sans-Serif\" font-size=\"14.00\">value = [15, 1]</text>\r\n",
       "<text text-anchor=\"middle\" x=\"183.5\" y=\"-7.8\" font-family=\"Helvetica,sans-Serif\" font-size=\"14.00\">class = não</text>\r\n",
       "</g>\r\n",
       "<!-- 2&#45;&gt;4 -->\r\n",
       "<g id=\"edge4\" class=\"edge\"><title>2&#45;&gt;4</title>\r\n",
       "<path fill=\"none\" stroke=\"black\" d=\"M183.5,-103.726C183.5,-95.5175 183.5,-86.8595 183.5,-78.56\"/>\r\n",
       "<polygon fill=\"black\" stroke=\"black\" points=\"187,-78.2996 183.5,-68.2996 180,-78.2996 187,-78.2996\"/>\r\n",
       "</g>\r\n",
       "<!-- 6 -->\r\n",
       "<g id=\"node7\" class=\"node\"><title>6</title>\r\n",
       "<path fill=\"#399de5\" fill-opacity=\"0.584314\" stroke=\"black\" d=\"M355,-68C355,-68 266,-68 266,-68 260,-68 254,-62 254,-56 254,-56 254,-12 254,-12 254,-6 260,-0 266,-0 266,-0 355,-0 355,-0 361,-0 367,-6 367,-12 367,-12 367,-56 367,-56 367,-62 361,-68 355,-68\"/>\r\n",
       "<text text-anchor=\"middle\" x=\"310.5\" y=\"-52.8\" font-family=\"Helvetica,sans-Serif\" font-size=\"14.00\">gini = 0.415</text>\r\n",
       "<text text-anchor=\"middle\" x=\"310.5\" y=\"-37.8\" font-family=\"Helvetica,sans-Serif\" font-size=\"14.00\">samples = 109</text>\r\n",
       "<text text-anchor=\"middle\" x=\"310.5\" y=\"-22.8\" font-family=\"Helvetica,sans-Serif\" font-size=\"14.00\">value = [32, 77]</text>\r\n",
       "<text text-anchor=\"middle\" x=\"310.5\" y=\"-7.8\" font-family=\"Helvetica,sans-Serif\" font-size=\"14.00\">class = sim</text>\r\n",
       "</g>\r\n",
       "<!-- 5&#45;&gt;6 -->\r\n",
       "<g id=\"edge6\" class=\"edge\"><title>5&#45;&gt;6</title>\r\n",
       "<path fill=\"none\" stroke=\"black\" d=\"M373.891,-103.726C365.479,-94.6054 356.554,-84.93 348.14,-75.8078\"/>\r\n",
       "<polygon fill=\"black\" stroke=\"black\" points=\"350.567,-73.2772 341.215,-68.2996 345.422,-78.0232 350.567,-73.2772\"/>\r\n",
       "</g>\r\n",
       "<!-- 7 -->\r\n",
       "<g id=\"node8\" class=\"node\"><title>7</title>\r\n",
       "<path fill=\"#e58139\" fill-opacity=\"0.741176\" stroke=\"black\" d=\"M495.5,-68C495.5,-68 397.5,-68 397.5,-68 391.5,-68 385.5,-62 385.5,-56 385.5,-56 385.5,-12 385.5,-12 385.5,-6 391.5,-0 397.5,-0 397.5,-0 495.5,-0 495.5,-0 501.5,-0 507.5,-6 507.5,-12 507.5,-12 507.5,-56 507.5,-56 507.5,-62 501.5,-68 495.5,-68\"/>\r\n",
       "<text text-anchor=\"middle\" x=\"446.5\" y=\"-52.8\" font-family=\"Helvetica,sans-Serif\" font-size=\"14.00\">gini = 0.326</text>\r\n",
       "<text text-anchor=\"middle\" x=\"446.5\" y=\"-37.8\" font-family=\"Helvetica,sans-Serif\" font-size=\"14.00\">samples = 151</text>\r\n",
       "<text text-anchor=\"middle\" x=\"446.5\" y=\"-22.8\" font-family=\"Helvetica,sans-Serif\" font-size=\"14.00\">value = [120, 31]</text>\r\n",
       "<text text-anchor=\"middle\" x=\"446.5\" y=\"-7.8\" font-family=\"Helvetica,sans-Serif\" font-size=\"14.00\">class = não</text>\r\n",
       "</g>\r\n",
       "<!-- 5&#45;&gt;7 -->\r\n",
       "<g id=\"edge7\" class=\"edge\"><title>5&#45;&gt;7</title>\r\n",
       "<path fill=\"none\" stroke=\"black\" d=\"M424.533,-103.726C427.215,-95.3351 430.047,-86.4745 432.753,-78.0072\"/>\r\n",
       "<polygon fill=\"black\" stroke=\"black\" points=\"436.145,-78.8905 435.856,-68.2996 429.478,-76.7592 436.145,-78.8905\"/>\r\n",
       "</g>\r\n",
       "<!-- 9 -->\r\n",
       "<g id=\"node10\" class=\"node\"><title>9</title>\r\n",
       "<path fill=\"#399de5\" fill-opacity=\"0.996078\" stroke=\"black\" d=\"M661.5,-187C661.5,-187 555.5,-187 555.5,-187 549.5,-187 543.5,-181 543.5,-175 543.5,-175 543.5,-116 543.5,-116 543.5,-110 549.5,-104 555.5,-104 555.5,-104 661.5,-104 661.5,-104 667.5,-104 673.5,-110 673.5,-116 673.5,-116 673.5,-175 673.5,-175 673.5,-181 667.5,-187 661.5,-187\"/>\r\n",
       "<text text-anchor=\"middle\" x=\"608.5\" y=\"-171.8\" font-family=\"Helvetica,sans-Serif\" font-size=\"14.00\">margem &lt;= 4.193</text>\r\n",
       "<text text-anchor=\"middle\" x=\"608.5\" y=\"-156.8\" font-family=\"Helvetica,sans-Serif\" font-size=\"14.00\">gini = 0.011</text>\r\n",
       "<text text-anchor=\"middle\" x=\"608.5\" y=\"-141.8\" font-family=\"Helvetica,sans-Serif\" font-size=\"14.00\">samples = 868</text>\r\n",
       "<text text-anchor=\"middle\" x=\"608.5\" y=\"-126.8\" font-family=\"Helvetica,sans-Serif\" font-size=\"14.00\">value = [5, 863]</text>\r\n",
       "<text text-anchor=\"middle\" x=\"608.5\" y=\"-111.8\" font-family=\"Helvetica,sans-Serif\" font-size=\"14.00\">class = sim</text>\r\n",
       "</g>\r\n",
       "<!-- 8&#45;&gt;9 -->\r\n",
       "<g id=\"edge9\" class=\"edge\"><title>8&#45;&gt;9</title>\r\n",
       "<path fill=\"none\" stroke=\"black\" d=\"M608.5,-222.907C608.5,-214.649 608.5,-205.864 608.5,-197.302\"/>\r\n",
       "<polygon fill=\"black\" stroke=\"black\" points=\"612,-197.021 608.5,-187.021 605,-197.021 612,-197.021\"/>\r\n",
       "</g>\r\n",
       "<!-- 12 -->\r\n",
       "<g id=\"node13\" class=\"node\"><title>12</title>\r\n",
       "<path fill=\"#399de5\" fill-opacity=\"0.843137\" stroke=\"black\" d=\"M877.5,-187C877.5,-187 779.5,-187 779.5,-187 773.5,-187 767.5,-181 767.5,-175 767.5,-175 767.5,-116 767.5,-116 767.5,-110 773.5,-104 779.5,-104 779.5,-104 877.5,-104 877.5,-104 883.5,-104 889.5,-110 889.5,-116 889.5,-116 889.5,-175 889.5,-175 889.5,-181 883.5,-187 877.5,-187\"/>\r\n",
       "<text text-anchor=\"middle\" x=\"828.5\" y=\"-171.8\" font-family=\"Helvetica,sans-Serif\" font-size=\"14.00\">prcunit &lt;= 17.59</text>\r\n",
       "<text text-anchor=\"middle\" x=\"828.5\" y=\"-156.8\" font-family=\"Helvetica,sans-Serif\" font-size=\"14.00\">gini = 0.235</text>\r\n",
       "<text text-anchor=\"middle\" x=\"828.5\" y=\"-141.8\" font-family=\"Helvetica,sans-Serif\" font-size=\"14.00\">samples = 493</text>\r\n",
       "<text text-anchor=\"middle\" x=\"828.5\" y=\"-126.8\" font-family=\"Helvetica,sans-Serif\" font-size=\"14.00\">value = [67, 426]</text>\r\n",
       "<text text-anchor=\"middle\" x=\"828.5\" y=\"-111.8\" font-family=\"Helvetica,sans-Serif\" font-size=\"14.00\">class = sim</text>\r\n",
       "</g>\r\n",
       "<!-- 8&#45;&gt;12 -->\r\n",
       "<g id=\"edge12\" class=\"edge\"><title>8&#45;&gt;12</title>\r\n",
       "<path fill=\"none\" stroke=\"black\" d=\"M673.614,-228.871C700.252,-214.705 731.128,-198.284 758.271,-183.849\"/>\r\n",
       "<polygon fill=\"black\" stroke=\"black\" points=\"760.136,-186.821 767.322,-179.036 756.849,-180.641 760.136,-186.821\"/>\r\n",
       "</g>\r\n",
       "<!-- 10 -->\r\n",
       "<g id=\"node11\" class=\"node\"><title>10</title>\r\n",
       "<path fill=\"#e58139\" stroke=\"black\" d=\"M611,-68C611,-68 538,-68 538,-68 532,-68 526,-62 526,-56 526,-56 526,-12 526,-12 526,-6 532,-0 538,-0 538,-0 611,-0 611,-0 617,-0 623,-6 623,-12 623,-12 623,-56 623,-56 623,-62 617,-68 611,-68\"/>\r\n",
       "<text text-anchor=\"middle\" x=\"574.5\" y=\"-52.8\" font-family=\"Helvetica,sans-Serif\" font-size=\"14.00\">gini = 0.0</text>\r\n",
       "<text text-anchor=\"middle\" x=\"574.5\" y=\"-37.8\" font-family=\"Helvetica,sans-Serif\" font-size=\"14.00\">samples = 4</text>\r\n",
       "<text text-anchor=\"middle\" x=\"574.5\" y=\"-22.8\" font-family=\"Helvetica,sans-Serif\" font-size=\"14.00\">value = [4, 0]</text>\r\n",
       "<text text-anchor=\"middle\" x=\"574.5\" y=\"-7.8\" font-family=\"Helvetica,sans-Serif\" font-size=\"14.00\">class = não</text>\r\n",
       "</g>\r\n",
       "<!-- 9&#45;&gt;10 -->\r\n",
       "<g id=\"edge10\" class=\"edge\"><title>9&#45;&gt;10</title>\r\n",
       "<path fill=\"none\" stroke=\"black\" d=\"M595.84,-103.726C593.234,-95.3351 590.483,-86.4745 587.854,-78.0072\"/>\r\n",
       "<polygon fill=\"black\" stroke=\"black\" points=\"591.148,-76.8119 584.84,-68.2996 584.462,-78.8877 591.148,-76.8119\"/>\r\n",
       "</g>\r\n",
       "<!-- 11 -->\r\n",
       "<g id=\"node12\" class=\"node\"><title>11</title>\r\n",
       "<path fill=\"#399de5\" stroke=\"black\" d=\"M742,-68C742,-68 653,-68 653,-68 647,-68 641,-62 641,-56 641,-56 641,-12 641,-12 641,-6 647,-0 653,-0 653,-0 742,-0 742,-0 748,-0 754,-6 754,-12 754,-12 754,-56 754,-56 754,-62 748,-68 742,-68\"/>\r\n",
       "<text text-anchor=\"middle\" x=\"697.5\" y=\"-52.8\" font-family=\"Helvetica,sans-Serif\" font-size=\"14.00\">gini = 0.002</text>\r\n",
       "<text text-anchor=\"middle\" x=\"697.5\" y=\"-37.8\" font-family=\"Helvetica,sans-Serif\" font-size=\"14.00\">samples = 864</text>\r\n",
       "<text text-anchor=\"middle\" x=\"697.5\" y=\"-22.8\" font-family=\"Helvetica,sans-Serif\" font-size=\"14.00\">value = [1, 863]</text>\r\n",
       "<text text-anchor=\"middle\" x=\"697.5\" y=\"-7.8\" font-family=\"Helvetica,sans-Serif\" font-size=\"14.00\">class = sim</text>\r\n",
       "</g>\r\n",
       "<!-- 9&#45;&gt;11 -->\r\n",
       "<g id=\"edge11\" class=\"edge\"><title>9&#45;&gt;11</title>\r\n",
       "<path fill=\"none\" stroke=\"black\" d=\"M641.64,-103.726C648.979,-94.6966 656.76,-85.1235 664.109,-76.0816\"/>\r\n",
       "<polygon fill=\"black\" stroke=\"black\" points=\"666.843,-78.2672 670.435,-68.2996 661.411,-73.8521 666.843,-78.2672\"/>\r\n",
       "</g>\r\n",
       "<!-- 13 -->\r\n",
       "<g id=\"node14\" class=\"node\"><title>13</title>\r\n",
       "<path fill=\"#399de5\" fill-opacity=\"0.486275\" stroke=\"black\" d=\"M873,-68C873,-68 784,-68 784,-68 778,-68 772,-62 772,-56 772,-56 772,-12 772,-12 772,-6 778,-0 784,-0 784,-0 873,-0 873,-0 879,-0 885,-6 885,-12 885,-12 885,-56 885,-56 885,-62 879,-68 873,-68\"/>\r\n",
       "<text text-anchor=\"middle\" x=\"828.5\" y=\"-52.8\" font-family=\"Helvetica,sans-Serif\" font-size=\"14.00\">gini = 0.449</text>\r\n",
       "<text text-anchor=\"middle\" x=\"828.5\" y=\"-37.8\" font-family=\"Helvetica,sans-Serif\" font-size=\"14.00\">samples = 150</text>\r\n",
       "<text text-anchor=\"middle\" x=\"828.5\" y=\"-22.8\" font-family=\"Helvetica,sans-Serif\" font-size=\"14.00\">value = [51, 99]</text>\r\n",
       "<text text-anchor=\"middle\" x=\"828.5\" y=\"-7.8\" font-family=\"Helvetica,sans-Serif\" font-size=\"14.00\">class = sim</text>\r\n",
       "</g>\r\n",
       "<!-- 12&#45;&gt;13 -->\r\n",
       "<g id=\"edge13\" class=\"edge\"><title>12&#45;&gt;13</title>\r\n",
       "<path fill=\"none\" stroke=\"black\" d=\"M828.5,-103.726C828.5,-95.5175 828.5,-86.8595 828.5,-78.56\"/>\r\n",
       "<polygon fill=\"black\" stroke=\"black\" points=\"832,-78.2996 828.5,-68.2996 825,-78.2996 832,-78.2996\"/>\r\n",
       "</g>\r\n",
       "<!-- 14 -->\r\n",
       "<g id=\"node15\" class=\"node\"><title>14</title>\r\n",
       "<path fill=\"#399de5\" fill-opacity=\"0.952941\" stroke=\"black\" d=\"M1013.5,-68C1013.5,-68 915.5,-68 915.5,-68 909.5,-68 903.5,-62 903.5,-56 903.5,-56 903.5,-12 903.5,-12 903.5,-6 909.5,-0 915.5,-0 915.5,-0 1013.5,-0 1013.5,-0 1019.5,-0 1025.5,-6 1025.5,-12 1025.5,-12 1025.5,-56 1025.5,-56 1025.5,-62 1019.5,-68 1013.5,-68\"/>\r\n",
       "<text text-anchor=\"middle\" x=\"964.5\" y=\"-52.8\" font-family=\"Helvetica,sans-Serif\" font-size=\"14.00\">gini = 0.089</text>\r\n",
       "<text text-anchor=\"middle\" x=\"964.5\" y=\"-37.8\" font-family=\"Helvetica,sans-Serif\" font-size=\"14.00\">samples = 343</text>\r\n",
       "<text text-anchor=\"middle\" x=\"964.5\" y=\"-22.8\" font-family=\"Helvetica,sans-Serif\" font-size=\"14.00\">value = [16, 327]</text>\r\n",
       "<text text-anchor=\"middle\" x=\"964.5\" y=\"-7.8\" font-family=\"Helvetica,sans-Serif\" font-size=\"14.00\">class = sim</text>\r\n",
       "</g>\r\n",
       "<!-- 12&#45;&gt;14 -->\r\n",
       "<g id=\"edge14\" class=\"edge\"><title>12&#45;&gt;14</title>\r\n",
       "<path fill=\"none\" stroke=\"black\" d=\"M879.141,-103.726C890.923,-94.2406 903.449,-84.1551 915.173,-74.7159\"/>\r\n",
       "<polygon fill=\"black\" stroke=\"black\" points=\"917.547,-77.2972 923.142,-68.2996 913.157,-71.8448 917.547,-77.2972\"/>\r\n",
       "</g>\r\n",
       "</g>\r\n",
       "</svg>\r\n"
      ],
      "text/plain": [
       "<graphviz.files.Source at 0x176a88e6390>"
      ]
     },
     "execution_count": 44,
     "metadata": {},
     "output_type": "execute_result"
    }
   ],
   "source": [
    "graph"
   ]
  },
  {
   "cell_type": "code",
   "execution_count": 45,
   "metadata": {},
   "outputs": [],
   "source": [
    "# Rank dos tributos mais relevantes"
   ]
  },
  {
   "cell_type": "code",
   "execution_count": 46,
   "metadata": {},
   "outputs": [
    {
     "data": {
      "text/html": [
       "<div>\n",
       "<style scoped>\n",
       "    .dataframe tbody tr th:only-of-type {\n",
       "        vertical-align: middle;\n",
       "    }\n",
       "\n",
       "    .dataframe tbody tr th {\n",
       "        vertical-align: top;\n",
       "    }\n",
       "\n",
       "    .dataframe thead th {\n",
       "        text-align: right;\n",
       "    }\n",
       "</style>\n",
       "<table border=\"1\" class=\"dataframe\">\n",
       "  <thead>\n",
       "    <tr style=\"text-align: right;\">\n",
       "      <th></th>\n",
       "      <th>value</th>\n",
       "    </tr>\n",
       "  </thead>\n",
       "  <tbody>\n",
       "    <tr>\n",
       "      <th>prcunit</th>\n",
       "      <td>0.856599</td>\n",
       "    </tr>\n",
       "    <tr>\n",
       "      <th>margem</th>\n",
       "      <td>0.093147</td>\n",
       "    </tr>\n",
       "    <tr>\n",
       "      <th>total</th>\n",
       "      <td>0.050254</td>\n",
       "    </tr>\n",
       "    <tr>\n",
       "      <th>mes</th>\n",
       "      <td>0.000000</td>\n",
       "    </tr>\n",
       "    <tr>\n",
       "      <th>ano</th>\n",
       "      <td>0.000000</td>\n",
       "    </tr>\n",
       "    <tr>\n",
       "      <th>produto</th>\n",
       "      <td>0.000000</td>\n",
       "    </tr>\n",
       "    <tr>\n",
       "      <th>qtde</th>\n",
       "      <td>0.000000</td>\n",
       "    </tr>\n",
       "    <tr>\n",
       "      <th>custounit</th>\n",
       "      <td>0.000000</td>\n",
       "    </tr>\n",
       "    <tr>\n",
       "      <th>estoque</th>\n",
       "      <td>0.000000</td>\n",
       "    </tr>\n",
       "  </tbody>\n",
       "</table>\n",
       "</div>"
      ],
      "text/plain": [
       "              value\n",
       "prcunit    0.856599\n",
       "margem     0.093147\n",
       "total      0.050254\n",
       "mes        0.000000\n",
       "ano        0.000000\n",
       "produto    0.000000\n",
       "qtde       0.000000\n",
       "custounit  0.000000\n",
       "estoque    0.000000"
      ]
     },
     "execution_count": 46,
     "metadata": {},
     "output_type": "execute_result"
    }
   ],
   "source": [
    "df_import_features = dict(zip(train.drop(['compra'],axis=1), dtc.feature_importances_))\n",
    "df_import_features = pd.DataFrame.from_dict(df_import_features, orient='index', columns = ['value'])\n",
    "df_import_features = df_import_features.sort_values(['value'], ascending=False)\n",
    "df_import_features"
   ]
  },
  {
   "cell_type": "code",
   "execution_count": 47,
   "metadata": {},
   "outputs": [],
   "source": [
    "# Plotar atributos mais relevantes"
   ]
  },
  {
   "cell_type": "code",
   "execution_count": 48,
   "metadata": {},
   "outputs": [],
   "source": [
    "import numpy as np\n",
    "import pandas as pd\n",
    "import seaborn as sns\n",
    "import matplotlib.pyplot as plt\n",
    "%matplotlib inline\n",
    "import warnings\n",
    "warnings.filterwarnings('ignore')"
   ]
  },
  {
   "cell_type": "code",
   "execution_count": 49,
   "metadata": {},
   "outputs": [
    {
     "data": {
      "image/png": "[encoded data removed]",
      "text/plain": [
       "<Figure size 432x288 with 1 Axes>"
      ]
     },
     "metadata": {
      "needs_background": "light"
     },
     "output_type": "display_data"
    }
   ],
   "source": [
    "ax = sns.scatterplot(x=train[\"margem\"], y=train[\"prcunit\"], hue=\"compra\",data=train)"
   ]
  },
  {
   "cell_type": "code",
   "execution_count": 50,
   "metadata": {},
   "outputs": [
    {
     "data": {
      "image/png": "[encoded data removed]",
      "text/plain": [
       "<Figure size 432x288 with 1 Axes>"
      ]
     },
     "metadata": {
      "needs_background": "light"
     },
     "output_type": "display_data"
    }
   ],
   "source": [
    "ax = sns.scatterplot(x=train[\"qtde\"], y=train[\"prcunit\"], hue=\"compra\",data=train)"
   ]
  },
  {
   "cell_type": "code",
   "execution_count": 51,
   "metadata": {},
   "outputs": [
    {
     "data": {
      "image/png": "[encoded data removed]",
      "text/plain": [
       "<Figure size 432x288 with 1 Axes>"
      ]
     },
     "metadata": {
      "needs_background": "light"
     },
     "output_type": "display_data"
    }
   ],
   "source": [
    "ax = sns.scatterplot(x=train[\"qtde\"], y=train[\"estoque\"], hue=\"compra\",data=train)"
   ]
  },
  {
   "cell_type": "code",
   "execution_count": 52,
   "metadata": {},
   "outputs": [
    {
     "data": {
      "image/png": "[encoded data removed]",
      "text/plain": [
       "<Figure size 432x288 with 1 Axes>"
      ]
     },
     "metadata": {
      "needs_background": "light"
     },
     "output_type": "display_data"
    }
   ],
   "source": [
    "ax = sns.scatterplot(x=train[\"margem\"], y=train[\"estoque\"], hue=\"compra\",data=train)"
   ]
  },
  {
   "cell_type": "code",
   "execution_count": 53,
   "metadata": {},
   "outputs": [],
   "source": [
    "#Teste unitário do modelto."
   ]
  },
  {
   "cell_type": "code",
   "execution_count": 54,
   "metadata": {},
   "outputs": [
    {
     "data": {
      "text/html": [
       "<div>\n",
       "<style scoped>\n",
       "    .dataframe tbody tr th:only-of-type {\n",
       "        vertical-align: middle;\n",
       "    }\n",
       "\n",
       "    .dataframe tbody tr th {\n",
       "        vertical-align: top;\n",
       "    }\n",
       "\n",
       "    .dataframe thead th {\n",
       "        text-align: right;\n",
       "    }\n",
       "</style>\n",
       "<table border=\"1\" class=\"dataframe\">\n",
       "  <thead>\n",
       "    <tr style=\"text-align: right;\">\n",
       "      <th></th>\n",
       "      <th>mes</th>\n",
       "      <th>ano</th>\n",
       "      <th>produto</th>\n",
       "      <th>qtde</th>\n",
       "      <th>prcunit</th>\n",
       "      <th>total</th>\n",
       "      <th>custounit</th>\n",
       "      <th>margem</th>\n",
       "      <th>estoque</th>\n",
       "      <th>compra</th>\n",
       "    </tr>\n",
       "  </thead>\n",
       "  <tbody>\n",
       "  </tbody>\n",
       "</table>\n",
       "</div>"
      ],
      "text/plain": [
       "Empty DataFrame\n",
       "Columns: [mes, ano, produto, qtde, prcunit, total, custounit, margem, estoque, compra]\n",
       "Index: []"
      ]
     },
     "execution_count": 54,
     "metadata": {},
     "output_type": "execute_result"
    }
   ],
   "source": [
    "train.head(0)"
   ]
  },
  {
   "cell_type": "code",
   "execution_count": 55,
   "metadata": {},
   "outputs": [],
   "source": [
    "# Criar um produto1 contendo informações do produto a ser analisado pelo modelo.\n",
    "produto1 = [1,2019,4391,11,4.11,45.21,6.4655,-2.3555,260]\n",
    "produto2 = [8,2019,7,11,4.11,45.21,8.55,4.52,160,]"
   ]
  },
  {
   "cell_type": "code",
   "execution_count": 56,
   "metadata": {},
   "outputs": [
    {
     "data": {
      "text/plain": [
       "array(['0'], dtype=object)"
      ]
     },
     "execution_count": 56,
     "metadata": {},
     "output_type": "execute_result"
    }
   ],
   "source": [
    "#Submetendo o Produto1 para o modelo analisar se comprar ou não. [0] = Nao compra  [1] = Compra\n",
    "dtc.predict([produto1])"
   ]
  },
  {
   "cell_type": "code",
   "execution_count": 57,
   "metadata": {
    "scrolled": true
   },
   "outputs": [
    {
     "data": {
      "text/plain": [
       "array(['1'], dtype=object)"
      ]
     },
     "execution_count": 57,
     "metadata": {},
     "output_type": "execute_result"
    }
   ],
   "source": [
    "#Submetendo o Produto2 para o modelo analisar se comprar ou não. [0] = Nao compra  [1] = Compra\n",
    "dtc.predict([produto2])"
   ]
  },
  {
   "cell_type": "code",
   "execution_count": null,
   "metadata": {},
   "outputs": [],
   "source": []
  }
 ],
 "metadata": {
  "anaconda-cloud": {},
  "kernelspec": {
   "display_name": "Python 3",
   "language": "python",
   "name": "python3"
  },
  "language_info": {
   "codemirror_mode": {
    "name": "ipython",
    "version": 3
   },
   "file_extension": ".py",
   "mimetype": "text/x-python",
   "name": "python",
   "nbconvert_exporter": "python",
   "pygments_lexer": "ipython3",
   "version": "3.7.3"
  }
 },
 "nbformat": 4,
 "nbformat_minor": 2
}
